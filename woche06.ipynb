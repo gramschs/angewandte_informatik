{
 "cells": [
  {
   "cell_type": "markdown",
   "id": "4ab73ef7-ec1a-4862-a306-083432d54b3d",
   "metadata": {},
   "source": [
    "# Woche 06 - Wiederholung\n",
    "\n",
    "### Aufgabe 6.1\n",
    "\n",
    "Wie lange muss man einen Würfel werfen, bis (zum ersten Mal) eine 6 erscheint?\n",
    "\n",
    "1. Schreiben Sie eine *Funktion*, die so lange würfelt, bis eine 6 erschienen ist. Als Rückgabe gibt die Funktion die Anzahl der Würfe zurück.\n",
    "\n",
    "2. Schreiben Sie anschließend ein *Programm*, bei dem ein Benutzer eingeben darf, wie oft der Würfelversuch in Schritt 1 durchgeführt werden soll. Anschließend wird die Funktion aus Schritt 1 so oft ausgeführt, wie vom Benutzer angegeben. Zuletzt wird der Mittelwert der Würfelversuche berechnet und ausgegeben.\n",
    "\n",
    "Beispiel:\n",
    "\n",
    "* Computer: \"Wie oft soll der Würfelversuch durchgeführt werden?\n",
    "* Benutzer: 7\n",
    "* Computer: \"Im Durchschnitt wurde nach 6,7 maligem Würfeln das erste Mal eine 6 gewürfelt.\"\n"
   ]
  },
  {
   "cell_type": "code",
   "execution_count": null,
   "id": "fd7f2174-884f-4110-9ed1-fa21bdb6ec2a",
   "metadata": {},
   "outputs": [],
   "source": [
    "\n"
   ]
  },
  {
   "cell_type": "markdown",
   "id": "0414445e-128b-4a7d-a01c-df6c9b78f890",
   "metadata": {},
   "source": [
    "### Aufgabe 6.2 Training Einmaleins\n",
    "\n",
    "1. Schreiben Sie eine *Funktion*, mit der das kleine Einmaleins geübt werden kann. Die Funktion soll als Eingabe die Anzahl der gewünschten Aufgaben haben und als Ausgabe die Anzahl der richtigen Antworten. Innerhalb der Funktion sollen dem Benutzer zufällige Einmaleins-Aufgaben gestellt werden. Es soll gleich eine Rückmeldung gegeben werden, ob das Ergebnis richtig oder falsch ist und ggf. was das richtige Ergebnis gewesen wäre.\n",
    "\n",
    "2. Schreiben Sie anschließend ein *Programm*, das den Benutzer fragt, wie viele 1x1-Aufgaben trainiert werden sollen. Anschließend wird die Funktion aus Schritt 1 aufgerufen. Am Ende soll der Benutzer darüber informiert werden, wie viel Prozent der Aufgaben richtig gelöst wurden."
   ]
  },
  {
   "cell_type": "code",
   "execution_count": null,
   "id": "e1ae1eec-c499-4fd2-8baf-ba7851c45512",
   "metadata": {},
   "outputs": [],
   "source": []
  },
  {
   "cell_type": "markdown",
   "id": "00a167ae-d23d-4eee-aad3-e78726437a59",
   "metadata": {},
   "source": [
    "### Aufgabe 6.3 Ableitungen\n",
    "\n",
    "Mit dem Modul `sympy` kann Python Funktionen ableiten. Dazu müssen die Variablen als sogenannte Symbole deklariert werden, also wenn $x$ die Variable sein soll, muss folgender Code einmalig ausgeführt werden:\n",
    "\n",
    "```python\n",
    "from sympy import *\n",
    "x = symbols('x')\n",
    "```\n",
    "\n",
    "Danach können mathematische Funktion mit der Sympy-Funktion `diff()`abgeleitet werden. Als erstes Argument kommt die mathematische Funktion, die abgeleitet werden soll und als zweites die Variable, nach der abgeleitet werden soll, z.B. lautet die Ableitung der Sinus-Funktion nach $x$:\n",
    "\n",
    "```python\n",
    "diff(sin(x), x) \n",
    "```\n",
    "\n",
    "Alles zusammen ist dann:"
   ]
  },
  {
   "cell_type": "code",
   "execution_count": null,
   "id": "1a8e67f6-85f7-417f-b7dd-1617ba87f28a",
   "metadata": {},
   "outputs": [],
   "source": [
    "from sympy import *\n",
    "x = symbols('x')\n",
    "\n",
    "diff(sin(x), x) "
   ]
  },
  {
   "cell_type": "markdown",
   "id": "99f97c64-3f79-4df9-8363-e04ecf268af1",
   "metadata": {},
   "source": [
    "Wenn ein zweites Mal abgeleitet werden soll, dann lautet der Aufruf\n",
    "\n",
    "`diff(sin(x), x, x)`\n",
    "\n",
    "Bei der dritten Ableitung `diff(sin(x), x, x, x)` usw.\n",
    "\n",
    "Schreiben Sie ein Programm, bei dem der Benutzer zuerst nach einer Funktion gefragt wird und dann danach, wie oft sie abgeleitet werden soll. Lassen Sie anschließend Sympy die gewünschte Ableitung der Funktion berechnen und geben Sie das Ergebnis auf dem Bildschirm aus. \n",
    "\n",
    "Beispiel:\n",
    "\n",
    "```\n",
    "Welche Funktion soll abgeleitet werden?  7*x*sin(x)\n",
    "Wie oft soll die Funktion abgeleitet werden? 1\n",
    "7*x*cos(x) + 7*sin(x)\n",
    "```"
   ]
  },
  {
   "cell_type": "code",
   "execution_count": null,
   "id": "a388f653-cdc3-4118-a18f-18c25e9f0121",
   "metadata": {},
   "outputs": [],
   "source": []
  },
  {
   "cell_type": "markdown",
   "id": "a381a65c-5907-417f-9b38-5cefd14e1691",
   "metadata": {},
   "source": [
    "### Aufgabe 6.4 Zahlenraten\n",
    "\n",
    "Schreiben Sie ein Programm, bei dem der Computer sich eine Zahl zwischen 1 und 100 ausdenkt (d.h. eine Zufallszahl zieht). Anschließend wird der Benutzer aufgefordert, die Zahl zu raten. Wenn die Zahl des Benutzers kleiner als die Zufallszahl des Computer ist, so gibt er den Hinweis: \"Meine Zahl ist größer.\". Wenn die Zahl des Benutzers größer ist als die Zufallszahl des Computers, so gibt er den Hinweis \"Meine Zahl ist kleiner.\" Sobald der Benutzer die Zahl richtig geraten hat, gibt der Computer den Hinweis \"Gratulation, die Zahl xx ist richtig! Sie haben xx Versuche gebraucht, um meine Zahl zu raten.\", wobei 'xx' jeweils durch die richtigen Zahlen ersetzt wird."
   ]
  },
  {
   "cell_type": "code",
   "execution_count": null,
   "id": "5b448627-08b0-43a2-a557-94bd31bd681a",
   "metadata": {},
   "outputs": [],
   "source": []
  }
 ],
 "metadata": {
  "kernelspec": {
   "display_name": "Python 3",
   "language": "python",
   "name": "python3"
  },
  "language_info": {
   "codemirror_mode": {
    "name": "ipython",
    "version": 3
   },
   "file_extension": ".py",
   "mimetype": "text/x-python",
   "name": "python",
   "nbconvert_exporter": "python",
   "pygments_lexer": "ipython3",
   "version": "3.8.3"
  }
 },
 "nbformat": 4,
 "nbformat_minor": 5
}
