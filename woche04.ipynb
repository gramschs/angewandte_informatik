{
 "cells": [
  {
   "cell_type": "markdown",
   "id": "ce0e31d3-2490-4b46-92d7-c2dde6a1e8ed",
   "metadata": {},
   "source": [
    "# 4 Digitale Logik und Schleifen mit Bedingungen (\"while\")\n",
    "\n",
    "In diesem Kapitel werden wir die Vergleiche und Programmverzweigungen des letzten Kapitels fortführen, indem wir Vergleiche kombinieren. Anschließend lernen wir zwei neue Kontrollstrukturen kennen,die sogenannte Schleifen.\n",
    "\n",
    "* Kapitel 4.1 - Digitale Logik: und, oder, nicht\n",
    "* Kapitel 4.2 - Schleifen: Wiederholung mit Bedingung (\"while\")\n"
   ]
  },
  {
   "cell_type": "markdown",
   "id": "c4ad245c-edaa-401a-8044-2aba0229b695",
   "metadata": {},
   "source": [
    "#### Aufgabe 4.1 Lesen\n",
    "\n",
    "Bitte lesen Sie - je nach Programmiersprache - folgende Kapitel:\n",
    "\n",
    "* Programmieren mit MATLAB von Ulrich Stein: \n",
    "    * Kapitel 2.4.3 Logische Verknüpfungen\n",
    "    * Kapitel 2.5.6 Wiederholschleife\n",
    "* Python 3 von Heiko Kalista: \n",
    "    * Kapitel 3.5 Logische Operatoren\n",
    "    * Kapitel 3.7 while-Schleifen\n"
   ]
  },
  {
   "cell_type": "markdown",
   "id": "c28bd888-b344-4495-991a-377b3f4b0bdd",
   "metadata": {},
   "source": [
    "\n",
    "## 4.1 Digitale Logik: und, oder, nicht\n",
    "\n",
    "In der letzten Vorlesung haben wir den boolschen Datentyp kennengelernt: wahr oder falsch. Man kann solche Ausdrücke auch kombinieren, z.B. könnte man fordern, dass zwei Bedingungen gleichzeitg erfüllt sein sollen. \n",
    "\n",
    "Beispiel beim Busfahren: Kinder unter 6 Jahren können kostenlos Bus fahren. Ab 6 Jahren braucht man eine Fahrkarte. Bis 14 Jahre zahlt man den Kinderpreis, ab 15 Jahren den Erwachsenenpreis: "
   ]
  },
  {
   "cell_type": "code",
   "execution_count": null,
   "id": "faa8ad37-c48f-4902-8bf8-23bb2c33a388",
   "metadata": {},
   "outputs": [],
   "source": [
    "alter = 12\n",
    "if (6 <= alter) and (alter <= 14):\n",
    "    print('Du darfst eine Kinderfahrkarte kaufen.')"
   ]
  },
  {
   "cell_type": "markdown",
   "id": "42541034-99fb-470a-a0a9-5601b9696ebc",
   "metadata": {},
   "source": [
    "Im Folgenden beschäftigen wir uns daher mit der Verknüpfung von booleschen Ausdrücken. Dieses Fachgebiet nennt man auch boolsche Algebra oder digitale Logik. Wikipedia fasst hier die wichtigsten Regeln zur booleschen Algebra zusammen: https://de.wikipedia.org/wiki/Boolesche_Algebra \n",
    "\n",
    "Wir werden in dieser Vorlesung uns aber auf die logischen Verknüpfungen oder logischen Operatoren \n",
    "\n",
    "* UND\n",
    "* ODER\n",
    "* NICHT\n",
    "\n",
    "beschränken. \n"
   ]
  },
  {
   "cell_type": "markdown",
   "id": "883e8607-0919-4a6e-b953-da6ebeee5b36",
   "metadata": {},
   "source": [
    "#### Aufgabe 4.2 Video zu logischen Operatoren im Allgemeinen\n",
    "\n",
    "Schauen Sie sich auf YouTube das Video \"SimpleClub: Negation, Konjunktion, Disjunktion – Aussagenlogik 1\" an (ca. 5:17 min): https://www.youtube.com/watch?v=inwIsNIaWJM\n",
    "\n",
    "Schreiben Sie anschließend die drei Wahrheitstafeln für \n",
    "\n",
    "1. Konjunktion / UND / and\n",
    "2. Disjunktion / ODER / or\n",
    "3. Negation / NICHT / not\n",
    "\n",
    "auf. Zuletzt beantworten Sie bitte die folgenden zwei Fragen:\n",
    "\n",
    "* Welche logische Verknüpfung entspricht in der Elektronik einer Reihenschaltung und welche einer Parallelschaltung? \n",
    "* Was sind Logikgatter?"
   ]
  },
  {
   "cell_type": "markdown",
   "id": "12916c99-3c28-4712-b8fc-c86618354b42",
   "metadata": {},
   "source": [
    "Nun wenden wir uns der Umsetzung von logischen Verknüpfungen in Python zu.\n",
    "\n",
    "#### Aufgabe 4.3 Video zu logischen Operatoren in Python\n",
    "\n",
    "Schauen Sie sich auf YouTube das Video \"Python Tutorial deutsch [12/24]\" an, siehe https://www.youtube.com/watch?v=075l6R42tkQ&list=PL_pqkvxZ6ho3u8PJAsUU-rOAQ74D0TqZB&index=12 . Stoppen Sie regelmäßig und probieren Sie die dort gezeigten Beispiele in der folgenden Code-Zelle aus: "
   ]
  },
  {
   "cell_type": "code",
   "execution_count": null,
   "id": "bbe0715d-4429-4262-925f-1d6971e1672b",
   "metadata": {},
   "outputs": [],
   "source": []
  },
  {
   "cell_type": "markdown",
   "id": "dc346eee-b73c-409d-9f52-c04280b02990",
   "metadata": {},
   "source": [
    "#### Aufgabe 4.4\n",
    "\n",
    "Was ist das Ergebnis: wahr oder falsch?\n",
    "\n",
    "* wahr und wahr\n",
    "* wahr oder falsch\n",
    "* nicht wahr\n",
    "* falsch oder wahr\n",
    "* wahr oder nicht falsch\n",
    "* nicht wahr und falsch\n",
    "* nicht (wahr oder falsch)\n",
    "* nicht falsch oder (falsch und falsch)\n",
    "\n",
    "Probieren Sie in der nächsten Code-Zelle aus, ob Sie die richtigen Ergebnisse hatten, indem Sie beispielsweise `wahr und wahr` in Python ausprobieren, also \n",
    "```python \n",
    "True and True\n",
    "``` \n",
    "eingeben."
   ]
  },
  {
   "cell_type": "code",
   "execution_count": null,
   "id": "dbc8f7de-7544-4fb8-85c3-8c9ecf4cbb50",
   "metadata": {},
   "outputs": [],
   "source": []
  },
  {
   "cell_type": "markdown",
   "id": "03071d84-d48f-4b48-a787-8122b95d12a6",
   "metadata": {},
   "source": [
    "#### Aufgabe 4.5\n",
    "\n",
    "Schreiben Sie das Programm für einen Ticket-Automaten. Der Benutzer wird nach dem Alter gefragt und ob ein Schülerausweis vorliegt. Das Programm gibt dann aus, welches Ticket gekauft werden muss.\n",
    "\n",
    "Alter | Ticket\n",
    "------------ | -------------\n",
    "0 - 5 | keine \n",
    "6 - 14 | Kinder-Ticket\n",
    "15 - 21 und Schülerausweis | Kinder-Ticket\n",
    "15 - 59 | Erwachsenen-Ticket\n",
    "ab 60 | Senioren-Ticket\n"
   ]
  },
  {
   "cell_type": "code",
   "execution_count": null,
   "id": "1b39a99c-430e-42e4-a187-862e6c5a5395",
   "metadata": {},
   "outputs": [],
   "source": []
  },
  {
   "cell_type": "markdown",
   "id": "1af148d4-8c31-474f-94e8-acb88931e61c",
   "metadata": {},
   "source": [
    "## 4.2 - Schleifen: Wiederholung mit Bedingung \"while\"\n",
    "\n",
    "Bei einer Wiederholung mit Bedingung wird eine Anweisung solange wiederholt, bis die Bedingung erfüllt wird. Sie hat folgende Struktur:\n",
    "\n",
    "```python\n",
    " while Bedingung: \n",
    "        anweisungsblock\n",
    "```\n",
    "\n",
    "Die bedingte Wiederholung wird mit dem Schlüsselwort `while` eingeleitet. Dann folgt die Bedingung, die mit einem `:` abgeschlossen wird. Alle Anweisungen, die wiederholt werden sollen, werden eingerückt. Diesen Teil nennt man das Schleifeninnere, die Zeile `while Bedingung:` nennt man den Schleifenkopf. \n",
    "\n",
    "Bespiel: Wir möchten ein Programm schreiben, bei dem der Benutzer solange Zahlen eingeben darf, die aufsummiert werden, bis die Null eingegeben wird. Für das Aufsummieren benutzen wir eine Variable als Zwischenspeicher. Dies würde in Python wie folgt umgesetzt:\n",
    "\n",
    "```python\n",
    "print('Dieses Programm addiert ganze Zahlen solange, bis Sie 0 eingeben.')\n",
    "zahl = float(input('Geben Sie die erste Zahl ein: '))\n",
    "\n",
    "summe = 0\n",
    "while zahl != 0:\n",
    "    summe = summe + zahl\n",
    "    zahl = float(input('Geben Sie eine weitere Zahl ein: '))\n",
    "print('Die Summe aller bisher eingegeben Zahlen ist: ', summe)\n",
    "```\n",
    "\n",
    "Probieren Sie den Code in der nächsten Code-Zelle aus:"
   ]
  },
  {
   "cell_type": "code",
   "execution_count": null,
   "id": "1a001c30-e891-472b-9ce9-1070993325de",
   "metadata": {},
   "outputs": [],
   "source": [
    "print('Dieses Programm addiert ganze Zahlen solange, bis Sie 0 eingeben.')\n",
    "zahl = float(input('Geben Sie die erste Zahl ein: '))\n",
    "\n",
    "summe = 0\n",
    "while zahl != 0:\n",
    "    summe = summe + zahl\n",
    "    zahl = float(input('Geben Sie eine weitere Zahl ein: '))\n",
    "print('Die Summe aller bisher eingegeben Zahlen ist: ', summe)"
   ]
  },
  {
   "cell_type": "markdown",
   "id": "622c4a51-f71f-4f1a-aac9-e8df5b7fbe01",
   "metadata": {},
   "source": [
    "#### Aufgabe 4.6 Video zur while-Schleife\n",
    "\n",
    "Schauen Sie sich auf YouTube das Video \"Python Tutorial deutsch [13/24] die while-Schleife\" an, siehe \n",
    "https://www.youtube.com/watch?v=sXLicTuJzB4&list=PL_pqkvxZ6ho3u8PJAsUU-rOAQ74D0TqZB&index=13 . Stoppen Sie regelmäßig und probieren Sie die dort gezeigten Beispiele in der folgenden Code-Zelle aus. \n",
    "\n",
    "ACHTUNG: Falls Sie die Endlosschleife ausprobieren, können Sie oben in der Menüleiste das schwarze Quadrat nutzen, um die Endlosschleife abzubrechen."
   ]
  },
  {
   "cell_type": "code",
   "execution_count": null,
   "id": "2f347230-478f-4e27-9ac1-830cf340303d",
   "metadata": {},
   "outputs": [],
   "source": []
  },
  {
   "cell_type": "markdown",
   "id": "5da8d969-61b5-4235-ad99-79eb605c2ee1",
   "metadata": {},
   "source": [
    "#### Aufgabe 4.7\n",
    "\n",
    "Schreiben Sie ein Programm, das die Zahlen von 1 bis 10 ausgibt."
   ]
  },
  {
   "cell_type": "code",
   "execution_count": null,
   "id": "2977a009-cb04-4557-b1f8-2420906d8677",
   "metadata": {},
   "outputs": [],
   "source": []
  },
  {
   "cell_type": "markdown",
   "id": "15fd6eb4-cfe5-406c-94dc-640713422f0c",
   "metadata": {},
   "source": [
    "#### Aufgabe 4.8\n",
    "\n",
    "Schreiben Sie ein Programm, das eine minimale Zahl $a$ und eine maximale Zahl $b$ abfragt. Dann berechnet das Programm die Quadratzahlen von $a^2$ bis $b^2$ und gibt diese aus.\n",
    "\n"
   ]
  },
  {
   "cell_type": "code",
   "execution_count": null,
   "id": "45134eec-8210-4e00-87a3-8ade009f8b75",
   "metadata": {},
   "outputs": [],
   "source": []
  },
  {
   "cell_type": "markdown",
   "id": "a4cd3b1b-4add-4982-8e27-e164831469e7",
   "metadata": {},
   "source": [
    "#### Aufgabe 4.9 \n",
    "\n",
    "Erweitern Sie Programm 4.8 so, dass erst überprüft wird, ob die eingegebene Zahl $b$ auch wirklich größer als $a$ ist. Wenn dies nicht der Fall ist, soll solange weiter nach einer Zahl $b$ gefragt werden, bis diese größer als a ist. \n",
    "\n",
    "Testen Sie Ihr Programm für die Beispiele $a=4$ und $b=10$ und anschließend für $a=10$ und $b=4$."
   ]
  },
  {
   "cell_type": "code",
   "execution_count": null,
   "id": "eded0f4f-c0ad-4720-a9ea-287999a2bb17",
   "metadata": {},
   "outputs": [],
   "source": []
  },
  {
   "cell_type": "markdown",
   "id": "d096e09e-2417-4ecf-9c72-9677313274c2",
   "metadata": {},
   "source": [
    "#### Aufgabe 4.10 \n",
    "\n",
    "Schreiben Sie ein Programm, welches die folgende Ausgabe bis zu einer vom Benutzer gewählten Zahl fortsetzt:\n",
    "\n",
    "```code\n",
    "1 *\n",
    "2 **\n",
    "3 ***\n",
    "4 ****\n",
    "5 *****\n",
    "6 ******\n",
    "7 *******\n",
    "```\n",
    "\n",
    "Zusatz: Passen Sie das Programm so an, dass es einen Weihnachtsbaum aus Sternchen zeichnet, dessen Anzahl von Zeilen (im Beispiels 7) vom Benutzer gewählt werden kann:\n",
    "\n",
    "```code\n",
    "      * 1 *\n",
    "     ** 2 **\n",
    "    *** 3 ***\n",
    "   **** 4 ****\n",
    "  ***** 5 *****\n",
    " ****** 6 ******\n",
    "******* 7 *******\n",
    "      *****\n",
    "      *****\n",
    "```\n",
    "\n",
    "\n",
    "Der Stamm besteht immer aus zwei Zeilen mit fünf Sternen. Der Benutzer darf dann wählen, ob obige Grafik oder der Weihnachtsbaum gezeichnet wird.\n",
    "\n",
    "Frage: Was passiert, wenn Sie eine negative Zahl eingeben?"
   ]
  },
  {
   "cell_type": "code",
   "execution_count": null,
   "id": "88b31412-cc6f-4a6c-b7d9-3146414e6e54",
   "metadata": {},
   "outputs": [],
   "source": []
  },
  {
   "cell_type": "markdown",
   "id": "4ac421c7-17d0-4ca2-bb27-3bd335fabdc8",
   "metadata": {},
   "source": [
    "#### Aufgabe 4.11\n",
    "\n",
    "Unter https://www.frankfurt-university.de/de/hochschule/fachbereich-2-informatik-und-ingenieurwissenschaften/corona-faqs-fuer-fb-2/ finden Sie die Erklärungen, bei welchen Krankheitssymptoman man an die Hochschule kommen darf.\n",
    "\n",
    "Schreiben Sie ein Programm, dass dem Benutzer mehrere Fragen nach Symptomen stellt, z.B. \"Haben Husten?\" und auf die Antworten reagiert. Wenn z.B. die Frage nach dem Husten mit \"Ja\" beantwortet wird, fragt das Programm nach, ob der Husten trocken ist oder nur gelegenlich auftritt. Am Ende soll das Programm entscheiden, ob der Benutzer an die Hochschule kommen darf oder nicht."
   ]
  },
  {
   "cell_type": "code",
   "execution_count": null,
   "id": "dd81757a-37d3-4f1a-81f0-c11a07953636",
   "metadata": {},
   "outputs": [],
   "source": []
  },
  {
   "cell_type": "markdown",
   "id": "0c1ac023-787f-4658-80e2-19d5f1caaeda",
   "metadata": {},
   "source": [
    "#### Aufgabe 4.12\n",
    "\n",
    "Aufgabe 3.7 lautete: \n",
    "\n",
    "Alkalimetalle sind die Stoffe Lithium (Li), Natrium (Na), Kalium (K), Rubidium (Rb), Caesium (Cs). Schreiben Sie ein Programm, das Folgendes leistet: Der Benutzer gibt die Formel eines chemischen Elementes an. Anschließend wird gemeldet, ob es sich um ein Alkalimetall handelt oder nicht. \n",
    "\n",
    "Schreiben Sie Ihr Programm aus Aufgabe 3.7 so um, dass nur noch _eine_ if - else - Struktur ohne elif verwendet wird, indem Sie logische Operatoren einsetzen."
   ]
  }
 ],
 "metadata": {
  "kernelspec": {
   "display_name": "Python 3",
   "language": "python",
   "name": "python3"
  },
  "language_info": {
   "codemirror_mode": {
    "name": "ipython",
    "version": 3
   },
   "file_extension": ".py",
   "mimetype": "text/x-python",
   "name": "python",
   "nbconvert_exporter": "python",
   "pygments_lexer": "ipython3",
   "version": "3.8.3"
  }
 },
 "nbformat": 4,
 "nbformat_minor": 5
}
