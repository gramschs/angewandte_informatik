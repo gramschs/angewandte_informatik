{
 "cells": [
  {
   "cell_type": "markdown",
   "id": "80f7b35c-1efa-41af-887d-95c8cc871c67",
   "metadata": {},
   "source": [
    "# Woche 08 - Objektorientierte Programmierung\n",
    "\n",
    "In den letzten Wochen haben wir uns die Grundlagen der Programmierung erarbeitet:\n",
    "* Ein- und Ausgabe (input, print)\n",
    "* Kontrollstrukturen (if - elif - else)\n",
    "* Schleifen (for, while)\n",
    "* Funktionen.\n",
    "\n",
    "In einigen Programmiersprachen wie beispielsweise C hätten wir damit auch alle Sprachelement kennengelernt. Diese Programmierung nennt man **prozedurale Programmierung**. Python gehört jedoch zu den objektorientierten Programmiersprachen, so dass wir uns diese Woche dem Thema Objektorientierung widmen.\n",
    "\n",
    "* Kapitel 8.1: Was ist Objektorientierung?\n",
    "* Kapitel 8.2: Klassen definieren - Attribute\n",
    "* Kapitel 8.3: Klassen definieren - Methoden\n"
   ]
  },
  {
   "cell_type": "markdown",
   "id": "d9973940-d701-433f-864d-abc54c71dd4a",
   "metadata": {},
   "source": [
    "#### Aufgabe 8.1 Lesen\n",
    "\n",
    "Lesen Sie bitte als erstes die folgenden Kapitel im Buch \"Python\" von Kalista:\n",
    "\n",
    "* Kapitel 5.1 Was ist Objektorientierung?\n",
    "* Kapitel 5.2 Eine einfache Klasse definieren\n"
   ]
  },
  {
   "cell_type": "markdown",
   "id": "0aa8397e-fcb1-4362-bed5-5e3c309e7f35",
   "metadata": {},
   "source": [
    "## 8.1 Was ist Objektorientierung?\n",
    "\n",
    "Bei der bisherigen prozeduralen Programmierweise haben wir Funktionen und Daten getrennt. Die Daten werden in Variablen gespeichert. Funktionen funktionieren nach dem EVA-Prinzip. In der Regel erwartet eine Funktion eine Eingabe von Daten, verarbeitet diese Daten und gibt Daten zurück. \n",
    "\n",
    "Angenommen, wir wollten ein Programm zur Verwaltung von Lottoscheinen schreiben. Zu einem Lottoschein wollen wir Name, Adresse und die angekreuzten Zahlen speichern. Dann müssten wir mit unserem bisherigen Wissen folgende Variablen pro Lottoschein einführen:\n",
    "\n",
    "* vorname\n",
    "* nachname\n",
    "* strasse\n",
    "* postleitzahl\n",
    "* stadt\n",
    "* liste_mit_sechs_zahlen\n",
    "\n",
    "Wenn jetzt viele Spielerinnen und Spieler Lotto spielen wollen, wie gehen wir jetzt mit den Daten um? Legen wir eine Liste für die Vornamen und eine Liste für die Nachnamen usw. an? Und wenn jetzt der 17. Eintrag in der Liste mit den sechs angekreuzten Lottozahlen sechs Richtige hat, suchen wir dann den 17. Eintrag in der Liste mit den Vornamen und den 17. Eintrag in der Liste mit den Nachnamen usw.? Umständlich...\n",
    "\n",
    "Die Idee der objektorientierten Programmierung ist, für solche Szenarien **Objekte** einzuführen. Ein Objekt fasst verschiedene Eigenschaften wie hier Vorname, Nachname, Straße, usw. zu einem Objekt Lottoschein zusammen. In der Informatik wird eine Eigenschaft eines Objekts **Attribut** genannt. \n",
    "\n",
    "Damit hätten wir erst einmal nur einen neuen Datentyp. Ein Objekt macht noch mehr aus, denn zu dem neuen Datentyp kommen noch Funktionen dazu, die die Verwaltung des Objektes erleichtern. Funktionen, die zu einem Objekt gehören, nennt man **Methoden**."
   ]
  },
  {
   "cell_type": "markdown",
   "id": "75eb4834-ff10-4522-a862-a445f1bbdc9a",
   "metadata": {},
   "source": [
    "#### Aufgabe 8.2 Video\n",
    "\n",
    "Schauen Sie sich Video \"Python Tutorial deutsch [21/24] - Objektorientierung (Konzept)\" an (ca. 6:35 min), siehe https://www.youtube.com/watch?v=46yolPy-2VQ&list=PL_pqkvxZ6ho3u8PJAsUU-rOAQ74D0TqZB&index=21 ."
   ]
  },
  {
   "cell_type": "markdown",
   "id": "0d87be03-226a-4470-8916-13416686e751",
   "metadata": {},
   "source": [
    "Im Folgenden sehen Sie, wie ein Objekt in Python definiert wird. Die Implementierung erfolgt als sogenannte **Klasse**. "
   ]
  },
  {
   "cell_type": "code",
   "execution_count": null,
   "id": "f1b77c97-cf6b-4755-a68f-e0807821a10b",
   "metadata": {},
   "outputs": [],
   "source": [
    "class Beispiel:\n",
    "    def __init__(self, vorname, nachname):\n",
    "        self.vorname = vorname\n",
    "        self.nachname = nachname\n",
    "        \n",
    "    def schreibe_vorname_nachname(self):\n",
    "        print(self.vorname + ' ' + self.nachname)\n",
    "        \n",
    "    def schreibe_nachname_vorname(self):\n",
    "        print(self.nachname + ', ' + self.vorname)\n",
    "   "
   ]
  },
  {
   "cell_type": "markdown",
   "id": "f19f743c-9485-48b3-95a1-941ee4a79b70",
   "metadata": {},
   "source": [
    "Jetzt erzeugen wir ein Objekt vom Typ `Beispiel` und speichern es in der Variable `person`. Mit der Funnktion `type()` checken wir kurz, welcher Datentyp in der Variablen `person`steckt:"
   ]
  },
  {
   "cell_type": "code",
   "execution_count": null,
   "id": "a5badd36-09f2-4b48-9702-a8b46a3b704a",
   "metadata": {},
   "outputs": [],
   "source": [
    "person = Beispiel('Alice', 'Wunderland')\n",
    "type(person)"
   ]
  },
  {
   "cell_type": "markdown",
   "id": "8b9c7989-02b1-40e0-9dd0-feae734666c2",
   "metadata": {},
   "source": [
    "Nun können wir auch die beiden Methoden ausprobieren, die zu dem Objekt gehören. Der Aufruf einer Methode funktioniert anders als eine Funktion. Man hängt an die Variable, in der das Objekt gespeichert wurde, einen Punkt und dann die Methode mit runden Klammern. Den Punkt nennt man in der Informatik **Punktoperator**. \n",
    "\n",
    "Hier ein Beispiel zu der Methode `schreibe_vorname_nachname()`: "
   ]
  },
  {
   "cell_type": "code",
   "execution_count": null,
   "id": "81602ed2-2d87-422b-a438-3fc478329525",
   "metadata": {},
   "outputs": [],
   "source": [
    "person.schreibe_vorname_nachname()"
   ]
  },
  {
   "cell_type": "markdown",
   "id": "cbfa8ed9-01b1-448c-a8a5-dd23e9b3f32f",
   "metadata": {},
   "source": [
    "Dann die zweite Methode, also `schreibe_nachname_vorname()`:"
   ]
  },
  {
   "cell_type": "code",
   "execution_count": null,
   "id": "72848c20-2b4d-42fe-bd7f-a8ecf523ae5b",
   "metadata": {},
   "outputs": [],
   "source": [
    "person.schreibe_nachname_vorname()"
   ]
  },
  {
   "cell_type": "markdown",
   "id": "6fd0ea93-35a9-4af9-8748-8e6951e277c0",
   "metadata": {},
   "source": [
    "Hinweis: Strings haben bereits vordefinierte Methoden, die sehr nützlich bei der Manipulation von Strings sind.\n",
    "\n",
    "Beispiele:\n",
    "* `.upper()` wandelt alle Zeichen in Großbuchstaben um\n",
    "* `.lower()` wandelt alle Zeichen in Klainbuchstaben um\n",
    "* `.isdgit()` prüft, ob der String in eine Zahl umgewandelt werden könnte\n"
   ]
  },
  {
   "cell_type": "code",
   "execution_count": null,
   "id": "52b29057-5135-4a9a-9bd3-2c2dad1877c6",
   "metadata": {},
   "outputs": [],
   "source": [
    "x = 'Dies ist ein Beispielstring!'\n",
    "print( x.upper() )"
   ]
  },
  {
   "cell_type": "markdown",
   "id": "3f79289e-9349-4ec9-bad0-072bdc652ed5",
   "metadata": {},
   "source": [
    "Führen Sie nachfolgende Code-Zelle aus und geben Sie ein mal `3` und einmal `drei` ein:"
   ]
  },
  {
   "cell_type": "code",
   "execution_count": null,
   "id": "d2ac538f-402b-42e5-9a58-c1a7d2036d95",
   "metadata": {},
   "outputs": [],
   "source": [
    "x = input('Zahl: ')\n",
    "if x.isdigit() == True:\n",
    "    print('{} kann in eine Zahl umgewandelt werden.'.format(x))\n",
    "else:\n",
    "    print('{} kann *nicht* in eine Zahl umgewandelt werden.'.format(x))   "
   ]
  },
  {
   "cell_type": "markdown",
   "id": "b84eea38-de6f-448d-9ab9-2cf8f795ade1",
   "metadata": {},
   "source": [
    "Wenn Sie wissen wollen, welche eingebauten Methoden es für Strings oder andere Datentypen noch gibt, können Sie die Funktion `dir()`. benutzen. Schauen Sie sich die Methoden an und probieren Sie einige aus:"
   ]
  },
  {
   "cell_type": "code",
   "execution_count": null,
   "id": "d8c39dac-5645-4479-9300-0d0b40c70e83",
   "metadata": {},
   "outputs": [],
   "source": [
    "dir(str)"
   ]
  },
  {
   "cell_type": "code",
   "execution_count": null,
   "id": "f140c174-9921-4d70-b11a-e722baaa630d",
   "metadata": {},
   "outputs": [],
   "source": []
  },
  {
   "cell_type": "markdown",
   "id": "8e6dc45a-a7ee-4cf9-a91c-7877dec53f8d",
   "metadata": {},
   "source": [
    "## 8.2 Klassen definieren - Attribute"
   ]
  },
  {
   "cell_type": "markdown",
   "id": "601a7599-0cc8-4c72-bb5b-4a1f5f60c0d6",
   "metadata": {},
   "source": [
    "Jetzt definieren wir eine eigene Klasse, die eine Adresse verwalten soll. Ein erstes Beispiel haben Sie ja oben schon gesehen.\n",
    "\n",
    "Eingeleitet wird eine Klasse mit dem Schlüsselwort `class` und dann dem Namen der Klasse. Da Klassen Objekte sind, ist es Standard, den ersten Buchstaben des Klassennamens groß zu schreiben. \n",
    "\n",
    "```python\n",
    "class Klassenname:\n",
    "```\n",
    "\n",
    "Bemerkung: Um Variablen von Objekten leichter zu unterscheiden, werden Variablennamen klein geschrieben.\n",
    "\n",
    "Danach folgt ein Abschnitt namens `def __init__(self):`, in dem die Eigenschaften der Klasse aufgelistet werden. `init` steht dabei für initialisieren, also den ersten Zustand, den das Objekt später haben wird. \n",
    "\n",
    "```python\n",
    "class Klassenname:\n",
    "    def __init__(self, eigenschaft1, eigenschaft2):\n",
    "        self.attribut1 = eigenschaft1\n",
    "        self.attribut2 = eigenschaft2\n",
    "```\n",
    "\n",
    "Probieren wir es mit der Adresse aus:"
   ]
  },
  {
   "cell_type": "code",
   "execution_count": null,
   "id": "731c3111-e693-4383-bcd4-c29dea516aec",
   "metadata": {},
   "outputs": [],
   "source": [
    "class Adresse:\n",
    "    def __init__(self, strasse, hausnummer, plz, stadt):\n",
    "        self.strasse = strasse\n",
    "        self.hausnummer = hausnummer\n",
    "        self.postleitzahl = plz\n",
    "        self.stadt = stadt\n",
    "    "
   ]
  },
  {
   "cell_type": "markdown",
   "id": "6a6698df-7eaf-481e-952e-173b730392ba",
   "metadata": {},
   "source": [
    "Wie Sie sehen, können die Eingabe-Parameter der `init()`-Methode die gleichen Namen tragen wie die Attribute der Klasse, also `self.strasse = strasse`, müssen sie aber nicht. Das Beispiel `self.postleitzahl = plz` zeigt, dass das Attribut `self.postleitzahl` einfach den Wert des 4. Parameters bekommt, egal wie der heißt.\n",
    "\n",
    "Definieren wir jetzt unsere erste Adresse, der Eingabe-Parameter `self` wird dabei weggelassen (warum kommt später)."
   ]
  },
  {
   "cell_type": "code",
   "execution_count": null,
   "id": "5fd28486-4a2c-48ba-898d-64b3ef9ff259",
   "metadata": {},
   "outputs": [],
   "source": [
    "adresse_fra_uas = Adresse('Nibelungenplatz', 1, 60318, 'Frankfurt am Main')"
   ]
  },
  {
   "cell_type": "markdown",
   "id": "69122b3d-5c33-4131-b716-ebb8ea28cfa6",
   "metadata": {},
   "source": [
    "Geben wir als nächstes aus, was in der Variable `adresse_fra_uas` gespeichert ist. Probieren wir es mit der `print()`-Funktion:"
   ]
  },
  {
   "cell_type": "code",
   "execution_count": null,
   "id": "1128b7b5-5cac-4b27-82bf-7080365f5c94",
   "metadata": {},
   "outputs": [],
   "source": [
    "print(adresse_fra_uas)"
   ]
  },
  {
   "cell_type": "markdown",
   "id": "1b8ea953-c73b-4ecb-a633-4f0da00f4799",
   "metadata": {},
   "source": [
    "Wie Sie sehen, wird der Name der Klasse und der Speicherort im RAM angegeben, aber nicht der Inhalt. Die Funktion `print()` ist nicht für den Datentyp `Adresse` entwickelt worden. Schließlich können die Python-Entwickler nicht wissen, welche Klassen Sie entwickeln... \n",
    "\n",
    "Aber wir kommen wir jetzt an den Inhalt des Objektes `adresse_fra_uas`? Mit dem Punktoperator."
   ]
  },
  {
   "cell_type": "code",
   "execution_count": null,
   "id": "59e60ff9-24c5-4f7c-b3d7-68b312c80539",
   "metadata": {},
   "outputs": [],
   "source": [
    "print(adresse_fra_uas.strasse)"
   ]
  },
  {
   "cell_type": "code",
   "execution_count": null,
   "id": "92fd2bad-1163-41f4-81c1-8b6d7217bd03",
   "metadata": {},
   "outputs": [],
   "source": [
    "print(adresse_fra_uas.postleitzahl)"
   ]
  },
  {
   "cell_type": "markdown",
   "id": "1269fe83-7318-4f35-ac6d-bea8ddc2d333",
   "metadata": {},
   "source": [
    "Damit können wir auch ganz normal rechnen, wenn das Attribut eine Zahl ist:"
   ]
  },
  {
   "cell_type": "code",
   "execution_count": null,
   "id": "58301e07-7f77-48db-acfd-314dd72fc7ce",
   "metadata": {},
   "outputs": [],
   "source": [
    "adresse_fra_uas.postleitzahl + 11111"
   ]
  },
  {
   "cell_type": "markdown",
   "id": "f4540445-75e1-487d-97a8-bcecd350c9a4",
   "metadata": {},
   "source": [
    "Mit dem Punktoperator können wir Attribute eines Objektes auch verändern. Schauen wir uns zunächst an, welchen Inhalt `adress_fra_uas.postleitzahl` hat, dann setzen wir eine neue Postleitzahl und schauen erneut, welchen Inhalt `adress_fra_uas.postleitzahl` jetzt hat:"
   ]
  },
  {
   "cell_type": "code",
   "execution_count": null,
   "id": "9b0941bb-9081-45a7-b114-9b8bef824503",
   "metadata": {},
   "outputs": [],
   "source": [
    "print('davor: ')\n",
    "print(adresse_fra_uas.postleitzahl)\n",
    "\n",
    "adresse_fra_uas.postleitzahl = 77777\n",
    "\n",
    "print('danach: ')\n",
    "print(adresse_fra_uas.postleitzahl)"
   ]
  },
  {
   "cell_type": "markdown",
   "id": "64763afb-7eae-4988-b50a-28289f061143",
   "metadata": {},
   "source": [
    "#### Aufgabe 8.3 Video\n",
    "\n",
    "Schauen Sie sich das YouTube-Video \"Python Tutorial deutsch [22/24] - Klassen und Objekte\" (ca. 14:34 min), siehe https://www.youtube.com/watch?v=XxCZrT7Z3G4&list=PL_pqkvxZ6ho3u8PJAsUU-rOAQ74D0TqZB&index=22 an.\n",
    "\n",
    "Stoppen Sie das Video regelmäßig und probieren Sie die dort gezeigten Beispiele hier aus:"
   ]
  },
  {
   "cell_type": "code",
   "execution_count": null,
   "id": "9c3b3250-337c-49e2-a0b7-1d1f9708645e",
   "metadata": {},
   "outputs": [],
   "source": []
  },
  {
   "cell_type": "markdown",
   "id": "fec8ad49-b21f-43b5-9ba4-847ab94055a7",
   "metadata": {},
   "source": [
    "#### Aufgabe 8.4\n",
    "\n",
    "Schreiben Sie eine Klasse, die Studierende mit den Eigenschaften\n",
    "* Vorname\n",
    "* Nachname\n",
    "* Matrikel-Nummer\n",
    "verwalten kann.\n",
    "\n",
    "Testen Sie anschließend Ihre Klasse, indem Sie ein Beispiel ausprobieren."
   ]
  },
  {
   "cell_type": "code",
   "execution_count": null,
   "id": "97e9e333-614b-4871-a43d-e99ec69d9635",
   "metadata": {},
   "outputs": [],
   "source": []
  },
  {
   "cell_type": "markdown",
   "id": "038037ae-b7c7-476b-92dd-39216b753052",
   "metadata": {},
   "source": [
    "#### Aufgabe 8.5 Video\n",
    "\n",
    "Bleibt noch die Frage offen, warum der `self`-Parameter beim Initialisieren eines Objektes nicht angegeben wird. Schauen Sie sich dazu das YouTube-Video \"Python Tutorial deutsch [23/24] - Der self Parameter\" (ca. 10:53 min), siehe https://www.youtube.com/watch?v=CLoK-_qNTnU&list=PL_pqkvxZ6ho3u8PJAsUU-rOAQ74D0TqZB&index=23 an."
   ]
  },
  {
   "cell_type": "markdown",
   "id": "378c6b6d-e445-44af-bfa1-9ff0f2341be0",
   "metadata": {},
   "source": [
    "## 8.3 Klassen definieren - Methoden\n",
    "\n",
    "Es ist bedauerlich, dass wir nicht eine `print()`-Funktion für unsere Adressen-Klasse zur Verfügung haben. Definieren wir uns einfach eine ...\n",
    "\n",
    "Da diese Funktion nicht allgemeingültig sein kann, sondern nur für die Objekte `Adresse` funktionieren kann, gehört sie auch folgerichtig zur Klasse selbst. Sie ist also keine Funktion, sondern eine Methode. \n",
    "\n",
    "Eine Methode wird definiert, indem innerhalb des Anweisungsblocks der Klasse eine Funktion mit dem Schlüsselwort `def` definiert wird. Der erste Eingabewert muss zwingend der `self`-Parameter sein. Hier ein Beispiel für eine Print-Methode: "
   ]
  },
  {
   "cell_type": "code",
   "execution_count": null,
   "id": "fcd25e80-127a-45a7-a865-550a44daf159",
   "metadata": {},
   "outputs": [],
   "source": [
    "class Adresse:\n",
    "    def __init__(self, strasse, hausnummer, plz, stadt):\n",
    "        self.strasse = strasse\n",
    "        self.hausnummer = hausnummer\n",
    "        self.postleitzahl = plz\n",
    "        self.stadt = stadt\n",
    "    \n",
    "    def print(self):\n",
    "        print('Straße: ', self.strasse)\n",
    "        print('Hausnummer: ', self.hausnummer)\n",
    "        print('Postleitzahl: ', self.postleitzahl)\n",
    "        print('Stadt: ', self.postleitzahl)"
   ]
  },
  {
   "cell_type": "code",
   "execution_count": null,
   "id": "c7f378bc-fb80-4dff-9158-495ac3ae491f",
   "metadata": {},
   "outputs": [],
   "source": [
    "adresse_fra_uas = Adresse('Nibelungenplatz', 1, 60318, 'Frankfurt am Main')\n",
    "adresse_fra_uas.print()"
   ]
  },
  {
   "cell_type": "markdown",
   "id": "8e4204c3-3d47-4c10-8a88-befa558f8b0e",
   "metadata": {},
   "source": [
    "Vielleicht möchten wir die Print-Ausgabe unterschiedlich haben, z.B. alles in einer Zeile. Wir erweitern unsere Klasse mit einer neuen Methode namens `print_einzeilig()`:"
   ]
  },
  {
   "cell_type": "code",
   "execution_count": null,
   "id": "b3367e22-34b1-4aa8-ba21-4b6709138067",
   "metadata": {},
   "outputs": [],
   "source": [
    "class Adresse:\n",
    "    def __init__(self, strasse, hausnummer, plz, stadt):\n",
    "        self.strasse = strasse\n",
    "        self.hausnummer = hausnummer\n",
    "        self.postleitzahl = plz\n",
    "        self.stadt = stadt\n",
    "    \n",
    "    def print(self):\n",
    "        print('Straße: ', self.strasse)\n",
    "        print('Hausnummer: ', self.strasse)\n",
    "        print('Postleitzahl: ', self.postleitzahl)\n",
    "        print('Stadt: ', self.postleitzahl)\n",
    "        \n",
    "    def print_einzeilig(self):\n",
    "        print('{} {}, {} {}'.format(self.strasse, self.hausnummer, self.postleitzahl, self.stadt ))"
   ]
  },
  {
   "cell_type": "code",
   "execution_count": null,
   "id": "7f100d59-0e2a-4dd1-b335-6828e546a2dc",
   "metadata": {},
   "outputs": [],
   "source": [
    "adresse_fra_uas = Adresse('Nibelungenplatz', 1, 60318, 'Frankfurt am Main')\n",
    "\n",
    "print('zuerst so:')\n",
    "adresse_fra_uas.print()\n",
    "\n",
    "print('\\nund dann einzeilig:')\n",
    "adresse_fra_uas.print_einzeilig()"
   ]
  },
  {
   "cell_type": "markdown",
   "id": "87b380db-f64b-4b9f-ad07-698bd3b8ca12",
   "metadata": {},
   "source": [
    "#### Aufgabe 8.6 \n",
    "\n",
    "Fügen Sie Ihrer Klasse zum Verwalten von Studierenden (siehe Aufgabe 8.4) zwei Print-Funktionen hinzu. Die erste Print-Funktion soll in einer Zeile `Vorname Nachname (xxxxxx)` ausgeben, wobei das xxxxxx für die Matrikel-Nummer steht, also z.B.\n",
    "\n",
    "```\n",
    "Alice Wunderland (123456)\n",
    "```\n",
    "\n",
    "ausgeben. Die zweite soll `Nachname, Vorname (Matrikel-Nummer: xxxxxx)` ausgeben, also z.B.\n",
    "\n",
    "```\n",
    "Wunderland, Alice (Matrikel-Nummer: 123456)\n",
    "```\n"
   ]
  },
  {
   "cell_type": "code",
   "execution_count": null,
   "id": "1eb004da-5c31-4122-b647-01ce1ed2799d",
   "metadata": {},
   "outputs": [],
   "source": []
  },
  {
   "cell_type": "markdown",
   "id": "8c40b221-9b7f-46c4-8065-351f8670f2f1",
   "metadata": {},
   "source": [
    "Bisher hatten wir nur Methoden ohne weitere Eingabe-Parameter (natürlich mit dem self-Parameter, der gehört zu allen Methoden dazu). Methoden können aber auch weitere Parameter haben. Beispielsweise könnte man eine Print-Funktion schreiben, bei der durch einen Parameter gesteuert wird, ob die Adresse in vier oder in einer Zeile angezeigt wird:"
   ]
  },
  {
   "cell_type": "code",
   "execution_count": null,
   "id": "68f0a192-167e-4185-bc5a-d438545a7040",
   "metadata": {},
   "outputs": [],
   "source": [
    "class Adresse:\n",
    "    def __init__(self, strasse, hausnummer, plz, stadt):\n",
    "        self.strasse = strasse\n",
    "        self.hausnummer = hausnummer\n",
    "        self.postleitzahl = plz\n",
    "        self.stadt = stadt\n",
    "    \n",
    "    def print(self, einzeilig):\n",
    "        if einzeilig == True:\n",
    "            print('{} {}, {} {}'.format(self.strasse, self.hausnummer, self.postleitzahl, self.stadt ))\n",
    "        else:    \n",
    "            print('Straße: ', self.strasse)\n",
    "            print('Hausnummer: ', self.strasse)\n",
    "            print('Postleitzahl: ', self.postleitzahl)\n",
    "            print('Stadt: ', self.postleitzahl)\n",
    "    "
   ]
  },
  {
   "cell_type": "markdown",
   "id": "ff331cca-28ad-4bdf-9712-eb9b290e6900",
   "metadata": {},
   "source": [
    "Probieren wir es aus:"
   ]
  },
  {
   "cell_type": "code",
   "execution_count": null,
   "id": "0da9c325-a61c-4c2f-8ea6-ce7d1813803b",
   "metadata": {},
   "outputs": [],
   "source": [
    "adresse_fra_uas = Adresse('Nibelungenplatz', 1, 60318, 'Frankfurt am Main')\n",
    "\n",
    "print('zuerst einzeilig:')\n",
    "adresse_fra_uas.print(True)\n",
    "\n",
    "print('\\nund dann vierzeilig:')\n",
    "adresse_fra_uas.print(False)"
   ]
  },
  {
   "cell_type": "markdown",
   "id": "a5ed498b-8af6-4c6a-a485-f4a5bba4b256",
   "metadata": {},
   "source": [
    "Zuletzt betrachten wir noch Methoden mit Rückgabewert. Wie bei Funktionen auch genügt es mit dem Schlüsselwort `return` den Rückgabewert zu definieren. Sehr häufig ist dabei der Fall, dass eine Eigenschaft des Objektes zurückgegeben wird. Dann wird in der Regel der Methodenname\n",
    "\n",
    "```\n",
    "get_attribut()\n",
    "```\n",
    "\n",
    "gewählt.\n",
    "\n",
    "Aber prinzipiell kann der Rückgabewert auch eine Berechnung oder ähnliches enthalten."
   ]
  },
  {
   "cell_type": "code",
   "execution_count": null,
   "id": "f3da587d-70e8-4db7-91af-986e94621390",
   "metadata": {},
   "outputs": [],
   "source": [
    "class Adresse:\n",
    "    def __init__(self, strasse, hausnummer, plz, stadt):\n",
    "        self.strasse = strasse\n",
    "        self.hausnummer = hausnummer\n",
    "        self.postleitzahl = plz\n",
    "        self.stadt = stadt\n",
    "    \n",
    "    def print(self, einzeilig):\n",
    "        if einzeilig == True:\n",
    "            print('{} {}, {} {}'.format(self.strasse, self.hausnummer, self.postleitzahl, self.stadt ))\n",
    "        else:    \n",
    "            print('Straße: ', self.strasse)\n",
    "            print('Hausnummer: ', self.strasse)\n",
    "            print('Postleitzahl: ', self.postleitzahl)\n",
    "            print('Stadt: ', self.postleitzahl)\n",
    " \n",
    "    def get_stadt(self, grossschreibung):\n",
    "        if grossschreibung == True:\n",
    "            return self.stadt.upper()\n",
    "        else:\n",
    "            return self.stadt"
   ]
  },
  {
   "cell_type": "markdown",
   "id": "8bb655b7-515e-4da1-8957-35acf3182556",
   "metadata": {},
   "source": [
    "Und auch diese Methode probieren wir aus. Je nachdem, ob die Methode mit `True` oder `False` aufgerufen wird, gibt die Methode den String `self.stadt` zurück, entweder normal geschrieben oder in Großbuchstaben."
   ]
  },
  {
   "cell_type": "code",
   "execution_count": null,
   "id": "0fff8cd9-af00-4e91-8d3c-6bdac04ebd54",
   "metadata": {},
   "outputs": [],
   "source": [
    "adresse_fra_uas = Adresse('Nibelungenplatz', 1, 60318, 'Frankfurt am Main')\n",
    "\n",
    "print('zuerst normal:')\n",
    "s = adresse_fra_uas.get_stadt(False)\n",
    "print(s)\n",
    "\n",
    "print('\\nund dann groß geschrieben:')\n",
    "s = adresse_fra_uas.get_stadt(True)\n",
    "print(s)\n"
   ]
  },
  {
   "cell_type": "markdown",
   "id": "f0a195c6-5ad9-4a89-afea-68417c0f23ee",
   "metadata": {},
   "source": [
    "#### Aufgabe 8.7 Video \n",
    "\n",
    "Bitte schauen Sie sich das Video \"Python Tutorial deutsch [24/24] - Methoden in Klassen\" an, ca. 18:18 min, die Werbung ab Minute 14:00 können Sie überspringen, siehe https://www.youtube.com/watch?v=58IjjwHs_4A&list=PL_pqkvxZ6ho3u8PJAsUU-rOAQ74D0TqZB&index=24 .\n",
    "\n",
    "Stoppen Sie das Video regelmäßig und probieren Sie die im Video gezeigten Beispiele hier aus:"
   ]
  },
  {
   "cell_type": "code",
   "execution_count": null,
   "id": "9c37d18d-9c60-4f9b-8072-96a7facb3066",
   "metadata": {},
   "outputs": [],
   "source": []
  },
  {
   "cell_type": "markdown",
   "id": "e59dcaf3-d3a5-44a7-b463-01a861a8cb2b",
   "metadata": {},
   "source": [
    "#### Aufgabe 8.8\n",
    "\n",
    "Erweitern Sie die Klasse zum Verwalten von Studierenden (Vorname, Name, Matrikel-Nummer) um ein Attribut vorleistung_bestanden. Anfangs sollte dieses Attribut auf `False` gesetzt werden. Implementieren Sie eine Methode, die es ermöglicht, dieses Attribut auf `True` zu setzen.\n",
    "\n",
    "Testen Sie anschließend Ihre erweiterte Klasse."
   ]
  },
  {
   "cell_type": "code",
   "execution_count": null,
   "id": "71ee9475-d8d1-4be3-b1d7-4771c8fe5507",
   "metadata": {},
   "outputs": [],
   "source": []
  },
  {
   "cell_type": "markdown",
   "id": "7f5205ac-1fcd-4a37-ba19-07d6cff97775",
   "metadata": {},
   "source": [
    "#### Aufgabe 8.9\n",
    "\n",
    "Implementieren Sie eine Klasse Datum. Diese Klasse speichert Tag, Monat und Jahr als Attribut. \n",
    "* Implementieren Sie Methoden, die diese Attribute verändern können. Dabei soll die Methode per Print()-Funktion warnen, wenn eine nicht zulässige Zahl verwendet wird und dann nicht die Änderung durchführen. \n",
    "* Implementieren Sie eine Methode `get_datum_deutsch()`, die das Datum als String nach dem Muster `TT.MM.JJJJ` zurückgibt, also z.B. '07.06.2021'.\n",
    "* Implementieren Sie eine Methode `get_datum_britisch()`, die das Datum als String nach dem Muster `TT/MM/JJJJ` zurückgibt, also z.B. '07/06/2021'.\n",
    "* Implementieren Sie eine Methode `get_datum_amerikanisch()`, die das Datum als String nach dem Muster `MM/TT/JJJJ` zurückgibt, also z.B. '06/07/2021'."
   ]
  },
  {
   "cell_type": "code",
   "execution_count": null,
   "id": "8773954e-0244-44ba-b39a-319e9ab7269d",
   "metadata": {},
   "outputs": [],
   "source": []
  }
 ],
 "metadata": {
  "kernelspec": {
   "display_name": "Python 3",
   "language": "python",
   "name": "python3"
  },
  "language_info": {
   "codemirror_mode": {
    "name": "ipython",
    "version": 3
   },
   "file_extension": ".py",
   "mimetype": "text/x-python",
   "name": "python",
   "nbconvert_exporter": "python",
   "pygments_lexer": "ipython3",
   "version": "3.8.3"
  }
 },
 "nbformat": 4,
 "nbformat_minor": 5
}
