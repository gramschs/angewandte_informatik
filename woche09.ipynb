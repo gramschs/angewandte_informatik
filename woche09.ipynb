{
 "cells": [
  {
   "cell_type": "markdown",
   "id": "d0a32792-2933-43fd-9296-c02325570e7c",
   "metadata": {},
   "source": [
    "# 9 Lesen und Schreiben von Dateien, Darstellung von Messwerten (Plots) \n",
    "\n",
    "Nachdem wir uns in den letzten Kapiteln die Grundlagen der Programmierung (Ein- und Ausgabe, Kontrollstrukturen und Schleifen sowie Funktionen und Objektorientierung) erarbeitet haben, lernen wir diese Woche eine erste Anwendung kennen, nämlich die Verarbeitung von Messdaten.\n",
    "\n",
    "* Kapitel 9.1 - Lesen und Schreiben von Dateien\n",
    "* Kapitel 9.2 - Darstellung von mathematischen Funktionen \n",
    "* Kapitel 9.3 - Darstellung von Messwerten\n",
    "\n",
    "#### Aufgabe 9.1\n",
    "\n",
    "Bitte lesen Sie - je nach Programmiersprache - folgende Kapitel:\n",
    "\n",
    "* Programmieren mit MATLAB von Ulrich Stein: \n",
    "    * Kapitel 2.7 Grafik\n",
    "    * Kapitel 2.9 Dateien\n",
    "* Python 3 von Heiko Kalista: \n",
    "    * Kapitel 9.1 Lesen und Schreiben von Dateien"
   ]
  },
  {
   "cell_type": "markdown",
   "id": "9b1c67d6-1ec1-46d7-a952-d405d90c3b7c",
   "metadata": {},
   "source": [
    "## 9.1 Lesen und Schreiben von Dateien\n",
    "\n",
    "Im Folgenden werden wir immer wieder auf Text-Dateien zugreifen. Legen Sie dazu ein Verzeichnis `week_files09` an. Dabei muss dieses neue Verzeichnis in demselben Verzeichnis liegen wie dieses Jupyter Notebook. Laden Sie dann die Dateien aus dem Ordner `week09_files` herunter und speichern Sie diese lokal auf Ihrer Festplatte in dem Verzeichnis week_files09.  \n",
    "\n",
    "Als erstes öffnen wir eine Datei und schließen sie dann wieder. Dazu benutzen wir die Funktion `open()`. Die Datei wird als Objekt in den Speicher geladen und alle nachfolgenden Kommandos werden dann auf dieses Objekt angewendet. Daher lautet der Befehl zum Schließen der Datei `.close()`und er wird an das Objekt angehängt."
   ]
  },
  {
   "cell_type": "code",
   "execution_count": null,
   "id": "3e26566a-8151-476b-8564-189685c5cf7d",
   "metadata": {},
   "outputs": [],
   "source": [
    "datei = open('week09_files/textdatei01.txt')\n",
    "datei.close()"
   ]
  },
  {
   "cell_type": "markdown",
   "id": "e8bdb0cd-af12-47ec-8e5d-e07333a59568",
   "metadata": {},
   "source": [
    "Damit haben wir die Datei geöffnet und wieder geschlossen. Da wir aber nichts weiter mit der Datei gemacht haben, wurde auch nichts angezeigt. Speichern  wir nun den Inhalt der Textdatei in einer Variable und geben diese aus:"
   ]
  },
  {
   "cell_type": "code",
   "execution_count": null,
   "id": "0c0ba30a-4cb1-43a6-8042-bb8123697216",
   "metadata": {},
   "outputs": [],
   "source": [
    "# Öffnen der Datei\n",
    "datei = open('week09_files/textdatei01.txt')\n",
    "\n",
    "# Inhalt der Datei in einer Variable speichern und ausgeben\n",
    "inhalt = datei.read()\n",
    "print(inhalt)\n",
    "\n",
    "datei.close()"
   ]
  },
  {
   "cell_type": "markdown",
   "id": "fa50a48c-3b1b-4719-bb06-300a21e47234",
   "metadata": {},
   "source": [
    "Bei Windows kann es passieren, dass Umlaute wie ä, ö oder ü nicht korrekt angezeigt werden. In diesem Fall hilft es, der `open`-Funktion ein zusätzliches Argument mitzugeben, die Zeichenkodierung (englisch = encoding). Computer speichern Zeichen wie Buchstaben nämlich intern als Zahlen. Die Zuordnung, welcher Buchstabe als welche Zahl gespeichert wird, ist in der Zeichenkodierung definiert. Oft wird zunächst eine amerikanische Zeichenkodierung angenommen, die keine Umlaute kennt. Wir teilen daher dem Interpreter explizit mit, welche Zeichenkodierung zum Öffnen der Datei verwendet werden soll."
   ]
  },
  {
   "cell_type": "code",
   "execution_count": null,
   "id": "afb8ce3d-a9c5-4c35-9cd5-611b15746c7f",
   "metadata": {},
   "outputs": [],
   "source": [
    "# Öffnen der Datei\n",
    "datei = open('week09_files/textdatei01.txt', encoding=\"utf-8\")\n",
    "\n",
    "# Inhalt der Datei in einer Variable speichern und ausgeben\n",
    "inhalt = datei.read()\n",
    "print(inhalt)\n",
    "\n",
    "datei.close()"
   ]
  },
  {
   "cell_type": "markdown",
   "id": "03f7c5c3-3bb7-4b88-9553-9e3f92ee42c7",
   "metadata": {},
   "source": [
    "Als nächstes wollen wir die Datei schrittweise auslesen. Wir lesen die ersten 3 Zeichen der Datei und schließen noch nicht die Datei. Was kommt dabei heraus?"
   ]
  },
  {
   "cell_type": "code",
   "execution_count": null,
   "id": "2eae2458-a2d2-495b-b5c6-5cfa71751b7e",
   "metadata": {},
   "outputs": [],
   "source": [
    "# Öffnen der Datei\n",
    "datei = open('week09_files/textdatei01.txt', encoding=\"utf-8\")\n",
    "\n",
    "# Inhalt der Datei in einer Variable speichern und ausgeben\n",
    "inhalt = datei.read(3)\n",
    "print(inhalt)"
   ]
  },
  {
   "cell_type": "markdown",
   "id": "8c498181-64a0-43b2-b8a9-a766f7e41631",
   "metadata": {},
   "source": [
    "Jetzt lesen wir die nächsten 8 Zeichen aus..."
   ]
  },
  {
   "cell_type": "code",
   "execution_count": null,
   "id": "9002d7b6-d4fc-46dd-b1bc-cbc582a09273",
   "metadata": {},
   "outputs": [],
   "source": [
    "inhalt = datei.read(8)\n",
    "print(inhalt)"
   ]
  },
  {
   "cell_type": "markdown",
   "id": "4ee57256-f661-4021-b493-4873309c9e8e",
   "metadata": {},
   "source": [
    "Und nun die nächsten 100 Zeichen:"
   ]
  },
  {
   "cell_type": "code",
   "execution_count": null,
   "id": "aeeaad93-03eb-46a3-a511-7d82227b1e5f",
   "metadata": {},
   "outputs": [],
   "source": [
    "inhalt = datei.read(100)\n",
    "print(inhalt)"
   ]
  },
  {
   "cell_type": "markdown",
   "id": "0347bd6a-63f9-4cec-a762-eca8ed24f5af",
   "metadata": {},
   "source": [
    "Und zum Schluss schließen wir die Datei wieder, bitte nicht vergessen!"
   ]
  },
  {
   "cell_type": "code",
   "execution_count": null,
   "id": "bbfffb90-c10e-40b5-972b-008339f43c79",
   "metadata": {},
   "outputs": [],
   "source": [
    "datei.close()"
   ]
  },
  {
   "cell_type": "markdown",
   "id": "01ac0bf7-664c-4256-b58f-d4150db0e2e3",
   "metadata": {},
   "source": [
    "Sehr häufig kommt es vor, dass wichtige Informationen zeilenweise abgespeichert werden. Z.B. speichert ein Sensor pro Messung ein Messergebnis pro Zeile ab. Daher bietet Python die Möglichkeit, eine Datei zeilenweise auszulesen. "
   ]
  },
  {
   "cell_type": "code",
   "execution_count": null,
   "id": "33016b6d-c6da-4fa4-8daa-fa0c7f0f6f83",
   "metadata": {},
   "outputs": [],
   "source": [
    "# Öffnen der Datei\n",
    "datei = open('week09_files/textdatei01.txt', encoding=\"utf-8\")\n",
    "\n",
    "# Inhalt der Datei in einer Variable speichern und ausgeben\n",
    "inhalt_zeile = datei.readline()\n",
    "print(inhalt_zeile)\n",
    "\n",
    "datei.close()"
   ]
  },
  {
   "cell_type": "markdown",
   "id": "d69706ea-7ad6-460c-9721-9c082c2571f3",
   "metadata": {},
   "source": [
    "## 9.2 Darstellung von Funktionen\n",
    "\n",
    "Wichtig: zunächst müssen Sie sicherstellen, dass die folgenden Modul installiert sind:\n",
    "\n",
    "* matplotlib\n",
    "* matplotlib-base\n",
    "* numpy\n",
    "* pandas\n",
    "\n",
    "Überprüfen Sie daher, welche Python-Pakete derzeit installiert sind und installieren Sie ggf. fehlende Pakete nach.\n",
    "\n",
    "Öffnen Sie dazu den Anaconda-Navigator und klicken Sie auf Environments:\n",
    "![Screenshot Anaconda-Navigator](week09_files/week09_screenshot01.png)\n",
    "\n"
   ]
  },
  {
   "cell_type": "markdown",
   "id": "bcbf0ded-ed93-4544-8e7a-b3b04b43b973",
   "metadata": {},
   "source": [
    "Klicken Sie dann auf Ihre Umgebung (wahrscheinlich benutzen Sie `base (root)` und anschließend wechseln Sie von `Installed` zu `All`, siehe nachfolgenden Screenshot:\n",
    "\n",
    "![Screenshot Wechsel All](week09_files/week09_screenshot02.png)"
   ]
  },
  {
   "cell_type": "markdown",
   "id": "1239ab0a-8df4-4b13-867a-a6554430ee2a",
   "metadata": {},
   "source": [
    "Zuletzt suchen Sie die fehlenden Pakete und installieren diese durch Aktivieren der Checkbox und anschließendem Bestätigen `Apply` nach:\n",
    "\n",
    "![Screenshot Installieren](week09_files/week09_screenshot03.png)"
   ]
  },
  {
   "cell_type": "markdown",
   "id": "32b708fb-1da6-4e21-99f8-9f7beff3f710",
   "metadata": {},
   "source": [
    "Jetzt kann es mit dem Darstellen von mathematischen Funktionen losgehen."
   ]
  },
  {
   "cell_type": "markdown",
   "id": "054ef9cf-18b1-4870-bf49-ac591ec0c36e",
   "metadata": {},
   "source": [
    "### 9.2.1 XY-Diagramme (Plots)\n",
    "\n",
    "Eine der häufigsten Darstellungen von mathematischen Funktionen ist das xy-Diagramm. Zu jedem x-Wert wird der entsprechende y-Wert (enweder ein Messwert oder ein Funktionswert) als Punkt in ein Koordinatensystem mit x- und y-Achse eingetragen und die Punkte werden mit einer geraden Linie verbunden.\n",
    "\n",
    "Erzeugen wir uns eine Liste mit x-Werten und dazugehörigen y-Werten als Listen."
   ]
  },
  {
   "cell_type": "code",
   "execution_count": null,
   "id": "54576689-80f6-446b-88f4-43d67414911c",
   "metadata": {},
   "outputs": [],
   "source": [
    "x = [-2, -1, 0, 1, 2]\n",
    "y = [4, 1, 0, 1, 4]"
   ]
  },
  {
   "cell_type": "markdown",
   "id": "2a758a18-43e3-4fca-abf4-4c40cfa33d77",
   "metadata": {},
   "source": [
    "Danach lassen wir den Interpreter diese Werte zeichnen. Dazu benötigen wir das Modul `matplotlib`, genauer gesagt nur einen Teil dieses Moduls namens `pylab`. Daher laden wir es zuerst mit\n",
    "\n",
    "```python\n",
    "from matplotlib.pylab import *\n",
    "```\n",
    "\n",
    "Danach kommt die Funktion zum Zeichen der Werte `plot(x,y)`und zuletzt die Funktion `show()` zum Anzeigen des Resultats."
   ]
  },
  {
   "cell_type": "code",
   "execution_count": null,
   "id": "40620f53-967a-4afd-bb36-5312afdc49ab",
   "metadata": {},
   "outputs": [],
   "source": [
    "from matplotlib.pylab import *\n",
    "\n",
    "plot(x,y)\n",
    "show()"
   ]
  },
  {
   "cell_type": "markdown",
   "id": "b7e85625-cdcf-4575-899f-d4d8eed26535",
   "metadata": {},
   "source": [
    "Sieht ziemlich krakelig aus. Eigentlich sollte dies eine Parabel werden im Intervall $\\[-2,2]$ werden. Mit nur 5 Punkten und der Tatsache, dass diese 5 Punkte mit geraden Linien verbunden werden, sieht es etwas unschön aus. Besser wird es mit mehr Punkten, aber die wollen wir jetzt nicht von Hand erzeugen. Dazu gibt es das Modul `numpy` für numerisches Python, das wir wieder einmal zuerst Laden müssen:\n",
    "\n",
    "```python\n",
    "from numpy import *\n",
    "```\n",
    "\n",
    "Die Funktion `linspace(a,b, Anzahl)` erzeugt Punkt im Intervall $\\[a,b\\]$ je nach eingestellter Anzahl."
   ]
  },
  {
   "cell_type": "code",
   "execution_count": null,
   "id": "46e6d890-ef13-4c4a-b79a-5c92f649c31a",
   "metadata": {},
   "outputs": [],
   "source": [
    "from numpy import *\n",
    "\n",
    "x = linspace(-2, 2, 10) \n",
    "y = x**2\n",
    "\n",
    "plot(x,y)\n",
    "show()"
   ]
  },
  {
   "cell_type": "markdown",
   "id": "729f3d9c-2a69-4e28-8768-6bcad375ed8a",
   "metadata": {},
   "source": [
    "Schon besser, aber noch ein paar mehr Punkte wären noch schöner..."
   ]
  },
  {
   "cell_type": "code",
   "execution_count": null,
   "id": "192f5602-d5f9-4cd3-bdad-7df953f1cee5",
   "metadata": {},
   "outputs": [],
   "source": [
    "x = linspace(-2, 2, 100) \n",
    "y = x**2\n",
    "\n",
    "plot(x,y)\n",
    "show()"
   ]
  },
  {
   "cell_type": "markdown",
   "id": "b4debadc-bc3f-4888-b959-ba38a019233c",
   "metadata": {},
   "source": [
    "#### Aufgabe 9.1 \n",
    "\n",
    "Bitte plotten Sie folgende Funktionen: \n",
    "* $f(x) = 7x + 2$\n",
    "* Sinus,\n",
    "* Kosinus,\n",
    "* Exponentialfunktion und \n",
    "* Wurzelfunktion.\n",
    "\n",
    "Verändern Sie auch das Definitionsgebiet der Funktionen, also das Intervall für $x$."
   ]
  },
  {
   "cell_type": "code",
   "execution_count": null,
   "id": "0ce60a1f-0a09-47ef-9eb9-85a9abc088c2",
   "metadata": {},
   "outputs": [],
   "source": []
  },
  {
   "cell_type": "markdown",
   "id": "39ea2259-3f95-4379-bd3a-434b059bb8d4",
   "metadata": {},
   "source": [
    "Nächstes Thema, Beschriftungen. Mit den Funktionen `xlabel()`und `ylabel()` beschriften Sie die x- und y-Achse."
   ]
  },
  {
   "cell_type": "code",
   "execution_count": null,
   "id": "a3b6d630-06a5-4ebf-bf89-8bb225c5f649",
   "metadata": {},
   "outputs": [],
   "source": [
    "x = linspace(-10,10,200)\n",
    "y = sin(x)\n",
    "\n",
    "plot(x,y)\n",
    "xlabel('Zeit in Sekunden')\n",
    "ylabel('Stromstärke in Ampere')"
   ]
  },
  {
   "cell_type": "code",
   "execution_count": null,
   "id": "6280cd6a-d082-48f0-88c7-ca0ce9ece040",
   "metadata": {},
   "outputs": [],
   "source": []
  },
  {
   "cell_type": "markdown",
   "id": "4b43080a-f35d-4b96-ae10-7df390394ff5",
   "metadata": {},
   "source": [
    "Fehlt noch ein Titel für unsere Grafik, das erledigt die Funktion `title()`:"
   ]
  },
  {
   "cell_type": "code",
   "execution_count": null,
   "id": "50b6ef85-9f79-458a-8700-e3556616f3db",
   "metadata": {},
   "outputs": [],
   "source": [
    "x = linspace(-10,10,200)\n",
    "y = sin(x)\n",
    "\n",
    "plot(x,y)\n",
    "xlabel('Zeit in Sekunden')\n",
    "ylabel('Stromstärke in Ampere')\n",
    "title('Wechselstrom')"
   ]
  },
  {
   "cell_type": "markdown",
   "id": "73d4b473-005c-45e6-bc78-e75d4ecaa0a6",
   "metadata": {},
   "source": [
    "Zuletzt soll unser Plot gespeichert werden. Es stehen mehrere Grafikformate zur Verfügung. Mehr Details finden Sie auf der Internetseite [Dokumentation savefig](https://matplotlib.org/stable/api/_as_gen/matplotlib.pyplot.savefig.html).\n",
    "\n",
    "Ein typisches Ausgabeformat ist eine Rastergrafik wie z.B. png. Das erreichen Sie durch den folgenden Funktionsaufruf:\n"
   ]
  },
  {
   "cell_type": "code",
   "execution_count": null,
   "id": "8f2facc2-0756-4af0-a1a5-8f3cf679b892",
   "metadata": {},
   "outputs": [],
   "source": [
    "x = linspace(-10,10,200)\n",
    "y = sin(x)\n",
    "\n",
    "plot(x,y)\n",
    "xlabel('Zeit in Sekunden')\n",
    "ylabel('Stromstärke in Ampere')\n",
    "title('Wechselstrom')\n",
    "savefig('week09_files/plot_stromstaerke.png', dpi=300)"
   ]
  },
  {
   "cell_type": "markdown",
   "id": "290e7f02-6fbd-4663-9f67-fa640fc8c889",
   "metadata": {},
   "source": [
    "### 9.2.2 Balkendiagramme\n",
    "\n",
    "Mit der Funktion `bar()` kann ein Balkendiagramm erstellt werden. Nehmen wir mal an, wir möchten auswerten, wie viele Nutzer/innen in Moodle auf die Jupyter Notebooks zum Download zugegriffen haben:\n",
    "\n",
    "| Woche | Anzahl Nutzer/innen |\n",
    "| --- | --- |\n",
    "| 2 | 17 |\n",
    "| 3 | 24 |\n",
    "| 4 | 73 |\n",
    "| 5 | 59 |\n",
    "| 6 | 55 |\n",
    "| 7 | 57 |\n",
    "\n",
    "Packen wir das in zwei Vektoren x und y:"
   ]
  },
  {
   "cell_type": "code",
   "execution_count": null,
   "id": "815156e6-472b-4c7b-80d4-e3e1a3167b67",
   "metadata": {},
   "outputs": [],
   "source": [
    "x = [2,3,4,5,6,7]\n",
    "y = [17, 24, 73, 59, 55, 57]\n",
    "\n",
    "bar(x,y)\n",
    "show()"
   ]
  },
  {
   "cell_type": "markdown",
   "id": "0b761ee6-c353-4c44-97de-34e3dcf4c450",
   "metadata": {},
   "source": [
    "Natürlich funktionieren auch hier die Funktionen `xlabel()`, `ylabel()` und `title()`:"
   ]
  },
  {
   "cell_type": "code",
   "execution_count": null,
   "id": "7ce0cf26-ec96-4da0-a931-f355546b9ddb",
   "metadata": {},
   "outputs": [],
   "source": [
    "x = [2,3,4,5,6,7]\n",
    "y = [17, 24, 73, 59, 55, 57]\n",
    "\n",
    "bar(x,y)\n",
    "xlabel('Woche')\n",
    "ylabel('Anzahl Nutzer/innen')\n",
    "title('Zugriff auf Jupyter Notebooks zum Download SoSe 2021')\n",
    "show()"
   ]
  },
  {
   "cell_type": "markdown",
   "id": "b921b7a1-d2ef-4976-ae42-53fc5f1de551",
   "metadata": {},
   "source": [
    "#### Aufgabe 9.2\n",
    "\n",
    "Hier ist eine Tabelle mit den Zugriffszahlen auf das MATLAB Live Script in der Vorlesung angewandte Informatik im Sommersemester 2021. Bitte stellen Sie die Daten als Balkendiagramm inklusive Beschriftungen dar.\n",
    "\n",
    "|Woche |Anzahl Nutzer/innen|\n",
    "| --- | --- |\n",
    "| 3 | 9  |\n",
    "| 4 | 17 |\n",
    "| 5 | 15 |\n",
    "| 6 | 10 |\n",
    "| 7 | 11 |\n"
   ]
  },
  {
   "cell_type": "code",
   "execution_count": null,
   "id": "56d4c7f8-4263-4d60-84e6-39c7682bb93c",
   "metadata": {},
   "outputs": [],
   "source": []
  },
  {
   "cell_type": "markdown",
   "id": "3d6ffcea-cd77-4f74-81d0-716df2232f19",
   "metadata": {},
   "source": [
    "Möchte man zwei oder gar mehrere Funktionen oder Messdaten in einer Grafik darstellen, verwendet man den plot-Befehl mehrfach:"
   ]
  },
  {
   "cell_type": "code",
   "execution_count": null,
   "id": "360d030b-6b3d-40fc-b548-56fe83de8baf",
   "metadata": {},
   "outputs": [],
   "source": [
    "x  = linspace(-2*pi,2*pi, 200)\n",
    "y1 = sin(x)\n",
    "y2 = cos(x)\n",
    "\n",
    "plot(x,y1)\n",
    "plot(x,y2)\n",
    "\n",
    "show()"
   ]
  },
  {
   "cell_type": "markdown",
   "id": "cb4f518c-74e9-4d74-92f3-396ce7a684e4",
   "metadata": {},
   "source": [
    "Dann ist es aber auch gut, die Kurven zu beschriften. Dazu kennzeichnet man jeden einzelnen Plot-Aufruf mit einem sogenannten Label, z.B.\n",
    "\n",
    "```python\n",
    "plot(x,y, label='Funktionsname'\n",
    "```\n",
    "Zuletzt verwendet man die Funktion `legend()`, die eine Legende mit allen Label-Einträgen erzeugt, bei denen die Farben der Kurven korrekt zu den Namen (Labels) zugeordnet werden."
   ]
  },
  {
   "cell_type": "code",
   "execution_count": null,
   "id": "119d5395-432f-4dd2-85c9-5b8d62abcdbe",
   "metadata": {},
   "outputs": [],
   "source": [
    "x  = linspace(-2*pi,2*pi, 200)\n",
    "y1 = sin(x)\n",
    "y2 = cos(x)\n",
    "\n",
    "plot(x,y1, label='Sinus')\n",
    "plot(x,y2, label='Kosinus')\n",
    "legend()\n",
    "show()"
   ]
  },
  {
   "cell_type": "markdown",
   "id": "832601b8-ecc4-4e3e-8332-dace47c11d37",
   "metadata": {},
   "source": [
    "#### Aufgabe 9.3\n",
    "\n",
    "Stellen Sie die Funktionen\n",
    "* $f1(x) = \\sin(x)$\n",
    "* $f2(x) = \\sin(2x)$\n",
    "* $f3(x) = \\sin(3x)$\n",
    "\n",
    "als xy-Diagramm im Intervall $[-2\\pi,2\\pi]$ dar und beschriften Sie die Kurven mit einer geeigneten Legende."
   ]
  },
  {
   "cell_type": "code",
   "execution_count": null,
   "id": "9bb28968-f11e-4f3e-ba51-e7ec23cdd035",
   "metadata": {},
   "outputs": [],
   "source": []
  },
  {
   "cell_type": "markdown",
   "id": "9b07b4f6-b09c-4389-8fbf-7ea4a71716e1",
   "metadata": {},
   "source": [
    "#### Aufgabe 9.4\n",
    "\n",
    "Stellen Sie die Zugriffszahlen auf die Jupyter Notebooks und die MATLAB Live Scripts in einem Balkendiagramm dar. Dabei gibt es ein Problem, welches?"
   ]
  },
  {
   "cell_type": "code",
   "execution_count": null,
   "id": "40d4fd43-be4f-4556-8bba-15386e7201c1",
   "metadata": {},
   "outputs": [],
   "source": [
    "x_j = [2,3,4,5,6,7]\n",
    "y_j = [17, 24, 73, 59, 55, 57]\n",
    "x_m = [3,4,5,6,7]\n",
    "y_m = [9, 17, 15, 10, 11]\n",
    "\n",
    "bar(x_j,y_j)\n",
    "bar(x_m,y_m)\n",
    "\n",
    "show()"
   ]
  },
  {
   "cell_type": "markdown",
   "id": "7a4fd17b-8872-41ba-8f95-a3eed074a027",
   "metadata": {},
   "source": [
    "## 9.3 Darstellung von Messwerten\n",
    "\n",
    "Messwerte werden normalerweise nicht händisch in ein Jupyter Notebook oder ein MATLAB Live Script eingegeben. Meist werden Daten durch einen Sensor in eine Textdatei gespeichert oder in einem Excel-Sheet erfasst. In der Wissenschaft ist es üblich, Messdaten im csv-Format abzuspeichern. Dabei steht csv für **comma separated values**, d.h. in einer Textdatei werden pro Messung eine Zeile verwendet und alle Daten pro Messung werden in diese Zeile durch Komma getrennt geschrieben. In der ersten Zeile stehen sozusagen die Spaltenüberschriften:\n",
    "\n",
    "```\n",
    " ,Jupyter-Notebook Download,Jupyter-Notebook Cloud,MATLAB Live Script \n",
    "Woche 2,17,19,\n",
    "Woche 3,24,17,9\n",
    "Woche 4,73,34,17\n",
    "Woche 5,59,19,15\n",
    "Woche 6,55,13,10\n",
    "Woche 7,57,28,11\n",
    "```\n",
    "\n",
    "Um jetzt einfach mit Tabellen umgehen zu können, gibt es das Modul `Pandas`. Laden Sie bitte alle Pandas-Funktionen mit \n",
    "\n",
    "```python\n",
    "from pandas import *\n",
    "```\n",
    "\n",
    "in den Speicher. Als nächstes laden wir unsere Messdaten in das Notebook. Laden Sie sich bitte die aktuellen Statistiken zu Covid19 des RKI herunter:\n",
    "\n",
    "https://www.rki.de/DE/Content/InfAZ/N/Neuartiges_Coronavirus/Projekte_RKI/Nowcasting_Zahlen_csv.html\n",
    "\n",
    "Alternativ können Sie auch aus dem Verzeichnis `week09_files` die csv-Datei vom 10.06.2021 laden. Der Befehl zum Lesen einer csv-Datei lautet:\n",
    "\n",
    "```python\n",
    "daten = csv_read('dateiname')\n",
    "```\n",
    "Manchmal werden die Daten mit einem Komma `,` getrennt, manchmal - vor allem im deutschsprachigen Raum - auch mit einem Semikolon `;`. Durch Angabe des Separators, also dem Trennzeichen, können wir direkt beim Einlesen schon das richtige einstellen, für viele deutschsprachige Dokumente also\n",
    "\n",
    "```python\n",
    "daten = csv_read('dateiname', sep=';', decimal=',')\n",
    "```\n",
    "mit Semikolon zum Trennen der Spalten und Komma als Dezimaltrennzeichen.\n"
   ]
  },
  {
   "cell_type": "code",
   "execution_count": null,
   "id": "2728d006-1c0b-4885-ba27-cebb6b3153f8",
   "metadata": {},
   "outputs": [],
   "source": [
    "from pandas import *\n",
    "daten = read_csv('week09_files/Nowcasting_Zahlen_csv.csv', sep=';', decimal=',')"
   ]
  },
  {
   "cell_type": "markdown",
   "id": "6691deb6-8875-4e0c-95b5-8f46e4e29565",
   "metadata": {},
   "source": [
    "Schauen wir uns an, was wir in der geladenen Tabelle stehen haben. Dazu verschaffen wir uns zuerst mit der Methode `info()` einen Überblick. "
   ]
  },
  {
   "cell_type": "code",
   "execution_count": null,
   "id": "a64fc361-2e0a-4a5d-8344-a560b088f4b8",
   "metadata": {},
   "outputs": [],
   "source": [
    "daten.info()"
   ]
  },
  {
   "cell_type": "markdown",
   "id": "df010b40-0139-435d-a1b7-550fde7e16ca",
   "metadata": {},
   "source": [
    "Danach verwenden wir `.head(10)`, um die ersten 10 Zeilen darzustellen."
   ]
  },
  {
   "cell_type": "code",
   "execution_count": null,
   "id": "addb20f4-d2fb-4c7f-b56c-4c7eac48d388",
   "metadata": {},
   "outputs": [],
   "source": [
    "daten.head(10)"
   ]
  },
  {
   "cell_type": "markdown",
   "id": "f320deac-dba7-4c1e-8c76-15530d2a5752",
   "metadata": {},
   "source": [
    "Offensichtlich ist die erste Spalte unser x-Wert, der sogenannte Index, und die \"Messdaten\" pro Datum stehen in den nachfolgenden Spalten. Es ist geschickt, die Spalte mit dem Datum als Index-Spalte zu setzen. Momentan ist der Index einfach nur fortlaufend von 0, 1, 2, ... . Laden wir also die Daten neu und setzen dabei die erste Spalte als Index-Spalte. Weil Python von Null anfängt zu zählen, ist die erste Spalte die Spalte \"0\":"
   ]
  },
  {
   "cell_type": "code",
   "execution_count": null,
   "id": "2c61baee-4d48-425a-858b-235557bd647b",
   "metadata": {},
   "outputs": [],
   "source": [
    "daten = read_csv('week09_files/Nowcasting_Zahlen_csv.csv', sep=';', decimal=',', index_col=0)"
   ]
  },
  {
   "cell_type": "code",
   "execution_count": null,
   "id": "754b294e-d224-4042-967f-b41a3b3072dd",
   "metadata": {},
   "outputs": [],
   "source": [
    "daten.head(10)"
   ]
  },
  {
   "cell_type": "markdown",
   "id": "abd189b0-4502-4cf3-83f7-49dbfbf3185b",
   "metadata": {},
   "source": [
    "Die Visualisierung der Daten ist jetzt einfach. Pandas stellt die xy-Diagramme (`plot()`) direkt als Methode zur Verfügung. "
   ]
  },
  {
   "cell_type": "code",
   "execution_count": null,
   "id": "15de7b05-5319-4cec-9faa-60bee98140da",
   "metadata": {},
   "outputs": [],
   "source": [
    "daten.plot()"
   ]
  },
  {
   "cell_type": "markdown",
   "id": "a3c2f9cc-b381-4de1-863f-106774988dc3",
   "metadata": {},
   "source": [
    "Wenn Sie nur eine Spalte darstellen wollen, können Sie \"Slicing\" betreiben, also Spalten ausschneiden. Mit `daten[\"Schätzer_Neuerkrankungen\"]`erhalten Sie beispielsweise nur den Schätzer für die Neuerkrankungen, den Sie dann direkt plotten können:"
   ]
  },
  {
   "cell_type": "code",
   "execution_count": null,
   "id": "55012079-81e8-4d32-a212-010381d85f7e",
   "metadata": {},
   "outputs": [],
   "source": [
    "daten[\"Schätzer_Neuerkrankungen\"].plot()"
   ]
  },
  {
   "cell_type": "markdown",
   "id": "e3c1458e-ae8b-4df1-a4cf-63fc5a826967",
   "metadata": {},
   "source": []
  },
  {
   "cell_type": "code",
   "execution_count": null,
   "id": "eab3153f-50e1-4adb-925a-1d98ff3f11a9",
   "metadata": {},
   "outputs": [],
   "source": []
  },
  {
   "cell_type": "code",
   "execution_count": null,
   "id": "81fe5de0-152a-43a0-bf7c-4f0091126707",
   "metadata": {},
   "outputs": [],
   "source": []
  },
  {
   "cell_type": "code",
   "execution_count": null,
   "id": "03dfe524-6e4d-4029-a24e-545e18b4913b",
   "metadata": {},
   "outputs": [],
   "source": []
  }
 ],
 "metadata": {
  "kernelspec": {
   "display_name": "Python 3",
   "language": "python",
   "name": "python3"
  },
  "language_info": {
   "codemirror_mode": {
    "name": "ipython",
    "version": 3
   },
   "file_extension": ".py",
   "mimetype": "text/x-python",
   "name": "python",
   "nbconvert_exporter": "python",
   "pygments_lexer": "ipython3",
   "version": "3.8.3"
  }
 },
 "nbformat": 4,
 "nbformat_minor": 5
}
