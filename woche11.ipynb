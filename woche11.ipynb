{
 "cells": [
  {
   "cell_type": "markdown",
   "id": "132d3715-2142-4043-9dd9-228eb7059c61",
   "metadata": {},
   "source": [
    "# Woche 11 GUI (graphical user interface = grafische Benutzeroberfläche)"
   ]
  },
  {
   "cell_type": "markdown",
   "id": "125fc8de-123b-4d31-91e2-9289e72c42de",
   "metadata": {},
   "source": [
    "Bevor wir einen Ausflug in die GUI-Programmierung unternehmen, müssen einige Module geladen werden. \n",
    "\n",
    "<font color='red'>\n",
    "Bitte installieren Sie mit dem Anaconda-Navigator --> Environments das Modul jupyterlab-widgets nach, falls es fehlen sollte.\n",
    "</font></br>\n",
    "\n",
    "\n",
    "Bitte führen Sie mindestens einmal den folgenden Code aus, um die Funktionen für die GUI-Programmierung in den Speicher zu laden. Mehr Details zu grafischen Benutzeroberflächen in Jupyter Notebooks finden Sie auf der Internetseite https://ipywidgets.readthedocs.io/en/stable/."
   ]
  },
  {
   "cell_type": "code",
   "execution_count": null,
   "id": "8af2da7c-53a2-4bd8-8df1-443ef9ef56c4",
   "metadata": {},
   "outputs": [],
   "source": [
    "from __future__ import print_function\n",
    "from ipywidgets import interact, interactive, fixed, interact_manual\n",
    "import ipywidgets as widgets\n",
    "from numpy import *\n",
    "from matplotlib.pylab import *"
   ]
  },
  {
   "cell_type": "markdown",
   "id": "ce088c14-451e-4cae-9b30-39989977c891",
   "metadata": {},
   "source": [
    "## 11.1 Sliders\n",
    "\n",
    "Danach programmieren wir zum Einstieg eine sehr simple Funktion."
   ]
  },
  {
   "cell_type": "code",
   "execution_count": null,
   "id": "fd4475cd-5234-400d-96ab-714658b970f6",
   "metadata": {},
   "outputs": [],
   "source": [
    "def f(x):\n",
    "    print('Die Quadratzahl von {} ist {}.'.format(x, x**2)) "
   ]
  },
  {
   "cell_type": "markdown",
   "id": "ff7a90fe-0b86-4e64-9ca4-8674ef9986dd",
   "metadata": {},
   "source": [
    "Ich kann diese Funktion nun wie gewohnt aufrufen:"
   ]
  },
  {
   "cell_type": "code",
   "execution_count": null,
   "id": "ef0ffb62-e10c-4b27-a62c-ff59fbb4173b",
   "metadata": {},
   "outputs": [],
   "source": [
    "f(2)"
   ]
  },
  {
   "cell_type": "markdown",
   "id": "d95cbd81-01da-4228-8453-9a816040a006",
   "metadata": {},
   "source": [
    "Oder beispielsweise alle Werte von -3 bis 3 durchlaufen:"
   ]
  },
  {
   "cell_type": "code",
   "execution_count": null,
   "id": "b22c2db8-95e6-487b-8387-effad08ab427",
   "metadata": {},
   "outputs": [],
   "source": [
    "for x in range(-3,4):\n",
    "    f(x)"
   ]
  },
  {
   "cell_type": "markdown",
   "id": "4a81794c-b49a-451b-a45d-a3ef76bb0770",
   "metadata": {},
   "source": [
    "Komfortabler für Benutzerinnen und Benutzer sind grafische Benutzeroberflächen. Wir führen als erstes **Slider** ein. Ein Slider ist ein grafisches Kontrollelement, mit dem die Benutzerin einen Wert setzen kann, indem ein Indikator bewegt wird.\n",
    "\n",
    "Dazu nutzen wir die Funktion `interact()` aus dem Modul `ipywidgets`. Die Funktion `interact()` erzeugt zuerst einen Slider mit Variable und bennent diesen Slider als `x` (siehe 2. Argument von interact) und verbindet dann die Variable x mit der Funktion im 1. Argument. \n",
    "\n",
    "Klingt alles komplizierter als der entsprechende Code ist:"
   ]
  },
  {
   "cell_type": "code",
   "execution_count": null,
   "id": "571240b5-41bd-4f69-90ed-f703d33eaac8",
   "metadata": {},
   "outputs": [],
   "source": [
    "interact(f, x=10);"
   ]
  },
  {
   "cell_type": "markdown",
   "id": "e507be96-5ca3-4c56-b721-9f1a1db5e202",
   "metadata": {},
   "source": [
    "Schauen wir uns ein zweites Beispiel an. Wir visualisieren eine Parabel mit einem Vorfaktor, also $f(x)=a\\cdot x^2$. Dazu schreiben wir eine Funktion, die den Vorfaktor als Input-Argument entgegen nimmt und dann die Parabel mit dem Definitionsgebiet $[-10, 10]$ zeichnet:"
   ]
  },
  {
   "cell_type": "code",
   "execution_count": null,
   "id": "ac5ba53d-e5e0-4a42-be28-9bac83e4c095",
   "metadata": {},
   "outputs": [],
   "source": [
    "def zeichne_parabel(a):\n",
    "    x = linspace(-10, 10, 200)\n",
    "    y = a * x**2\n",
    "    plot(x,y)"
   ]
  },
  {
   "cell_type": "code",
   "execution_count": null,
   "id": "a58e617d-ba0a-407c-8c35-18bddac0c466",
   "metadata": {},
   "outputs": [],
   "source": [
    "interact(zeichne_parabel, a=1);"
   ]
  },
  {
   "cell_type": "markdown",
   "id": "99d9a256-9817-4427-8f2c-0c68f038ee2a",
   "metadata": {},
   "source": [
    "Wie Sie sehen, wird bei der Initialisierung des Sliders ein Startwert gesetzt. Das vertiefen wir gleich. Zunächst eine Aufgabe:\n",
    "\n",
    "#### Aufgabe 11.1\n",
    "\n",
    "Schreiben Sie eine Funktion, die die Funktion $f(x) = \\sin(k \\cdot x)$ im Intervall $[-2\\pi, 2\\pi]$ zeichnet. Definieren Sie anschließend für `k` einen Slider mit Startwert $k=2$. Bewegen Sie anschließend den Slider."
   ]
  },
  {
   "cell_type": "code",
   "execution_count": null,
   "id": "847a3474-1948-43cd-a313-232c76083b78",
   "metadata": {},
   "outputs": [],
   "source": []
  },
  {
   "cell_type": "markdown",
   "id": "7a23b7fa-fd76-470f-abaa-4a250f869780",
   "metadata": {},
   "source": [
    "Es ist auch möglich, zwei Slider zu definieren. Die folgende Funktion zeichnet einen Punkt an den Koordinaten $(x,y)$:"
   ]
  },
  {
   "cell_type": "code",
   "execution_count": null,
   "id": "468b267e-f86a-4feb-96bd-336137168bc4",
   "metadata": {},
   "outputs": [],
   "source": [
    "def zeichne_punkt(x,y):\n",
    "    plot(x,y, 'o')\n",
    "    xlim([-5,5])\n",
    "    ylim([-5,5])"
   ]
  },
  {
   "cell_type": "code",
   "execution_count": null,
   "id": "047e354e-382a-4757-ac53-b5b6abefc59a",
   "metadata": {},
   "outputs": [],
   "source": [
    "zeichne_punkt(1,2)"
   ]
  },
  {
   "cell_type": "markdown",
   "id": "725893fc-6036-411b-b51b-3f8f7593f571",
   "metadata": {},
   "source": [
    "Als nächstes definieren wir zwei Slider und verbinden die beiden Slider mit der Funktion."
   ]
  },
  {
   "cell_type": "code",
   "execution_count": null,
   "id": "3284327b-d16e-4103-83dc-529f54d56768",
   "metadata": {},
   "outputs": [],
   "source": [
    "interact(zeichne_punkt, x = 1, y = 2);"
   ]
  },
  {
   "cell_type": "markdown",
   "id": "af65d763-ec5e-44c3-a714-3ace61a4f9ca",
   "metadata": {},
   "source": [
    "Es ist schade, dass wir nicht ganz nach links oder unten kommen, weil die Slider Grenzen haben. Diese Grenzen und auch die Schrittweite zwischen den einzelnen Werten des Sliders können wir direkt bei der Initialisierung der Slider kontrollieren. Dann ist der Aufruf allerdings etwas komplizierter:"
   ]
  },
  {
   "cell_type": "code",
   "execution_count": null,
   "id": "07fd453b-33a9-49d8-a9db-f3d883e4b623",
   "metadata": {},
   "outputs": [],
   "source": [
    "interact(zeichne_punkt, \n",
    "         x = widgets.IntSlider(min=-5, max=5, step=1, value=1), \n",
    "         y = widgets.IntSlider(min=-5, max=5, step=1, value=2));"
   ]
  },
  {
   "cell_type": "markdown",
   "id": "716715e4-0305-4ace-873e-c13328cc67a7",
   "metadata": {},
   "source": [
    "Der `IntSlider` kann auch durch einen `FloatSlider` ersetzt werden, bei dem dann auch Fließkommazahlen und kleinere Zwischenschritte erlaubt sind."
   ]
  },
  {
   "cell_type": "code",
   "execution_count": null,
   "id": "606079dd-0bed-4a0f-aab5-dbc77c37d5e1",
   "metadata": {},
   "outputs": [],
   "source": [
    "interact(zeichne_punkt, \n",
    "         x = widgets.FloatSlider(min=-5, max=5, step=0.2, value=1), \n",
    "         y = widgets.FloatSlider(min=-5, max=5, step=0.5, value=2));"
   ]
  },
  {
   "cell_type": "markdown",
   "id": "23836718-4330-4604-92f6-c9399593ed5a",
   "metadata": {},
   "source": [
    "#### Aufgabe 11.2\n",
    "\n",
    "Eine Gerade wird durch die Funktionsgleichung\n",
    "\n",
    "$y=m\\cdot x + b$\n",
    "\n",
    "mit der Steigung $m$ und dem y-Achsenabschnitt $b$ beschrieben. Schreiben Sie eine Funktion, die eine Gerade im Intervall $[-5,5]$ zeichnet und bei der die y-Achse stets zwischen $-10$ und $10$ anzeigt. Eine Benutzerin oder ein Benutzer soll die Steigung im Bereich $m\\in[-3,3]$ mit der Schrittweite $0.1$ und den y-Achsenabschnitt $b\\in[-7.5, 7.5]$ mit der Schrittweite $0.5$ wählen können. "
   ]
  },
  {
   "cell_type": "code",
   "execution_count": null,
   "id": "7a39835d-521f-4f6c-bb6e-63600de35167",
   "metadata": {},
   "outputs": [],
   "source": []
  },
  {
   "cell_type": "markdown",
   "id": "8d7a920c-1838-48c5-8e3c-68b9941bc92f",
   "metadata": {},
   "source": [
    "## 11.2 Edit Field\n",
    "\n",
    "Bei einem Slider wird indirekt eine Variable mit einem Wert gefüllt, indem der Benutzer oder die Benutzerin der Applikation einen Indikator regelt. Im Gegenzug dazu erfolgt die direkte Eingabe über dein sogenanntes **Edit Field**. \n",
    "\n",
    "Wir konstruieren ein Eingabefeld für eine Altersabfrage. Der erste Wert, der angezeigt werden soll, bevor der Benutzer seine Eingabe tätigt, wird mit `value` definiert. `description` ist die Beschreibung, die vor dem Edit Field steht:"
   ]
  },
  {
   "cell_type": "code",
   "execution_count": null,
   "id": "09fc9824-eae1-4bca-9e9b-d4d74c204e0c",
   "metadata": {},
   "outputs": [],
   "source": [
    "widgets.IntText(\n",
    "    value=18,\n",
    "    description='Alter:'\n",
    ")"
   ]
  },
  {
   "cell_type": "markdown",
   "id": "d75f1294-3daf-4909-8b6f-196add3db1f9",
   "metadata": {},
   "source": [
    "Wir können nun zwar das Edit Field direkt mit ganzzahligen Werten befüllen, doch werden diese nicht gespeichert. Daher wird im Folgenden das Edit Field mit einer Funktion verbunden. Dazu verwenden wir erneut die Funktion `interact()`:"
   ]
  },
  {
   "cell_type": "code",
   "execution_count": null,
   "id": "4c287189-ff7d-44a5-9e6e-2575c5c26ff0",
   "metadata": {},
   "outputs": [],
   "source": [
    "def drucke(a):\n",
    "    print('Das eingegebene Alter ist: ', a)\n",
    "\n",
    "interact(drucke, a = widgets.IntText(value=18, description='Alter:' ));"
   ]
  },
  {
   "cell_type": "markdown",
   "id": "9c15a9a3-8ca0-4a5f-b853-bf57e2fe943f",
   "metadata": {},
   "source": [
    "#### Aufgabe 11.3\n",
    "\n",
    "Schreiben Sie eine Funktion, die das Geburtsjahr eines Benutzers über ein Edit Field abfragt und danch das Alter berechnet und ausgibt."
   ]
  },
  {
   "cell_type": "code",
   "execution_count": null,
   "id": "e85412a1-6a08-4109-b530-6c12c371ba36",
   "metadata": {},
   "outputs": [],
   "source": []
  },
  {
   "cell_type": "markdown",
   "id": "14aec1f4-980e-43d7-8421-651a1bb32a29",
   "metadata": {},
   "source": [
    "## 11.3 Drop-Down-Liste\n",
    "\n",
    "Eine **Drop-Down-Liste**, manchmal auch **Pulldown-Menü** genannt, ermöglicht eine Auswahl aus einer Liste von Objekten. Die einzelnen Auswahlmöglichkeiten werden als Optionen gelistet. Wieder wird die Beschreibung vor dem GUI-Element über den Wert von `description` gesetzt. Ein Startwert wird über `value` vorausgewählt."
   ]
  },
  {
   "cell_type": "code",
   "execution_count": null,
   "id": "39cd08d1-006e-4f4b-95f4-d41bb6c33eae",
   "metadata": {},
   "outputs": [],
   "source": [
    "widgets.Dropdown(\n",
    "    options = [1, 2, 3],\n",
    "    value = 2,\n",
    "    description = 'Zahl:'\n",
    ")"
   ]
  },
  {
   "cell_type": "markdown",
   "id": "34d6ee16-2a55-4284-8ec8-9be93b8d33b6",
   "metadata": {},
   "source": [
    "Die Verwendung dieses GUI-Elements erfolgt analog zu den vorherigen. Allerdings packen wir der Übersichtlichkeit halber zunächst die Drop-Down-Liste in eine Variable `dropdown` und verbinden per `interact()` die Funktion `f` und ihre Variable `x`:"
   ]
  },
  {
   "cell_type": "code",
   "execution_count": null,
   "id": "9a4aec2a-86e6-4dcb-9150-659fc5e19d7b",
   "metadata": {},
   "outputs": [],
   "source": [
    "def f(x):\n",
    "    print('Die Quadratzahl von {} ist {}.'.format(x, x**2)) \n",
    "    \n",
    "dropdown = widgets.Dropdown(\n",
    "    options = [1, 2, 3],\n",
    "    value = 2,\n",
    "    description = 'Zahl:')\n",
    "interact(f, x=dropdown);"
   ]
  },
  {
   "cell_type": "markdown",
   "id": "80eabe37-43f3-45d8-8735-8e2301fcd385",
   "metadata": {},
   "source": [
    "#### Aufgabe 11.4\n",
    "\n",
    "Schreiben Sie ein Programm, bei dem der Benutzer über zwei Drop-Down-Listen den Tag und den Monat seines Geburtstages auswählt. Lassen Sie den Computer danach feststellen, ob der Benutzer dieses Jahr schon Geburtstag hatte, heute gerade Gebutstag hat (Gratulation) oder noch Geburtstag haben wird. Geben Sie eine entsprechende Meldung aus."
   ]
  },
  {
   "cell_type": "code",
   "execution_count": null,
   "id": "a9493c17-7586-4357-a15c-96fb3f03d6ba",
   "metadata": {},
   "outputs": [],
   "source": []
  },
  {
   "cell_type": "markdown",
   "id": "a7f5907d-555a-4926-a04a-f9e7363c5c1c",
   "metadata": {},
   "source": [
    "## 11.4 Checkbox\n",
    "\n",
    "Checkboxen sind explizit für die Abfrage von booleschen Werte, d.h. wahr oder falsch, gemacht. Hier direkt ein Beispiel:"
   ]
  },
  {
   "cell_type": "code",
   "execution_count": null,
   "id": "4749d16a-6d6f-4d88-8e40-8db48da07974",
   "metadata": {},
   "outputs": [],
   "source": [
    "widgets.Checkbox(\n",
    "    value = False,\n",
    "    description = 'Ja oder nein? ',\n",
    "    indent = False\n",
    ")"
   ]
  },
  {
   "cell_type": "markdown",
   "id": "dbe895ad-7d1f-4ecc-ab58-e9b0947e6c9e",
   "metadata": {},
   "source": [
    "Falls Sie sich über die neue Option `indent` (zu deutsch Einzug) gewundert haben, probieren Sie mal aus, was passiert, wenn Sie diese Option weglassen oder auf `True` setzen."
   ]
  },
  {
   "cell_type": "code",
   "execution_count": null,
   "id": "3b402f99-0b27-441c-83e2-cdce0e417517",
   "metadata": {},
   "outputs": [],
   "source": [
    "widgets.Checkbox(\n",
    "    value = False,\n",
    "    description = 'Ja oder nein? ',\n",
    "    indent = True\n",
    ")"
   ]
  },
  {
   "cell_type": "markdown",
   "id": "8b6ac338-f7d1-49db-9def-51c38133d1cc",
   "metadata": {},
   "source": [
    "Wir erweitern unseren Plot der Sinus-Funktion um eine Legende."
   ]
  },
  {
   "cell_type": "code",
   "execution_count": null,
   "id": "08567170-8bd9-4f59-9a39-8d5a10d8016c",
   "metadata": {},
   "outputs": [],
   "source": [
    "def plotte_sinus(mit_legende):\n",
    "    x = linspace(-2*pi, +2*pi)\n",
    "    y = sin(x)\n",
    "    plot(x, y, label='Sinus')\n",
    "    if mit_legende == True:\n",
    "        legend()\n",
    "        \n",
    "\n",
    "legende_checkbox = widgets.Checkbox(\n",
    "    value = False,\n",
    "    description = 'Legende ein ',\n",
    "    indent = True\n",
    ")      \n",
    "\n",
    "interact(plotte_sinus, mit_legende = legende_checkbox);"
   ]
  },
  {
   "cell_type": "markdown",
   "id": "460ff96b-3c91-4b7e-8ee6-110c622a4e3e",
   "metadata": {},
   "source": [
    "#### Aufgabe 11.5\n",
    "\n",
    "Schreiben Sie ein Programm, bei dem der Benutzer über eine Drop-Down-Liste zwischen den Funktionen Sinus und Kosinus wählen darf. Anschließend wird die ausgewählte Funktion im Intervall $[-2\\pi, 2\\pi]$ gezeichnet. Über eine Checkbox darf der Benutzer entscheiden, ob die Gitterlinien eingeblendet werden sollen oder nicht. "
   ]
  },
  {
   "cell_type": "code",
   "execution_count": null,
   "id": "a11a7cd0-884c-4e58-a079-2a890a24961a",
   "metadata": {},
   "outputs": [],
   "source": []
  }
 ],
 "metadata": {
  "kernelspec": {
   "display_name": "Python 3",
   "language": "python",
   "name": "python3"
  },
  "language_info": {
   "codemirror_mode": {
    "name": "ipython",
    "version": 3
   },
   "file_extension": ".py",
   "mimetype": "text/x-python",
   "name": "python",
   "nbconvert_exporter": "python",
   "pygments_lexer": "ipython3",
   "version": "3.8.3"
  }
 },
 "nbformat": 4,
 "nbformat_minor": 5
}
