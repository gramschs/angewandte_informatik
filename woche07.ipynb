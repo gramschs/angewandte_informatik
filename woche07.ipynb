{
 "cells": [
  {
   "cell_type": "markdown",
   "id": "89a3a233-3d6c-405c-aee8-da8d9bca4ae0",
   "metadata": {},
   "source": [
    "# Woche 07 - Datentypen, Teil 2\n",
    "\n",
    "Bisher haben wir die Datentypen\n",
    "\n",
    "* Integer\n",
    "* Float\n",
    "* String\n",
    "* Boolean\n",
    "    \n",
    "kennengelernt.\n",
    "\n",
    "Zur Erinnerung, mit der Funktion `type()` können Sie den Python-Interpreter bestimmen lassen, welcher Datentyp in einer Variable gespeichert ist, z.B."
   ]
  },
  {
   "cell_type": "code",
   "execution_count": null,
   "id": "63406d9f-1a74-4a83-892a-4b60b89fb432",
   "metadata": {},
   "outputs": [],
   "source": [
    "x = 17.9\n",
    "type(x)"
   ]
  },
  {
   "cell_type": "markdown",
   "id": "fec1a193-ed6e-4b48-abe1-def8e5ca7b34",
   "metadata": {},
   "source": [
    "Nun erweitern wir unser Repertoire und beschäftigen uns zuerst etwas detaillierter mit **Strings**, um uns dann mit **Listen** zu beschäftigen."
   ]
  },
  {
   "cell_type": "markdown",
   "id": "d418a57e-1221-4c3f-929d-a7bacfb6988d",
   "metadata": {},
   "source": [
    "## Strings\n",
    "\n",
    "Der deutsche Name von String ist Zeichenkette. Dies ist bereits ein Hinweis darauf, dass es sich bei Strings um einen Datentyp handelt, der die einzelnen Elemente \"Zeichen\" zusammenfasst. Etwas präziser formuliert ist ein String ein **sequentieller Container**.\n",
    "\n",
    "Sequentielle Container sind Sammlungen von Datenobjekten. Manchmal werden sie auch kurz als Sequenzen abgekürzt. Sequentielle Container sind mit ganzen Zahlen, also Integern, durchnummeriert. Die Nummerierung beginnt bei 0. Die Nummer eines Elementes aus der Sequenz nennt man Index. Umgangssprachlich könnte man den Index auch als Hausnummer bezeichnen.\n",
    "\n",
    "In einer Sequenz hat also das erste Element den Index 0. Das zweite Element hat den Index 1 usw. Um ein einzelnes Element einer Sequenz herausgreifen zu können, schreibt man `s[i]`. Dabei ist s der Name der Sequenz. Um einfach auf das letzte Element einer Sequenz zugreifen zu können, hat Python den Index -1 eingeführt.\n",
    "\n",
    "Probieren wir ein paar Beispiele aus:"
   ]
  },
  {
   "cell_type": "code",
   "execution_count": null,
   "id": "2347105b-308b-4e79-a5cc-d0af29d9d9b4",
   "metadata": {},
   "outputs": [],
   "source": [
    "beispiel_string = 'Dies ist ein String!'\n",
    "\n",
    "print('Das 1. Element in beispiel_string hat den Index 0 und enthält')\n",
    "print(beispiel_string[0])\n",
    "\n",
    "print('Das 3. Element in beispiel_string hat den Index 2 und enthält')\n",
    "print(beispiel_string[2])"
   ]
  },
  {
   "cell_type": "markdown",
   "id": "39874e92-5287-4fb2-a8fe-b58155d6dcbb",
   "metadata": {},
   "source": [
    "Der Index kann auch eine Variable sein, wie hier, wo der Index die Zahlen von 3 bis 7 in einer for-Schleife durchläuft und die dazugehörigen Elemente ausgibt:"
   ]
  },
  {
   "cell_type": "code",
   "execution_count": null,
   "id": "9df6a36e-d0f4-4515-a568-fdc8a730817c",
   "metadata": {},
   "outputs": [],
   "source": [
    "for i in range(3,8):\n",
    "    print(beispiel_string[i])"
   ]
  },
  {
   "cell_type": "markdown",
   "id": "48f9b63a-c3f7-48cd-99e7-b377fdc71357",
   "metadata": {},
   "source": [
    "Bemerkung: auch das Leerzeichen ist ein Zeichen!\n",
    "\n",
    "In Python braucht man nicht den Umweg über den Index gehen, man kann auch direkt über die Elemente des Containers iterieren. Dabei wird die Reihenfolge eingehalten, die durch die Nummerierung vorgegeben wird:    "
   ]
  },
  {
   "cell_type": "code",
   "execution_count": null,
   "id": "f7628e76-71c3-464f-9bba-5612bebfa61a",
   "metadata": {},
   "outputs": [],
   "source": [
    "for z in beispiel_string:\n",
    "    print(z)"
   ]
  },
  {
   "cell_type": "markdown",
   "id": "bb58bd3e-035b-4a86-8ad0-4436562551fc",
   "metadata": {},
   "source": [
    "Für sequentielle Container und damit auch insbesondere für Strings bietet Python Standardfunktionen. Hier die wichtigsten:\n",
    "\n",
    "* `s[i]` gibt das i-te Element von `s` zurück\n",
    "* `s[i:j]` gibt die Elemente i bis j-1 zurück\n",
    "* `s[start:ende:schrittweite]` gibt die Elemente von Index `start` bis `ende-1` mit einer Schrittweite aus \n",
    "* `len(s)` gibt die Anzahl der Elemente von s zurück\n",
    "* `min(s)` gibt das kleinste Element von s zurück\n",
    "* `max(s)` gibt das größte Element von s zurück\n",
    "* `x in s` gibt den Wahrheitswert `True` zurück, wenn `x` in der Sequenz `s` enthalten ist\n",
    "* `s1 + s2` verknüpft `s1` und `s2`\n",
    "* `n * s` generiert `n` Kopien der Sequenz `s`"
   ]
  },
  {
   "cell_type": "markdown",
   "id": "242094e1-c7c7-43c3-9355-15daf137ef96",
   "metadata": {},
   "source": [
    "Probieren wir sie an Beispielen aus. Denken Sie sich eigene Beispiele aus, um die Funktionen kennenzulernen:"
   ]
  },
  {
   "cell_type": "code",
   "execution_count": null,
   "id": "34257013-83de-4a30-b70f-48ca46bfd315",
   "metadata": {},
   "outputs": [],
   "source": [
    "beispiel_string[3]"
   ]
  },
  {
   "cell_type": "markdown",
   "id": "41d3afd3-9c2e-47e0-88ba-9f2668531022",
   "metadata": {},
   "source": [
    "Warum wird das \"s\" ausgegeben und nicht das \"e\" ?"
   ]
  },
  {
   "cell_type": "code",
   "execution_count": null,
   "id": "6daf6d9c-9247-4942-bbbf-03e8a3843019",
   "metadata": {},
   "outputs": [],
   "source": [
    "beispiel_string[3:8]"
   ]
  },
  {
   "cell_type": "code",
   "execution_count": null,
   "id": "74899d64-4b60-41b7-a600-e508983c4b4f",
   "metadata": {},
   "outputs": [],
   "source": [
    "len(beispiel_string)"
   ]
  },
  {
   "cell_type": "code",
   "execution_count": null,
   "id": "65587621-703b-4b6b-8107-7d04d8ba6525",
   "metadata": {},
   "outputs": [],
   "source": [
    "min(beispiel_string)"
   ]
  },
  {
   "cell_type": "code",
   "execution_count": null,
   "id": "caa4132e-36e1-4208-8342-63fd7ec2fa73",
   "metadata": {},
   "outputs": [],
   "source": [
    "max(beispiel_string)"
   ]
  },
  {
   "cell_type": "markdown",
   "id": "f606ace4-e530-4baf-84c2-8b9d9e811d31",
   "metadata": {},
   "source": [
    "#### Aufgabe 7.1\n",
    "\n",
    "Schreiben Sie Code, der Ihren Vornamen abfragt und anschließend die Länge Ihres Vornamens bestimmt. Dann gibt das Programm den Buchstaben aus, der als erstes im Alphabet vorkommt. Schreiben Sie einmal Ihren Namen komplett klein, also z.B. \"alice\" und beim zweiten Mal mit großem Anfangsbuchstaben, also z.B. \"Alice\". Was beobachten Sie?"
   ]
  },
  {
   "cell_type": "code",
   "execution_count": null,
   "id": "52a0222c-9fa8-40e4-be02-ec9d4302ce16",
   "metadata": {},
   "outputs": [],
   "source": []
  },
  {
   "cell_type": "markdown",
   "id": "534cb846-5892-496b-a818-514afc032db7",
   "metadata": {},
   "source": [
    "Die Zugriffe auf die Elemente des sequentiellen Containers nennt man **Slicing**. Die beiden Beispiele `s[3]` oder `s[3:8]` haben wir ja oben schon gehabt. Man kann diesen Zugriff noch erweitern. Was macht folgender Slice:"
   ]
  },
  {
   "cell_type": "code",
   "execution_count": null,
   "id": "ce253860-0503-4b83-84b5-3540bdf2c686",
   "metadata": {},
   "outputs": [],
   "source": [
    "laenge = len(beispiel_string)\n",
    "print(beispiel_string[0:laenge:2])"
   ]
  },
  {
   "cell_type": "markdown",
   "id": "3140981d-f467-49bc-a53d-c7d958e584af",
   "metadata": {},
   "source": [
    "Man braucht auch nicht vorab die Länge des Strings ermitteln, man kann auch bei `[start:ende:schrittweite]` entweder `start` weglassen (dann wird ab 0 indiziert) oder `ende` weglassen (dann wird bis zum Ende iteriert)."
   ]
  },
  {
   "cell_type": "code",
   "execution_count": null,
   "id": "8375c665-f1bd-4378-b61a-dd201d15faf3",
   "metadata": {},
   "outputs": [],
   "source": [
    "print(beispiel_string[ : :2])"
   ]
  },
  {
   "cell_type": "markdown",
   "id": "6c902676-e762-4c96-afc6-49b39b3a6f99",
   "metadata": {},
   "source": [
    "Mit `in` kann überprüft werden, ob ein Element in dem sequentiellen Container enthalten ist. Ersetzen Sie in dem folgenden Beispiel den String Alice durch Ihren eigenen Vornamen:"
   ]
  },
  {
   "cell_type": "code",
   "execution_count": null,
   "id": "575206ba-3c03-4b1e-ab3c-abf06629c16b",
   "metadata": {},
   "outputs": [],
   "source": [
    "if 'e' in 'Simone':\n",
    "    print('e ist in dem Wort drin')\n",
    "else:\n",
    "    print('e kommt nicht vor')"
   ]
  },
  {
   "cell_type": "markdown",
   "id": "d43e9fc3-cb9e-4303-8a3a-ac7c2e6f0875",
   "metadata": {},
   "source": [
    "#### Aufgabe 7.2 Vokale zählen\n",
    "\n",
    "Schreiben Sie ein Programm, das den Benutzer bittet, ein Wort oder einen ganzen Satz einzugeben. Dann berechnet das Programm, wie häufig Vokale (also A,E,I,O und U) darin vorkommen und gibt diese Anzahl aus.\n",
    "\n",
    "Testen Sie Ihr Programm. Beispielablauf:\n",
    "\n",
    "```\n",
    "Computer: Bitte geben Sie ein Wort oder einen Satz ein:\n",
    "Benutzer: Dies ist ein Test.\n",
    "Computer: In Ihrer Eingabe sind 6 Vokale.\n",
    "```\n",
    "\n",
    "Funktioniert Ihr Programm auch bei dem Wort dem Wort Oase und gibt drei Vokale zurück?"
   ]
  },
  {
   "cell_type": "code",
   "execution_count": null,
   "id": "09c4b60d-1c8e-4fd9-a9e5-fe58c17bac32",
   "metadata": {},
   "outputs": [],
   "source": []
  },
  {
   "cell_type": "markdown",
   "id": "6511f019-cddf-43ed-bd7d-000e4c14e644",
   "metadata": {},
   "source": [
    "## Listen\n",
    "\n",
    "Eine Liste ist eine Sequenz von Objekten, Dabei können die Objekte einen beliebigen Datentyp aufweisen. Z.B. könnte eine Liste Integer enthalten:"
   ]
  },
  {
   "cell_type": "code",
   "execution_count": null,
   "id": "da399b02-34e7-4412-9eb9-acb4ffa537e1",
   "metadata": {},
   "outputs": [],
   "source": [
    "a = [34, 12, 54]\n",
    "print(a)"
   ]
  },
  {
   "cell_type": "code",
   "execution_count": null,
   "id": "fc7a3ad9-3b92-4f67-8bfa-36fb442e5d71",
   "metadata": {},
   "outputs": [],
   "source": [
    "a = ['Alice', 'Bob', 'Charlie']\n",
    "print(a)"
   ]
  },
  {
   "cell_type": "markdown",
   "id": "fe7081fe-8c14-4d63-b55d-ba8e02fd9dbf",
   "metadata": {},
   "source": [
    "Eine leere Liste wird durch `[]` definiert:"
   ]
  },
  {
   "cell_type": "code",
   "execution_count": null,
   "id": "77a859f1-fa77-4bb3-a1b4-4f04bba48521",
   "metadata": {},
   "outputs": [],
   "source": [
    "a = []\n",
    "print(a)"
   ]
  },
  {
   "cell_type": "markdown",
   "id": "02c77dba-532b-4201-8966-264bc58c6a51",
   "metadata": {},
   "source": [
    "Der Datentyp heißt formal `list`:"
   ]
  },
  {
   "cell_type": "code",
   "execution_count": null,
   "id": "99d7dd13-9bba-4b0b-a302-1278075b9456",
   "metadata": {},
   "outputs": [],
   "source": [
    "type(a)"
   ]
  },
  {
   "cell_type": "markdown",
   "id": "1bd063d7-7f6d-4b30-b065-8e02fb761054",
   "metadata": {},
   "source": [
    "Genau wie bei Strings gibt die Funktion `len()`die Anzahl der Elemente zurück:"
   ]
  },
  {
   "cell_type": "code",
   "execution_count": null,
   "id": "28a65d2e-43de-4a26-9738-dae095dd29bd",
   "metadata": {},
   "outputs": [],
   "source": [
    "a = ['Hund', 'Katze', 'Maus']\n",
    "len(a)"
   ]
  },
  {
   "cell_type": "markdown",
   "id": "ea875c55-dbae-4d55-b74d-04c2f104e72f",
   "metadata": {},
   "source": [
    "Es können verschiedene Datentypen in einer Liste gemischt werden:"
   ]
  },
  {
   "cell_type": "code",
   "execution_count": null,
   "id": "acdb6890-89c3-4a63-930a-54ad9f2e9112",
   "metadata": {},
   "outputs": [],
   "source": [
    "a = [123, 'Ente', -42, 17, 0, 'Elefant']\n",
    "print(a)"
   ]
  },
  {
   "cell_type": "markdown",
   "id": "fdc7636d-a188-4956-84f8-79f41843daba",
   "metadata": {},
   "source": [
    "Zwei Listen werden verkettet (“concatenate”) durch den `+` Operator:"
   ]
  },
  {
   "cell_type": "code",
   "execution_count": null,
   "id": "d257f5be-59a8-44ad-a251-70b0f1981147",
   "metadata": {},
   "outputs": [],
   "source": [
    "a = [3, 4, 5] + [34, 35, 100]\n",
    "print(a)"
   ]
  },
  {
   "cell_type": "markdown",
   "id": "061ba1eb-5a26-457b-aef5-841f1a56e7ed",
   "metadata": {},
   "source": [
    "Um an das Ende der Liste ein neues Element einzufügen, verwendet man die Methode `append()`. Eine **Methode** ist eine spezielle Funktion, die zu dem Datentyp gehört und daher an die Variable angehängt wird, indem man einen Punkt schreibt und dann den Methodennamen."
   ]
  },
  {
   "cell_type": "code",
   "execution_count": null,
   "id": "e3142903-d585-4d36-96f9-ab0822323b67",
   "metadata": {},
   "outputs": [],
   "source": [
    "a = [34, 56, 23]\n",
    "print(a)\n",
    "\n",
    "a.append(42)\n",
    "print(a)"
   ]
  },
  {
   "cell_type": "markdown",
   "id": "fb9e05f7-132f-4cb4-9373-88c0464729ba",
   "metadata": {},
   "source": [
    "Aus der Liste können Elemente durch die `remove()`-Methode gelöscht werden. Dabei wird das Element, das gelöscht werden soll, der Methode als Argument übergeben."
   ]
  },
  {
   "cell_type": "code",
   "execution_count": null,
   "id": "97907c93-b3a4-4049-9a3a-29cae52ce232",
   "metadata": {},
   "outputs": [],
   "source": [
    "a = [34, 56, 23, 42]\n",
    "print(a)\n",
    "\n",
    "a.remove(56)\n",
    "print(a)"
   ]
  },
  {
   "cell_type": "markdown",
   "id": "98baf407-dee8-43d2-bb87-e73772b4e7ee",
   "metadata": {},
   "source": [
    "#### Aufgabe 7.3 Video\n",
    "\n",
    "Schauen Sie sich das Video \"Python Tutorial deutsch [14/24] - Einführung in Listen\", siehe https://www.youtube.com/watch?v=ihF8bZoauBs&list=PL_pqkvxZ6ho3u8PJAsUU-rOAQ74D0TqZB&index=14 an, Zeit 8:05 min. Stoppen Sie das Video regelmäßig und probieren Sie die dort gezeigten Code-Beispiele hier aus:\n"
   ]
  },
  {
   "cell_type": "code",
   "execution_count": null,
   "id": "aef6caa6-d4b2-43fe-b903-53c9b0ac71fc",
   "metadata": {},
   "outputs": [],
   "source": []
  },
  {
   "cell_type": "markdown",
   "id": "43577fc6-7cc4-4b3c-b56f-b697ddc8e78e",
   "metadata": {},
   "source": [
    "#### Aufgabe 7.4 Video\n",
    "\n",
    "Schauen Sie sich das Video \"Python Tutorial deutsch [15/24] - Zugriff auf Listen\", siehe https://www.youtube.com/watch?v=_XzWPXvya2w&list=PL_pqkvxZ6ho3u8PJAsUU-rOAQ74D0TqZB&index=15 an, Zeit 8:30 min. Stoppen Sie das Video regelmäßig und probieren Sie die dort gezeigten Code-Beispiele hier aus:"
   ]
  },
  {
   "cell_type": "code",
   "execution_count": null,
   "id": "a67ea491-0369-433a-a156-e7dfdf5a4428",
   "metadata": {},
   "outputs": [],
   "source": []
  },
  {
   "cell_type": "markdown",
   "id": "125eff6f-8400-44d5-9821-1c9ca9aabf96",
   "metadata": {},
   "source": [
    "#### Aufgabe 7.5 Video\n",
    "\n",
    "Schauen Sie sich das Video \"Python Tutorial deutsch [16/24] - Die for-Schleife\", siehe https://www.youtube.com/watch?v=ISo1uqLcVw8&list=PL_pqkvxZ6ho3u8PJAsUU-rOAQ74D0TqZB&index=16 an, Zeit 6:38 min. Stoppen Sie das Video regelmäßig und probieren Sie die dort gezeigten Code-Beispiele hier aus:\n"
   ]
  },
  {
   "cell_type": "code",
   "execution_count": null,
   "id": "92528601-ec85-4ddb-8a32-fbc2c410d46a",
   "metadata": {},
   "outputs": [],
   "source": []
  },
  {
   "cell_type": "markdown",
   "id": "e9331212-383a-4ea2-85b2-6ebc71f71e0f",
   "metadata": {},
   "source": [
    "#### Aufgabe 7.6 \n",
    "\n",
    "Schon zweimal haben wir uns mit den Alkali-Metallen beschäftigt (siehe Aufgabe 3.7 und 4.12).\n",
    "\n",
    "Alkalimetalle sind die Stoffe Lithium (Li), Natrium (Na), Kalium (K), Rubidium (Rb), Caesium (Cs). Schreiben Sie ein Programm, das Folgendes leistet: Der Benutzer gibt die Formel eines chemischen Elementes an. Anschließend wird gemeldet, ob es sich um ein Alkalimetall handelt oder nicht. \n",
    "\n",
    "Verwenden Sie diesmal eine Liste mit den Alkalimetallen."
   ]
  },
  {
   "cell_type": "code",
   "execution_count": null,
   "id": "612b70aa-c68a-48e1-a247-6a57cca5b89d",
   "metadata": {},
   "outputs": [],
   "source": []
  },
  {
   "cell_type": "markdown",
   "id": "5cbd8f6b-06b8-4249-822c-acaa6330623d",
   "metadata": {},
   "source": [
    "#### Aufgabe 7.7\n",
    "\n",
    "Schreiben Sie das Lotto-Programm (Aufgabe 5.14) neu. \n",
    "\n",
    "1. Schreiben Sie eine Funktion, die den Benutzer sechs Zahlen zwischen 1 und 49 wählen lässt und eine Liste der gewählten Zahlen zurückgibt. Falls der Benutzer eine ungültige Zahl eingibt, soll die Funktion dem Benutzer mitteilen, warum die Zahl ungültig ist und solange nach einer gültigen Zahl weiterfragen, bis die Engabe gültig ist. Wenn die Zahl schon in der Liste ist, soll die Funktion dem Benutzer mitteilen, welche Zahlen schon gewählt wurden und solange weiterfragen, bis eine gültige neue Zahl eingegeben wurde.\n",
    "\n",
    "2. Schreiben Sie eine Funktion, in der sechs Lottozahlen zufällig gezogen werden. Die Lottozahlen werden in einer Liste gespeichert, die am Ende zurückgegeben wird. Sobald die zweite, dritte Zufallszahl usw. in die Liste gespeichert werden soll, wird erst überprüft, ob sie in der Liste schon vorhanden ist, damit keine Zahl doppelt vorkommt. \n",
    "\n",
    "3. Danach schreiben Sie eine Funktion, die zwei Listen mit Zahlen vergleicht und berechnet, wie viele Zahlen davon übereinstimmen. Die Rückgabe ist die Anzahl der übereinstimmenden Zahel (d.h. die Anzahl der richtigen Lottozahlen). \n",
    "\n",
    "Zuletzt schreiben Sie ein Programm, das die drei Funktionen verwendet. Zuerst die Abfrage nach den Benutzer-Zahlen, dann das Ziehen der Zufallszahlen und zuletzt eine Ausgabe, wie viele Zahlen richtig waren.\n",
    "\n",
    "\n",
    "Tipp: wenn die Liste nach dem dritten Ziehen z.B. `l = [17, 3, 6]` lautet, kann durch den logischen Ausdruck `x in l` überprüft werden, ob `x`schon in der Liste vorkommt (True) oder nicht (False).\n",
    "\n"
   ]
  },
  {
   "cell_type": "code",
   "execution_count": null,
   "id": "8c880587-4d9f-42dc-a304-984e67f65983",
   "metadata": {},
   "outputs": [],
   "source": [
    "\n"
   ]
  }
 ],
 "metadata": {
  "kernelspec": {
   "display_name": "Python 3",
   "language": "python",
   "name": "python3"
  },
  "language_info": {
   "codemirror_mode": {
    "name": "ipython",
    "version": 3
   },
   "file_extension": ".py",
   "mimetype": "text/x-python",
   "name": "python",
   "nbconvert_exporter": "python",
   "pygments_lexer": "ipython3",
   "version": "3.8.3"
  }
 },
 "nbformat": 4,
 "nbformat_minor": 5
}
