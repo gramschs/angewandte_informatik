{
 "cells": [
  {
   "cell_type": "markdown",
   "metadata": {},
   "source": [
    "# 3 Kontrollstrukturen\n",
    "\n",
    "Durch Kontrollstrukturen wird festgelegt, in welcher Reihenfolge Anweisungen ausgeführt werden. Normalerweise wird der Code vom Python-Interpreter Zeile für Zeile abgearbeitet. Ein Programm, das nur aus einer einfachen Aneinanderreihung von Befehlen besteht, nennt man linear. Bisher hatten wir nur lineare Programme.\n",
    "\n",
    "In dieser Vorlesung führen wir als erste Kontrollstuktur *Programmverzweigungen* ein und beginnen dazu mit einfachen Bedingungen. Wir werden uns also die Themen\n",
    "\n",
    "1. Datentyp bool\n",
    "2. Vergleiche\n",
    "3. Kontrollstruktur: if\n",
    "4. Kontrollstruktur: if - else\n",
    "5. Kontrollstruktur: if - elif - else\n",
    "\n",
    "erarbeiten. Lesen Sie zunächst im Buch \"Python 3\" von Kalista die Abschnitte\n",
    "\n",
    "* Kapitel 3.1 Was sind Schleifen und Bedingungen\n",
    "* Kapitel 3.2 Die if-Bedingung\n"
   ]
  },
  {
   "cell_type": "markdown",
   "metadata": {},
   "source": [
    "## 3.1 Datentyp bool\n",
    "\n",
    "Ein simples Beispiel für eine einfache Bedingung ist der Ausdruck `alter < 18`. Der Wert der Variablen `alter` wird mit der Zahl `18`verglichen. Dieser Vergleich ist entweder wahr (True) oder falsch (False). Oder anders formuliert, ist diese Bedingung entweder erfüllt oder nicht erfüllt. \n",
    "\n",
    "Um den Wahrheitswert einer Bedingung zu beschrieben, hat Python einen eigenen Datentyp namens `bool`. Eine Variable des Datentyps `bool` kann dabei nur zwei verschiedene Werte annehmen, nämlich\n",
    "\n",
    "* True: Wahrheitswert ist wahr oder\n",
    "* False: Wahrheitswert ist falsch.\n"
   ]
  },
  {
   "cell_type": "code",
   "execution_count": null,
   "metadata": {},
   "outputs": [],
   "source": [
    "a = True\n",
    "print(a)"
   ]
  },
  {
   "cell_type": "code",
   "execution_count": null,
   "metadata": {},
   "outputs": [],
   "source": [
    "type(a)"
   ]
  },
  {
   "cell_type": "code",
   "execution_count": null,
   "metadata": {},
   "outputs": [],
   "source": [
    "b = False\n",
    "print(b)"
   ]
  },
  {
   "cell_type": "code",
   "execution_count": null,
   "metadata": {},
   "outputs": [],
   "source": [
    "type(b)"
   ]
  },
  {
   "cell_type": "markdown",
   "metadata": {},
   "source": [
    "## 3.2 Vergleiche\n",
    "\n",
    "Ein Vergleich ist ein Ausdruck mit zwei Operanden und einem Vergleichsoperator in der Mitte. Die beiden Operanden können auch unterschiedliche Datentypen haben, dann muss der Vergleichsoperator aber sinnvoll für diese Datentypen definiert sein. Z.B. darf man einen Integer mit einem Float vergleichen `3 < 17.2`, aber `3 < 'vier'`ist nicht sinnvoll und undefiniert. Es gibt die folgenden Vergleichsoperatoren in Python:\n",
    "\n",
    "* `<` kleiner\n",
    "* `<=` kleiner oder gleich\n",
    "* `>` größer\n",
    "* `>=` größer oder gleich\n",
    "* `==`gleich\n",
    "* `!=` ungleich\n",
    "* `not` Umkehrung/Verneinung\n",
    "\n",
    "Im interaktiven Modus können wir leicht den Wahrheitsgehalt von Vergleichen überprüfen.\n"
   ]
  },
  {
   "cell_type": "code",
   "execution_count": null,
   "metadata": {},
   "outputs": [],
   "source": [
    "x = 30          \n",
    "x > 15          "
   ]
  },
  {
   "cell_type": "code",
   "execution_count": null,
   "metadata": {},
   "outputs": [],
   "source": [
    "x > 42"
   ]
  },
  {
   "cell_type": "code",
   "execution_count": null,
   "metadata": {},
   "outputs": [],
   "source": [
    "x == 30    "
   ]
  },
  {
   "cell_type": "code",
   "execution_count": null,
   "metadata": {},
   "outputs": [],
   "source": [
    "x == 42"
   ]
  },
  {
   "cell_type": "code",
   "execution_count": null,
   "metadata": {},
   "outputs": [],
   "source": [
    "not x == 42 "
   ]
  },
  {
   "cell_type": "code",
   "execution_count": null,
   "metadata": {},
   "outputs": [],
   "source": [
    "x != 42"
   ]
  },
  {
   "cell_type": "code",
   "execution_count": null,
   "metadata": {},
   "outputs": [],
   "source": [
    "x > 30  "
   ]
  },
  {
   "cell_type": "code",
   "execution_count": null,
   "metadata": {},
   "outputs": [],
   "source": [
    "x >= 30"
   ]
  },
  {
   "cell_type": "markdown",
   "metadata": {},
   "source": [
    "#### Aufgabe 3.1 \n",
    "\n",
    "Schauen Sie sich das Video \"Python-Tutorial deutsch 9/24\" zu dem Thema \"Vergleichsoperatoren und der Datentyp bool\" an: https://www.youtube.com/watch?v=ucsv_Nhhxmk&list=PL_pqkvxZ6ho3u8PJAsUU-rOAQ74D0TqZB&index=9 \n",
    "\n",
    "Stoppen Sie regelmäßig das Video und probieren Sie die im Video gezeigten Vergleiche hier in der nächsten Code-Zelle aus:"
   ]
  },
  {
   "cell_type": "code",
   "execution_count": null,
   "metadata": {},
   "outputs": [],
   "source": []
  },
  {
   "cell_type": "markdown",
   "metadata": {},
   "source": [
    "## 3.3 Kontrollstruktur: if\n",
    "\n",
    "Bei einer Programmverzweigung wird Code abhängig von einer Bedingung ausgeführt. Im einfachsten Fall liegt ein `if`-Block vor. Die Syntax lautet wie folgt:\n",
    "\n",
    "```python\n",
    "if bedingung:\n",
    "    anweisungsblock\n",
    "```\n",
    "\n",
    "Ist die Bedingung erfüllt, also `True`, so wird der eingerückte Anweisungsblock ausgeführt, ansonsten übersprungen.\n",
    "\n",
    "Wichtig ist, dass die Anweisung oder mehrere Anweisungen (d.h. der Anweisungsblock) eingerückt ist. Hier kommt eine Python-spezifische Eigenschaft zum Tragen. Der Block wird nicht durch Klammern oder ein begin/end gekennzeichnet, sondern nur durch die Einrückung. Empfehlenswert sind hier vier Leerzeichen. Was immer man wählt, in einer Python-Datei muss stets dieselbe Einrückungstiefe verwendet werden. Daher ist es ungünstig, Tabulatore und Leerzeichen zu mischen, weil man bei Weitergabe des Codes nicht weiß, wie auf dem Zielsystem die Tabulatorbreite definiert ist.\n",
    "\n",
    "Wir betrachten nun ein Beispiel:"
   ]
  },
  {
   "cell_type": "code",
   "execution_count": null,
   "metadata": {},
   "outputs": [],
   "source": [
    "alter = 14\n",
    "if alter >= 18:\n",
    "    print('Sie dürfen Alkohol kaufen.')\n",
    "print('Bananen dürfen Sie immer kaufen, egal wie alt Sie sind ...')"
   ]
  },
  {
   "cell_type": "code",
   "execution_count": null,
   "metadata": {},
   "outputs": [],
   "source": [
    "alter = int(input('Wie alt sind Sie?'))\n",
    "if alter >= 18:\n",
    "    print('Sie dürfen Alkohol kaufen.')\n",
    "print('Bananen dürfen Sie immer kaufen, egal wie alt Sie sind...')"
   ]
  },
  {
   "cell_type": "markdown",
   "metadata": {},
   "source": [
    "#### Aufgabe 3.2\n",
    "\n",
    "Schauen Sie sich das Video \"Python-Tutorial deutsch 10/24\" zu dem Thema \"Die if Anweisung\" an: https://www.youtube.com/watch?v=b6KzYbM-Hvg&list=PL_pqkvxZ6ho3u8PJAsUU-rOAQ74D0TqZB&index=10\n",
    "\n",
    "Stoppen Sie regelmäßig das Video und probieren Sie die im Video gezeigten Vergleiche hier in der nächsten Code-Zelle aus:"
   ]
  },
  {
   "cell_type": "code",
   "execution_count": null,
   "metadata": {},
   "outputs": [],
   "source": []
  },
  {
   "cell_type": "markdown",
   "metadata": {},
   "source": [
    "#### Aufgabe 3.3\n",
    "\n",
    "Schreiben Sie ein Programm, das nach dem 7-Tage-Inzidenzwert Ihrer Heimatstadt fragt. Wenn die Inzidenz größer als 100 ist, soll das Programm ausgeben: \"Leider gibt es in Ihrer Stadt Ausgangsbeschränkungen\". Wenn die Inzidenz größer als 165 ist, soll das Programm ausgeben \"Zusätzlich müssen die Schulen schließen\". "
   ]
  },
  {
   "cell_type": "code",
   "execution_count": null,
   "metadata": {},
   "outputs": [],
   "source": []
  },
  {
   "cell_type": "markdown",
   "metadata": {},
   "source": [
    "#### Aufgabe 3.4\n",
    "\n",
    "Schreiben Sie ein Programm, dass den Benutzer nach seinem Geburtsjahr fragt. Danach rechnet das Programm aus, wie alt der Benutzer dieses Jahr wird. Wenn der Benutzer dieses Jahr volljährig wird, soll das Programm ausgeben: \"Hurra, Sie werden oder wurden dieses Jahr volljährig!\" Wenn der Benutzer schon volljährig ist, soll das Programm ausgeben: \"Sie sind bereits volljährig.\" "
   ]
  },
  {
   "cell_type": "code",
   "execution_count": null,
   "metadata": {},
   "outputs": [],
   "source": []
  },
  {
   "cell_type": "markdown",
   "metadata": {},
   "source": [
    "## 3.4 Kontrollstrukturen: if - else\n",
    "\n",
    "Es gibt auch zweiteilige Programmverzweigungen. Die Syntax wird folgendermaßen erweitert:\n",
    "\n",
    "```python\n",
    "if bedingung:\n",
    "    anweisungsblock 1\n",
    "else:\n",
    "    anweisungsblock 2\n",
    "```\n",
    "\n",
    "Falls die Bedingung erfüllt ist, wird der 1. Anweisungsblock ausgeführt, ansonsten der 2. Anweisungsblock. Danach führt der Python-Interpreter alles nach dem `if-else`-Konstrukt aus. Wichtig ist, dass `if` und `else` die gleiche Einrückungstiefe haben genau wie die beiden Anweisungsblöcke.\n",
    "Bei einer Programmverzweigung wird Code abhängig von einer Bedingung ausgeführt. "
   ]
  },
  {
   "cell_type": "code",
   "execution_count": null,
   "metadata": {},
   "outputs": [],
   "source": [
    "alter = int(input('Wie alt sind Sie? '))\n",
    "if alter >= 18:\n",
    "    print('Sie dürfen Alkohol kaufen.')\n",
    "else:\n",
    "    print('Sie sind noch nicht volljährig und dürfen daher keinen Alkohol kaufen.')\n",
    "print('Jetzt haben wir aber genug über den Alkoholkauf geredet...')"
   ]
  },
  {
   "cell_type": "markdown",
   "metadata": {},
   "source": [
    "## 3.5 Kontrollstrukturen: if - elif - else\n",
    "\n",
    "Häufig müssen mehr als zwei Fälle unterschieden werden. Wenn man beispielsweise unterscheiden will, ob eine Zahl negativ oder positiv oder Null ist, müsste man das folgende Konstrukt programmieren."
   ]
  },
  {
   "cell_type": "code",
   "execution_count": null,
   "metadata": {},
   "outputs": [],
   "source": [
    "a = 17\n",
    "if a < 0:\n",
    "    print('a ist negativ.')\n",
    "else:\n",
    "    if a == 0:\n",
    "        print('a ist Null.')\n",
    "    else:\n",
    "        print('a ist positiv.')"
   ]
  },
  {
   "cell_type": "markdown",
   "metadata": {},
   "source": [
    "Übersichtlicher wird die Programmvrzweigung mit der `if-elif-else`-Syntax. `elif`ist die Abkürzung für `else if`. Allgemein sieht das Konstrukt so aus:\n",
    "\n",
    "```python\n",
    "if bedingung 1:\n",
    "    anweisungsblock 1\n",
    "elif bedingung 2:\n",
    "    anweisungsblock 2\n",
    "elif bedingung 3:\n",
    "    anweisungsblock 3\n",
    "    \n",
    "    ...\n",
    "    \n",
    "else:\n",
    "    anweisungsblock n\n",
    "```"
   ]
  },
  {
   "cell_type": "code",
   "execution_count": null,
   "metadata": {},
   "outputs": [],
   "source": [
    "a = 17\n",
    "if a == 0:\n",
    "    print(\"a ist Null.\")\n",
    "elif a < 0:\n",
    "    print(\"a ist negativ.\")\n",
    "else:\n",
    "    print(\"a ist positiv.\")"
   ]
  },
  {
   "cell_type": "markdown",
   "metadata": {},
   "source": [
    "#### Aufgabe 3.5 \n",
    "\n",
    "Schauen Sie sich das Video \"Python-Tutorial deutsch 11/24\" zu dem Thema \"if-Anweisung mit elif und else-Zweig\" an: https://www.youtube.com/watch?v=ucsv_Nhhxmk&list=PL_pqkvxZ6ho3u8PJAsUU-rOAQ74D0TqZB&index=11 \n",
    "\n",
    "Stoppen Sie regelmäßig das Video und probieren Sie die im Video gezeigten Vergleiche hier in der nächsten Code-Zelle aus:\n"
   ]
  },
  {
   "cell_type": "code",
   "execution_count": null,
   "metadata": {},
   "outputs": [],
   "source": []
  },
  {
   "cell_type": "markdown",
   "metadata": {},
   "source": [
    "# Anhang: Weiterführende Aufgaben"
   ]
  },
  {
   "cell_type": "markdown",
   "metadata": {},
   "source": [
    "#### Aufgabe 3.6 (nach Weigend, Python 3, Kapitel 5)\n",
    "\n",
    "Überlegen Sie sich zunächst, welchen Wahrheitswert die folgenden Ausdrücke haben. Testen Sie anschließend die »kritischen Fälle«, bei denen Sie sich nicht sicher sind, mit Python im interaktiven Modus.\n",
    "\n",
    "```python\n",
    "\"a\" == \"A\"\n",
    "\"a \" > \"a\"\n",
    "\"Baum\" == 1\n",
    "123 > 2\n",
    "\"123\" > \"2\" \"Sonne\" != \"Sonne\" 12.2 > 12\n",
    "12 + 3 > 4\n",
    "```"
   ]
  },
  {
   "cell_type": "code",
   "execution_count": null,
   "metadata": {},
   "outputs": [],
   "source": []
  },
  {
   "cell_type": "markdown",
   "metadata": {},
   "source": [
    "#### Aufgabe 3.7 (nach Weigend, Python 3, Kapitel 5)\n",
    "\n",
    "Alkalimetalle sind die Stoffe Lithium (Li), Natrium (Na), Kalium (K), Rubidium (Rb), Caesium (Cs). Schreiben Sie ein Programm, das Folgendes leistet: Der Benutzer gibt die Formel eines chemischen Elementes an. Anschließend wird gemeldet, ob es sich um ein Alkalimetall handelt oder nicht. \n",
    "\n",
    "Beispieldialog:\n",
    "\n",
    "```code\n",
    "Bitte geben Sie die Formel eines chemischen Elementes an. Element: Na\n",
    "Es handelt sich um ein Alkalimetall.\n",
    "```\n"
   ]
  },
  {
   "cell_type": "code",
   "execution_count": null,
   "metadata": {},
   "outputs": [],
   "source": []
  },
  {
   "cell_type": "markdown",
   "metadata": {},
   "source": [
    "#### Aufgabe 3.8\n",
    "\n",
    "Schreiben Sie ein Programm, welches eine Zeitangabe in Stunden, Minuten und Sekunden in die Anzahl Sekunden insgesamt umrechnet und ausgibt."
   ]
  },
  {
   "cell_type": "code",
   "execution_count": null,
   "metadata": {},
   "outputs": [],
   "source": []
  },
  {
   "cell_type": "markdown",
   "metadata": {},
   "source": [
    "#### Aufgabe 3.9\n",
    "\n",
    "Ein Weinhändler verkauft Rotwein zu 12 Euro pro Flasche, Roséwein zu 10 und Weißwein zu 9 Euro pro Flasche. Ein Kunde bestellt (beispielsweise) 12 Flaschen Rotwein, 6 Flaschen Rosé und 24 Flaschen Weißwein. Schreiben Sie ein Programm, welches den Gesamtpreis berechnet und ausgibt. \n",
    "\n",
    "In einem zweite Schritt ändern Sie Ihr Programm, denn es kommen noch Portokosten dazu. Bei einem Bestellpreis unter 50 Euro betragen die Portokosten 13,95 Euro. Zwischen 50 und 100 Euro muss der Kunde 4,95 Euro Porto bezahlen. Ab einem Bestellpreis von 100 Euro gibt es keine Portokosten mehr.\n",
    "Dazu kommen noch Portokosten von 8,95 Euro. Wenn aber der Kunde mindestens für 50 Euro bestellt, dann entfallen die Portokosten.  "
   ]
  },
  {
   "cell_type": "code",
   "execution_count": null,
   "metadata": {},
   "outputs": [],
   "source": []
  }
 ],
 "metadata": {
  "kernelspec": {
   "display_name": "Python 3",
   "language": "python",
   "name": "python3"
  },
  "language_info": {
   "codemirror_mode": {
    "name": "ipython",
    "version": 3
   },
   "file_extension": ".py",
   "mimetype": "text/x-python",
   "name": "python",
   "nbconvert_exporter": "python",
   "pygments_lexer": "ipython3",
   "version": "3.8.3"
  }
 },
 "nbformat": 4,
 "nbformat_minor": 4
}
