{
 "cells": [
  {
   "cell_type": "markdown",
   "id": "99d96563",
   "metadata": {},
   "source": [
    "# Woche 01\n",
    "\n",
    "### Jupyter-Notebooks\n",
    "\n",
    "Python ist eine interpretierte Programmiersprache. Wir können einzelne Befehle oder Befehlsblöcke in einer Textdatei sammeln, um sie später wiederverwenden zu können. Üblicherweise werden solche Textdateien mit der Endung '.py' abgespeichert, z.B. 'hello.py'. Diese Sammlung von Python-Befehlen in einer Textdatei bezeichnet man als Skript. Das Skript kann dann aus einem Terminal/Windows Shell mit dem Befehl 'python3 hello.py' ausgeführt werden.\n",
    "\n",
    "Alternativ kann man auch einzelne Befehle an der Python-Eingabeaufforderung eingeben, die sofort vom Python-Interpreter ausgewertet und ausgeführt werden. Dies ist für Programmierende sehr nützlich, um zu verstehen, wie bestimmte Befehle zu verwenden sind (oft bevor man diese Befehle in einem längeren Python-Programm zusammensetzt). Die Python-Eingabeforderung wird aus dem Terminal/Windows Shell durch Eingabe von 'python3' gestartet.\n",
    "\n",
    "In dieser Vorlesung nutzen wir Jupyter-Notebooks. Jupyter-Notebooks sind digitale Notizbücher, in deren Zellen die Python-Eingabeaufforderung integriert ist. Gleichzeitig können Texte, Bilder, Filme o.ä. in das Notizbuch integriert werden. Eine kurze Übersicht zur Bedeutung von Jupyter-Notebooks findet man hier:\n",
    "\n",
    "https://blog.oreilly.de/2019/01/08/was-ist-jupyter/\n",
    "\n",
    "Die offizielle Dokumentation ist hier:\n",
    "https://jupyter-notebook.readthedocs.io/en/stable/\n",
    "\n",
    "Die folgenden Jupyter-Notebooks basieren auf dem englischsprachigen Buch Python 3 von Hans Fangohr (siehe https://fangohr.github.io/teaching/python/book.html).\n",
    "\n",
    "\n"
   ]
  },
  {
   "cell_type": "markdown",
   "id": "76ddce8e",
   "metadata": {},
   "source": [
    "### Corona und Jupyter-Notebooks\n",
    "\n",
    "Auf der Seite https://www.math.uni-hamburg.de/numgeo/outreach/corona-mathematik-03-2020.html\n",
    "gibt es zwei Videos, die die Mathematik hinter der Verbreitung von Covid-19 erklären, sowie ein fertiges Jupyter-Notebook, das man herunterladen kann und in das man seine eigenen Zahlen einsetzen kann. Gerne ausprobieren!"
   ]
  },
  {
   "cell_type": "markdown",
   "id": "02f3ee58",
   "metadata": {},
   "source": [
    "# Python als Taschenrechner\n",
    "\n",
    "In einer Zelle eine Rechnung eingeben und oben in der Menüleiste auf 'run' klicken (alternativ das Tastenkürzel 'Ctrl' + 'Enter' eingeben). Die grün umrandete Zelle wird als Python-Code interpretiert und ausgeführt."
   ]
  },
  {
   "cell_type": "code",
   "execution_count": null,
   "id": "1c6b89c4",
   "metadata": {},
   "outputs": [],
   "source": [
    "2+3"
   ]
  },
  {
   "cell_type": "markdown",
   "id": "4b92d107",
   "metadata": {},
   "source": [
    "Anschließend oben in der Menüleiste auf '+' klicken (oder alternativ erst 'Esc' drücken, um in den Kommando-Modus von Jupyter-Notebook zu wechseln, dann 'b' für below und zurück in den Editier-Modus mit 'Enter'). Dann wird eine neue Code-Zelle eingefügt. \n",
    "\n",
    "Einen Überblick über Tastaturkürzel findet man unter https://www.dataquest.io/blog/jupyter-notebook-tips-tricks-shortcuts/."
   ]
  },
  {
   "cell_type": "code",
   "execution_count": null,
   "id": "ad5af8a1",
   "metadata": {},
   "outputs": [],
   "source": [
    "10 + 10000"
   ]
  },
  {
   "cell_type": "code",
   "execution_count": null,
   "id": "fdb1252a",
   "metadata": {},
   "outputs": [],
   "source": [
    "42 - 1.5"
   ]
  },
  {
   "cell_type": "code",
   "execution_count": null,
   "id": "05c6d66d",
   "metadata": {},
   "outputs": [],
   "source": [
    "47 * 11"
   ]
  },
  {
   "cell_type": "code",
   "execution_count": null,
   "id": "80030c69",
   "metadata": {},
   "outputs": [],
   "source": [
    "10 / 0.5"
   ]
  },
  {
   "cell_type": "code",
   "execution_count": null,
   "id": "2b3f76d5",
   "metadata": {},
   "outputs": [],
   "source": [
    "3**6 # Potenzieren "
   ]
  },
  {
   "cell_type": "code",
   "execution_count": null,
   "id": "331bee59",
   "metadata": {},
   "outputs": [],
   "source": [
    "# Kommentare werden durch die Raute gekennzeichnet. \n",
    "# Kommentare werden vom Python-Interpreter ignoriert und dienen \n",
    "# nur dem Programmierer als Erklärung. Sie können eine Zeile einleiten wie hier.\n",
    "2+2"
   ]
  },
  {
   "cell_type": "code",
   "execution_count": null,
   "id": "043124f1",
   "metadata": {},
   "outputs": [],
   "source": [
    "3**2 # Oder alles ab dem Raute-Zeichen wird als Kommentar behandel wie in dem Beispiel vorher."
   ]
  },
  {
   "cell_type": "markdown",
   "id": "bf7ee7c3",
   "metadata": {},
   "source": [
    "Klammern können ebenfalls benutzt werden: "
   ]
  },
  {
   "cell_type": "code",
   "execution_count": null,
   "id": "8e1e8c3f",
   "metadata": {},
   "outputs": [],
   "source": [
    "2 + 5 * 10"
   ]
  },
  {
   "cell_type": "code",
   "execution_count": null,
   "id": "0b025d11",
   "metadata": {},
   "outputs": [],
   "source": [
    "(2 + 5) * 10"
   ]
  },
  {
   "cell_type": "markdown",
   "id": "bcb4a0d7",
   "metadata": {},
   "source": [
    "# Mathematische Funktionen"
   ]
  },
  {
   "cell_type": "markdown",
   "id": "03109161",
   "metadata": {},
   "source": [
    "Skripte, die länger werden, teilt man besser in viele kleinere Skripte auf ud lagert sie aus. Hierfür bietet Python die Möglichkeit, etwas in einer Datei zu definieren und diese in einer anderen Datei oder in der interaktiven Konsole wieder zu verwenden. So eine Datei wird als Modul bezeichnet. Definitionen eines Moduls können in anderen Modulen oder in das Hauptmodul importiert werden, welches die Gesamtheit aller Funktionen und Variablen enthält, auf die man in einem Skript zugreifen kann.\n",
    "\n",
    "Python wird mit einer Bibliothek von Standardmodulen ausgeliefert, welche in der Python Library Reference beschrieben werden. Einige Module sind in den Interpreter eingebaut. Diese bieten Zugang zu Operationen, die nicht Teil des Sprachkerns sind, aber trotzdem eingebaut sind. Entweder, um Zugang zu Systemoperationen (wie z. B. Systemaufrufe) bereitzustellen oder aus Effizienzgründen. Ein sehr wichtiges Module ist das 'math'-Modul, das wir im Folgenden benutzen.\n",
    "\n",
    "Weitere Informationen zu Modulen findet man z.B. hier: https://py-tutorial-de.readthedocs.io/de/python-3.3/modules.html"
   ]
  },
  {
   "cell_type": "code",
   "execution_count": null,
   "id": "f12c8df7",
   "metadata": {},
   "outputs": [],
   "source": [
    "# Python bietet die Möglichkeiten, Python-Code aus Modulen \n",
    "# zu laden und auszuführen. Um eine Funktion aus einem Modul\n",
    "# zu verwenden, wird der Name des Moduls der Funktion mit einem\n",
    "# Punkt vorangestellt, nachdem das Modul importiert wurde.\n",
    "\n",
    "import math\n",
    "math.exp(1.0)"
   ]
  },
  {
   "cell_type": "code",
   "execution_count": null,
   "id": "c3bd1851",
   "metadata": {},
   "outputs": [],
   "source": [
    "# Mittels des Kommandos 'dir' erhält man Informationen über Module, hier das math-Modul.\n",
    "dir(math)"
   ]
  },
  {
   "cell_type": "code",
   "execution_count": null,
   "id": "871a7261",
   "metadata": {},
   "outputs": [],
   "source": [
    "# Mit dem help-Kommando erhält man weitere Informationen zu einer bestimmten Funktion.\n",
    "\n",
    "help(math.exp)"
   ]
  },
  {
   "cell_type": "code",
   "execution_count": null,
   "id": "fc4ee2e1",
   "metadata": {},
   "outputs": [],
   "source": [
    "math.pi"
   ]
  },
  {
   "cell_type": "code",
   "execution_count": null,
   "id": "ce2c0538",
   "metadata": {},
   "outputs": [],
   "source": [
    "math.e"
   ]
  },
  {
   "cell_type": "code",
   "execution_count": null,
   "id": "b265dfaa",
   "metadata": {},
   "outputs": [],
   "source": [
    "math.cos(math.pi)"
   ]
  },
  {
   "cell_type": "code",
   "execution_count": null,
   "id": "e12d3997",
   "metadata": {},
   "outputs": [],
   "source": [
    "math.log(math.e)"
   ]
  },
  {
   "cell_type": "markdown",
   "id": "70264090",
   "metadata": {},
   "source": [
    "# Variablen\n",
    "\n",
    "Eine Variable kann verwendet werden, um einen bestimmten Wert oder ein bestimmtes Objekt zu speichern. In Python sind alle Zahlen (und alles andere, einschließlich Funktionen, Module und Dateien) Objekte. Eine Variable wird durch Zuweisung erzeugt:\n",
    "\n"
   ]
  },
  {
   "cell_type": "code",
   "execution_count": null,
   "id": "bf8603c3",
   "metadata": {},
   "outputs": [],
   "source": [
    "x = 0.5"
   ]
  },
  {
   "cell_type": "markdown",
   "id": "9878deb7",
   "metadata": {},
   "source": [
    "Sobald die Variable `x`in diesem Beispiel durch eine Zuweisung von 0.5 erstellt wurde, können wir sie verwenden:"
   ]
  },
  {
   "cell_type": "code",
   "execution_count": null,
   "id": "1a1134a0",
   "metadata": {},
   "outputs": [],
   "source": [
    "x*3"
   ]
  },
  {
   "cell_type": "code",
   "execution_count": null,
   "id": "01a3c3bf",
   "metadata": {},
   "outputs": [],
   "source": [
    "x**2"
   ]
  },
  {
   "cell_type": "code",
   "execution_count": null,
   "id": "71131a97",
   "metadata": {},
   "outputs": [],
   "source": [
    "y = 111 \n",
    "y + 222"
   ]
  },
  {
   "cell_type": "code",
   "execution_count": null,
   "id": "82f293e0",
   "metadata": {},
   "outputs": [],
   "source": [
    "y = 0.7\n",
    "math.sin(y) ** 2 + math.cos(y) ** 2"
   ]
  },
  {
   "cell_type": "markdown",
   "id": "74fff468",
   "metadata": {},
   "source": [
    "Das Gleichheitszeichen ('=') wird verwendet, um einer Variablen einen Wert zuzuweisen."
   ]
  },
  {
   "cell_type": "code",
   "execution_count": null,
   "id": "a99eb0e4",
   "metadata": {},
   "outputs": [],
   "source": [
    "width = 20\n",
    "height = 5 * 9\n",
    "width * height"
   ]
  },
  {
   "cell_type": "code",
   "execution_count": null,
   "id": "2e01842e",
   "metadata": {},
   "outputs": [],
   "source": [
    "Ein Wert kann mehreren Variablen gleichzeitig zugewiesen werden:"
   ]
  },
  {
   "cell_type": "code",
   "execution_count": null,
   "id": "ab2b77a8",
   "metadata": {},
   "outputs": [],
   "source": [
    "x = y = z = 0  # Initialisierung von x, y und z mit 0\n",
    "\n"
   ]
  },
  {
   "cell_type": "code",
   "execution_count": null,
   "id": "ecee5f37",
   "metadata": {},
   "outputs": [],
   "source": [
    "x"
   ]
  },
  {
   "cell_type": "code",
   "execution_count": null,
   "id": "5d971f70",
   "metadata": {},
   "outputs": [],
   "source": [
    "y"
   ]
  },
  {
   "cell_type": "code",
   "execution_count": null,
   "id": "397bfcb3",
   "metadata": {},
   "outputs": [],
   "source": [
    "z"
   ]
  },
  {
   "cell_type": "markdown",
   "id": "9d180982",
   "metadata": {},
   "source": [
    "Variablen müssen initalisiert (erstmalig mit einem Wert versehen) werden, bevor sie verwendet werden können, sonst tritt ein Fehler auf:"
   ]
  },
  {
   "cell_type": "code",
   "execution_count": null,
   "id": "56cbb571",
   "metadata": {},
   "outputs": [],
   "source": [
    "n"
   ]
  },
  {
   "cell_type": "markdown",
   "id": "15fd6935",
   "metadata": {},
   "source": [
    "Im interaktiven Modus wird der letzte ausgedruckte Ausdruck der Variablen `_` zugewiesen. Damit kann man Berechnungen ggf. leichter fortsetzen:"
   ]
  },
  {
   "cell_type": "code",
   "execution_count": null,
   "id": "123cfec4",
   "metadata": {},
   "outputs": [],
   "source": [
    "tax = 19.0 / 100\n",
    "price = 100.50\n",
    "price * tax"
   ]
  },
  {
   "cell_type": "code",
   "execution_count": null,
   "id": "28bc8af6",
   "metadata": {},
   "outputs": [],
   "source": [
    "price + _"
   ]
  },
  {
   "cell_type": "markdown",
   "id": "106f9ae8",
   "metadata": {},
   "source": [
    "Diese Variable sollte vom Benutzer als schreibgeschützt behandelt werden. Weisen Sie ihr nicht explizit einen Wert zu - Sie würden eine unabhängige lokale Variable mit dem gleichen Namen erstellen, die die eingebaute Variable mit ihrem magischen Verhalten maskiert.\n",
    "\n",
    "### Terminologie\n",
    "\n",
    "Streng genommen geschieht Folgendes, wenn wir"
   ]
  },
  {
   "cell_type": "code",
   "execution_count": null,
   "id": "733fc484",
   "metadata": {},
   "outputs": [],
   "source": [
    "x = 0.5"
   ]
  },
  {
   "cell_type": "markdown",
   "id": "7dc239d4",
   "metadata": {},
   "source": [
    "schreiben. Zuerst erzeugt Python das Objekt 0.5. Alles in Python ist ein Objekt, d.h. auch die Fließkommazahl 0.5. Dieses Objekt wird irgendwo im Speicher abgelegt. Als nächstes bindet Python einen Namen an das Objekt. Der Name ist x, und wir beziehen uns oft beiläufig auf x als eine Variable, ein Objekt oder sogar den Wert 0.5. Technisch gesehen ist x jedoch ein Name, der an das Objekt 0.5 gebunden ist. Eine andere Möglichkeit, dies zu sagen, ist, dass x eine Referenz auf das Objekt ist.\n",
    "\n",
    "Während es oft ausreicht, darüber nachzudenken, einer Variablen x den Wert 0.5 zuzuweisen, gibt es Situationen, in denen wir uns daran erinnern müssen, was tatsächlich geschieht. Insbesondere wenn wir Verweise auf Objekte an Funktionen übergeben, müssen wir uns bewusst machen, dass die Funktion auf dem Objekt operieren kann (und nicht auf einer Kopie des Objekts). "
   ]
  },
  {
   "cell_type": "markdown",
   "id": "9ed5dbd4",
   "metadata": {},
   "source": [
    "### Scheinbar unmögliche Gleichungen\n",
    "\n",
    "Sehr häufig findet man Code wie"
   ]
  },
  {
   "cell_type": "code",
   "execution_count": null,
   "id": "62078b49",
   "metadata": {},
   "outputs": [],
   "source": [
    "x = x + 1"
   ]
  },
  {
   "cell_type": "markdown",
   "id": "97618973",
   "metadata": {},
   "source": [
    "Würden wir dies als Gleichung lesen, wie wir es aus der Mathematik gewohnt sind, x = x + 1, könnten wir x auf beiden Seiten subtrahieren und erhalten 0 = 1. Wir wissen, dass dies nicht wahr ist, also stimmt hier etwas nicht.\n",
    "\n",
    "In Python sind \"Gleichungen\" keine mathematischen Gleichungen, sondern Zuweisungen. \"=\" ist kein Gleichheitszeichen im mathematischen Sinne, sondern eine Zuweisung. Die Zuweisung muss immer in der folgenden Weise zweistufig gelesen werden:\n",
    "\n",
    "1. Berechne den Wert auf der rechten Seite (also x+1).\n",
    "2. Weise den Wert auf der rechten Seite dem auf der linken Seite stehenden Variablennamen zu (in Python-Sprechweise: binde dem Namen auf der linken Seite an das auf der rechten Seite angezeigte Objekt).\n",
    "\n"
   ]
  },
  {
   "cell_type": "code",
   "execution_count": null,
   "id": "88179dfa",
   "metadata": {},
   "outputs": [],
   "source": [
    "x = 4     \n",
    "x = x + 1\n",
    "x"
   ]
  },
  {
   "cell_type": "markdown",
   "id": "49f3218e",
   "metadata": {},
   "source": [
    "### Die += Abkürzung¶\n",
    "\n",
    "Es kommt sehr häufig vor, dass eine Variable um einen fest Wert `c` erhöht wird. Anstatt\n",
    "```python\n",
    "x = x + c\n",
    "```\n",
    "wird meist verkürzt\n",
    "```python\n",
    "x += c\n",
    "```\n",
    "geschrieben.\n",
    "\n",
    "Das Beispiel von oben könnte man also kürzer folgendermaßen schreiben:"
   ]
  },
  {
   "cell_type": "code",
   "execution_count": null,
   "id": "3f90ede2",
   "metadata": {},
   "outputs": [],
   "source": [
    "x = 4\n",
    "x += 1\n",
    "x"
   ]
  },
  {
   "cell_type": "markdown",
   "id": "8eb61f86",
   "metadata": {},
   "source": [
    "Dies gilt nicht nur für Addition, sondern auch für Subtraktion mit einer fixen Konstante (-=), Multiplikation (*=) und Division (/=).\n",
    "\n",
    "Bemerkung: Die Reihenfolge ist sehr wichtig. `+=`ist eine Erhöhung um 1, also"
   ]
  },
  {
   "cell_type": "code",
   "execution_count": null,
   "id": "fb78a38b",
   "metadata": {},
   "outputs": [],
   "source": [
    "x = 4\n",
    "x += 1\n",
    "x"
   ]
  },
  {
   "cell_type": "markdown",
   "id": "f5ea6228",
   "metadata": {},
   "source": [
    "wohingegen `=+`eine Zuweisung mit einer positven Zahl ist, also"
   ]
  },
  {
   "cell_type": "code",
   "execution_count": null,
   "id": "4202c7f2",
   "metadata": {},
   "outputs": [],
   "source": [
    "x = 4\n",
    "x =+ 1\n",
    "x"
   ]
  }
 ],
 "metadata": {
  "kernelspec": {
   "display_name": "Python 3",
   "language": "python",
   "name": "python3"
  },
  "language_info": {
   "codemirror_mode": {
    "name": "ipython",
    "version": 3
   },
   "file_extension": ".py",
   "mimetype": "text/x-python",
   "name": "python",
   "nbconvert_exporter": "python",
   "pygments_lexer": "ipython3",
   "version": "3.8.3"
  }
 },
 "nbformat": 4,
 "nbformat_minor": 5
}
