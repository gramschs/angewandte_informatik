{
 "cells": [
  {
   "cell_type": "markdown",
   "id": "5151e244",
   "metadata": {},
   "source": [
    "# Woche 01\n",
    "\n",
    "### Jupyter-Notebooks\n",
    "\n",
    "Python ist eine interpretierte Programmiersprache. Wir können einzelne Befehle oder Befehlsblöcke in einer Textdatei sammeln, um sie später wiederverwenden zu können. Üblicherweise werden solche Textdateien mit der Endung '.py' abgespeichert, z.B. 'hello.py'. Diese Sammlung von Python-Befehlen in einer Textdatei bezeichnet man als Skript. Das Skript kann dann aus einem Terminal/Windows Shell mit dem Befehl 'python3 hello.py' ausgeführt werden.\n",
    "\n",
    "Alternativ kann man auch einzelne Befehle an der Python-Eingabeaufforderung eingeben, die sofort vom Python-Interpreter ausgewertet und ausgeführt werden. Dies ist für Programmierende sehr nützlich, um zu verstehen, wie bestimmte Befehle zu verwenden sind (oft bevor man diese Befehle in einem längeren Python-Programm zusammensetzt). Die Python-Eingabeforderung wird aus dem Terminal/Windows Shell durch Eingabe von 'python3' gestartet.\n",
    "\n",
    "In dieser Vorlesung nutzen wir Jupyter-Notebooks. Jupyter-Notebooks sind digitale Notizbücher, in deren Zellen die Python-Eingabeaufforderung integriert ist. Gleichzeitig können Texte, Bilder, Filme o.ä. in das Notizbuch integriert werden. Eine kurze Übersicht zur Bedeutung von Jupyter-Notebooks findet man hier:\n",
    "\n",
    "https://blog.oreilly.de/2019/01/08/was-ist-jupyter/\n",
    "\n",
    "Die offizielle Dokumentation ist hier:\n",
    "https://jupyter-notebook.readthedocs.io/en/stable/\n",
    "\n",
    "Die folgenden Jupyter-Notebooks basieren auf dem englischsprachigen Buch Python 3 von Hans Fangohr (siehe https://fangohr.github.io/teaching/python/book.html).\n",
    "\n",
    "\n"
   ]
  },
  {
   "cell_type": "markdown",
   "id": "ef87ea92",
   "metadata": {},
   "source": [
    "### Corona und Jupyter-Notebooks\n",
    "\n",
    "Auf der Seite https://www.math.uni-hamburg.de/numgeo/outreach/corona-mathematik-03-2020.html\n",
    "gibt es zwei Videos, die die Mathematik hinter der Verbreitung von Covid-19 erklären, sowie ein fertiges Jupyter-Notebook, das man herunterladen kann und in das man seine eigenen Zahlen einsetzen kann. Gerne ausprobieren!"
   ]
  },
  {
   "cell_type": "markdown",
   "id": "6d57ee6d",
   "metadata": {},
   "source": [
    "# Python als Taschenrechner\n",
    "\n",
    "In einer Zelle eine Rechnung eingeben und oben in der Menüleiste auf 'run' klicken (alternativ das Tastenkürzel 'Ctrl' + 'Enter' eingeben). Die grün umrandete Zelle wird als Python-Code interpretiert und ausgeführt."
   ]
  },
  {
   "cell_type": "code",
   "execution_count": null,
   "id": "b5928ddf",
   "metadata": {},
   "outputs": [],
   "source": [
    "2+3"
   ]
  },
  {
   "cell_type": "markdown",
   "id": "821b3300",
   "metadata": {},
   "source": [
    "Anschließend oben in der Menüleiste auf '+' klicken (oder alternativ erst 'Esc' drücken, um in den Kommando-Modus von Jupyter-Notebook zu wechseln, dann 'b' für below und zurück in den Editier-Modus mit 'Enter'). Dann wird eine neue Code-Zelle eingefügt. \n",
    "\n",
    "Einen Überblick über Tastaturkürzel findet man unter https://www.dataquest.io/blog/jupyter-notebook-tips-tricks-shortcuts/."
   ]
  },
  {
   "cell_type": "code",
   "execution_count": null,
   "id": "df883fbe",
   "metadata": {},
   "outputs": [],
   "source": [
    "10 + 10000"
   ]
  },
  {
   "cell_type": "code",
   "execution_count": null,
   "id": "2f5454fd",
   "metadata": {},
   "outputs": [],
   "source": [
    "42 - 1.5"
   ]
  },
  {
   "cell_type": "code",
   "execution_count": null,
   "id": "32914916",
   "metadata": {},
   "outputs": [],
   "source": [
    "47 * 11"
   ]
  },
  {
   "cell_type": "code",
   "execution_count": null,
   "id": "455296d1",
   "metadata": {},
   "outputs": [],
   "source": [
    "10 / 0.5"
   ]
  },
  {
   "cell_type": "code",
   "execution_count": null,
   "id": "9c7c39a8",
   "metadata": {},
   "outputs": [],
   "source": [
    "3**6 # Potenzieren "
   ]
  },
  {
   "cell_type": "code",
   "execution_count": null,
   "id": "a43e2b33",
   "metadata": {},
   "outputs": [],
   "source": [
    "# Kommentare werden durch die Raute gekennzeichnet. \n",
    "# Kommentare werden vom Python-Interpreter ignoriert und dienen \n",
    "# nur dem Programmierer als Erklärung. Sie können eine Zeile einleiten wie hier.\n",
    "2+2"
   ]
  },
  {
   "cell_type": "code",
   "execution_count": null,
   "id": "5c3f8684",
   "metadata": {},
   "outputs": [],
   "source": [
    "3**2 # Oder alles ab dem Raute-Zeichen wird als Kommentar behandel wie in dem Beispiel vorher."
   ]
  },
  {
   "cell_type": "markdown",
   "id": "5cb54659",
   "metadata": {},
   "source": [
    "Klammern können ebenfalls benutzt werden: "
   ]
  },
  {
   "cell_type": "code",
   "execution_count": null,
   "id": "b34bf6f4",
   "metadata": {},
   "outputs": [],
   "source": [
    "2 + 5 * 10"
   ]
  },
  {
   "cell_type": "code",
   "execution_count": null,
   "id": "635ab408",
   "metadata": {},
   "outputs": [],
   "source": [
    "(2 + 5) * 10"
   ]
  },
  {
   "cell_type": "markdown",
   "id": "c5121baf",
   "metadata": {},
   "source": [
    "# Mathematische Funktionen"
   ]
  },
  {
   "cell_type": "markdown",
   "id": "373103bd",
   "metadata": {},
   "source": [
    "Skripte, die länger werden, teilt man besser in viele kleinere Skripte auf ud lagert sie aus. Hierfür bietet Python die Möglichkeit, etwas in einer Datei zu definieren und diese in einer anderen Datei oder in der interaktiven Konsole wieder zu verwenden. So eine Datei wird als Modul bezeichnet. Definitionen eines Moduls können in anderen Modulen oder in das Hauptmodul importiert werden, welches die Gesamtheit aller Funktionen und Variablen enthält, auf die man in einem Skript zugreifen kann.\n",
    "\n",
    "Python wird mit einer Bibliothek von Standardmodulen ausgeliefert, welche in der Python Library Reference beschrieben werden. Einige Module sind in den Interpreter eingebaut. Diese bieten Zugang zu Operationen, die nicht Teil des Sprachkerns sind, aber trotzdem eingebaut sind. Entweder, um Zugang zu Systemoperationen (wie z. B. Systemaufrufe) bereitzustellen oder aus Effizienzgründen. Ein sehr wichtiges Module ist das 'math'-Modul, das wir im Folgenden benutzen.\n",
    "\n",
    "Weitere Informationen zu Modulen findet man z.B. hier: https://py-tutorial-de.readthedocs.io/de/python-3.3/modules.html"
   ]
  },
  {
   "cell_type": "code",
   "execution_count": null,
   "id": "f089d463",
   "metadata": {},
   "outputs": [],
   "source": [
    "# Python bietet die Möglichkeiten, Python-Code aus Modulen \n",
    "# zu laden und auszuführen. Um eine Funktion aus einem Modul\n",
    "# zu verwenden, wird der Name des Moduls der Funktion mit einem\n",
    "# Punkt vorangestellt, nachdem das Modul importiert wurde.\n",
    "\n",
    "import math\n",
    "math.exp(1.0)"
   ]
  },
  {
   "cell_type": "code",
   "execution_count": null,
   "id": "c0bc30d9",
   "metadata": {},
   "outputs": [],
   "source": [
    "# Mittels des Kommandos 'dir' erhält man Informationen über Module, hier das math-Modul.\n",
    "dir(math)"
   ]
  },
  {
   "cell_type": "code",
   "execution_count": null,
   "id": "1a562817",
   "metadata": {},
   "outputs": [],
   "source": [
    "# Mit dem help-Kommando erhält man weitere Informationen zu einer bestimmten Funktion.\n",
    "\n",
    "help(math.exp)"
   ]
  },
  {
   "cell_type": "code",
   "execution_count": null,
   "id": "74d452f0",
   "metadata": {},
   "outputs": [],
   "source": [
    "math.pi"
   ]
  },
  {
   "cell_type": "code",
   "execution_count": null,
   "id": "1543db9c",
   "metadata": {},
   "outputs": [],
   "source": [
    "math.e"
   ]
  },
  {
   "cell_type": "code",
   "execution_count": null,
   "id": "8e1cb6d1",
   "metadata": {},
   "outputs": [],
   "source": [
    "math.cos(math.pi)"
   ]
  },
  {
   "cell_type": "code",
   "execution_count": null,
   "id": "628bb93b",
   "metadata": {},
   "outputs": [],
   "source": [
    "math.log(math.e)"
   ]
  },
  {
   "cell_type": "markdown",
   "id": "5e93abf8",
   "metadata": {},
   "source": [
    "# Variablen\n",
    "\n",
    "Eine Variable kann verwendet werden, um einen bestimmten Wert oder ein bestimmtes Objekt zu speichern. In Python sind alle Zahlen (und alles andere, einschließlich Funktionen, Module und Dateien) Objekte. Eine Variable wird durch Zuweisung erzeugt:\n",
    "\n"
   ]
  },
  {
   "cell_type": "code",
   "execution_count": null,
   "id": "8d699f39",
   "metadata": {},
   "outputs": [],
   "source": [
    "x = 0.5"
   ]
  },
  {
   "cell_type": "markdown",
   "id": "e6a56abf",
   "metadata": {},
   "source": [
    "Sobald die Variable `x`in diesem Beispiel durch eine Zuweisung von 0.5 erstellt wurde, können wir sie verwenden:"
   ]
  },
  {
   "cell_type": "code",
   "execution_count": null,
   "id": "52e8e617",
   "metadata": {},
   "outputs": [],
   "source": [
    "x*3"
   ]
  },
  {
   "cell_type": "code",
   "execution_count": null,
   "id": "ae68eb19",
   "metadata": {},
   "outputs": [],
   "source": [
    "x**2"
   ]
  },
  {
   "cell_type": "code",
   "execution_count": null,
   "id": "c5b4f75b",
   "metadata": {},
   "outputs": [],
   "source": [
    "y = 111 \n",
    "y + 222"
   ]
  },
  {
   "cell_type": "code",
   "execution_count": null,
   "id": "dd55f2d7",
   "metadata": {},
   "outputs": [],
   "source": [
    "y = 0.7\n",
    "math.sin(y) ** 2 + math.cos(y) ** 2"
   ]
  },
  {
   "cell_type": "markdown",
   "id": "a2347544",
   "metadata": {},
   "source": [
    "Das Gleichheitszeichen ('=') wird verwendet, um einer Variablen einen Wert zuzuweisen."
   ]
  },
  {
   "cell_type": "code",
   "execution_count": null,
   "id": "7e8a345c",
   "metadata": {},
   "outputs": [],
   "source": [
    "breite = 20\n",
    "tiefe = 5 * 9\n",
    "breite * tiefe"
   ]
  },
  {
   "cell_type": "markdown",
   "id": "4e123600",
   "metadata": {},
   "source": [
    "Ein Wert kann mehreren Variablen gleichzeitig zugewiesen werden:"
   ]
  },
  {
   "cell_type": "code",
   "execution_count": null,
   "id": "9930a51a",
   "metadata": {},
   "outputs": [],
   "source": [
    "x = y = z = 0  # Initialisierung von x, y und z mit 0\n"
   ]
  },
  {
   "cell_type": "code",
   "execution_count": null,
   "id": "07c8a530",
   "metadata": {},
   "outputs": [],
   "source": [
    "x"
   ]
  },
  {
   "cell_type": "code",
   "execution_count": null,
   "id": "4417e988",
   "metadata": {},
   "outputs": [],
   "source": [
    "y"
   ]
  },
  {
   "cell_type": "code",
   "execution_count": null,
   "id": "04f6f8f8",
   "metadata": {},
   "outputs": [],
   "source": [
    "z"
   ]
  },
  {
   "cell_type": "markdown",
   "id": "24c1aa64",
   "metadata": {},
   "source": [
    "Variablen müssen initalisiert (erstmalig mit einem Wert versehen) werden, bevor sie verwendet werden können, sonst tritt ein Fehler auf:"
   ]
  },
  {
   "cell_type": "code",
   "execution_count": null,
   "id": "342fbd8a",
   "metadata": {},
   "outputs": [],
   "source": [
    "n"
   ]
  },
  {
   "cell_type": "markdown",
   "id": "d0fe8888",
   "metadata": {},
   "source": [
    "Im interaktiven Modus wird der letzte ausgedruckte Ausdruck der Variablen `_` zugewiesen. Damit kann man Berechnungen ggf. leichter fortsetzen:"
   ]
  },
  {
   "cell_type": "code",
   "execution_count": 1,
   "id": "c7174229",
   "metadata": {},
   "outputs": [
    {
     "data": {
      "text/plain": [
       "19.095"
      ]
     },
     "execution_count": 1,
     "metadata": {},
     "output_type": "execute_result"
    }
   ],
   "source": [
    "mehrwertsteuer = 19.0 / 100\n",
    "preis = 100.50\n",
    "preis * mehrwertsteuer"
   ]
  },
  {
   "cell_type": "code",
   "execution_count": 2,
   "id": "99ff81e5",
   "metadata": {},
   "outputs": [
    {
     "data": {
      "text/plain": [
       "119.595"
      ]
     },
     "execution_count": 2,
     "metadata": {},
     "output_type": "execute_result"
    }
   ],
   "source": [
    "preis + _"
   ]
  },
  {
   "cell_type": "markdown",
   "id": "24776fa2",
   "metadata": {},
   "source": [
    "Diese Variable sollte vom Benutzer als schreibgeschützt behandelt werden. Weisen Sie ihr nicht explizit einen Wert zu - Sie würden eine unabhängige lokale Variable mit dem gleichen Namen erstellen, die die eingebaute Variable mit ihrem magischen Verhalten maskiert.\n",
    "\n",
    "### Terminologie\n",
    "\n",
    "Streng genommen geschieht Folgendes, wenn wir"
   ]
  },
  {
   "cell_type": "code",
   "execution_count": null,
   "id": "a21a52f5",
   "metadata": {},
   "outputs": [],
   "source": [
    "x = 0.5"
   ]
  },
  {
   "cell_type": "markdown",
   "id": "bc2bbd85",
   "metadata": {},
   "source": [
    "schreiben. Zuerst erzeugt Python das Objekt 0.5. Alles in Python ist ein Objekt, d.h. auch die Fließkommazahl 0.5. Dieses Objekt wird irgendwo im Speicher abgelegt. Als nächstes bindet Python einen Namen an das Objekt. Der Name ist x, und wir beziehen uns oft beiläufig auf x als eine Variable, ein Objekt oder sogar den Wert 0.5. Technisch gesehen ist x jedoch ein Name, der an das Objekt 0.5 gebunden ist. Eine andere Möglichkeit, dies zu sagen, ist, dass x eine Referenz auf das Objekt ist.\n",
    "\n",
    "Während es oft ausreicht, darüber nachzudenken, einer Variablen x den Wert 0.5 zuzuweisen, gibt es Situationen, in denen wir uns daran erinnern müssen, was tatsächlich geschieht. Insbesondere wenn wir Verweise auf Objekte an Funktionen übergeben, müssen wir uns bewusst machen, dass die Funktion auf dem Objekt operieren kann (und nicht auf einer Kopie des Objekts). "
   ]
  },
  {
   "cell_type": "markdown",
   "id": "be22d16e",
   "metadata": {},
   "source": [
    "### Scheinbar unmögliche Gleichungen\n",
    "\n",
    "Sehr häufig findet man Code wie"
   ]
  },
  {
   "cell_type": "code",
   "execution_count": null,
   "id": "f65771d6",
   "metadata": {},
   "outputs": [],
   "source": [
    "x = x + 1"
   ]
  },
  {
   "cell_type": "markdown",
   "id": "9ffd7db4",
   "metadata": {},
   "source": [
    "Würden wir dies als Gleichung lesen, wie wir es aus der Mathematik gewohnt sind, x = x + 1, könnten wir x auf beiden Seiten subtrahieren und erhalten 0 = 1. Wir wissen, dass dies nicht wahr ist, also stimmt hier etwas nicht.\n",
    "\n",
    "In Python sind \"Gleichungen\" keine mathematischen Gleichungen, sondern Zuweisungen. \"=\" ist kein Gleichheitszeichen im mathematischen Sinne, sondern eine Zuweisung. Die Zuweisung muss immer in der folgenden Weise zweistufig gelesen werden:\n",
    "\n",
    "1. Berechne den Wert auf der rechten Seite (also x+1).\n",
    "2. Weise den Wert auf der rechten Seite dem auf der linken Seite stehenden Variablennamen zu (in Python-Sprechweise: binde dem Namen auf der linken Seite an das auf der rechten Seite angezeigte Objekt).\n",
    "\n"
   ]
  },
  {
   "cell_type": "code",
   "execution_count": null,
   "id": "d214276d",
   "metadata": {},
   "outputs": [],
   "source": [
    "x = 4     \n",
    "x = x + 1\n",
    "x"
   ]
  },
  {
   "cell_type": "markdown",
   "id": "abf42b2f",
   "metadata": {},
   "source": [
    "### Die += Abkürzung¶\n",
    "\n",
    "Es kommt sehr häufig vor, dass eine Variable um einen fest Wert `c` erhöht wird. Anstatt\n",
    "```python\n",
    "x = x + c\n",
    "```\n",
    "wird meist verkürzt\n",
    "```python\n",
    "x += c\n",
    "```\n",
    "geschrieben.\n",
    "\n",
    "Das Beispiel von oben könnte man also kürzer folgendermaßen schreiben:"
   ]
  },
  {
   "cell_type": "code",
   "execution_count": null,
   "id": "3bdbcc7a",
   "metadata": {},
   "outputs": [],
   "source": [
    "x = 4\n",
    "x += 1\n",
    "x"
   ]
  },
  {
   "cell_type": "markdown",
   "id": "bc2aff65",
   "metadata": {},
   "source": [
    "Dies gilt nicht nur für Addition, sondern auch für Subtraktion mit einer fixen Konstante (-=), Multiplikation (*=) und Division (/=).\n",
    "\n",
    "Bemerkung: Die Reihenfolge ist sehr wichtig. `+=`ist eine Erhöhung um 1, also"
   ]
  },
  {
   "cell_type": "code",
   "execution_count": null,
   "id": "d395f39d",
   "metadata": {},
   "outputs": [],
   "source": [
    "x = 4\n",
    "x += 1\n",
    "x"
   ]
  },
  {
   "cell_type": "markdown",
   "id": "aad1980b",
   "metadata": {},
   "source": [
    "wohingegen `=+`eine Zuweisung mit einer positven Zahl ist, also"
   ]
  },
  {
   "cell_type": "code",
   "execution_count": null,
   "id": "0daa61a4",
   "metadata": {},
   "outputs": [],
   "source": [
    "x = 4\n",
    "x =+ 1\n",
    "x"
   ]
  }
 ],
 "metadata": {
  "kernelspec": {
   "display_name": "Python 3",
   "language": "python",
   "name": "python3"
  },
  "language_info": {
   "codemirror_mode": {
    "name": "ipython",
    "version": 3
   },
   "file_extension": ".py",
   "mimetype": "text/x-python",
   "name": "python",
   "nbconvert_exporter": "python",
   "pygments_lexer": "ipython3",
   "version": "3.8.3"
  }
 },
 "nbformat": 4,
 "nbformat_minor": 5
}
