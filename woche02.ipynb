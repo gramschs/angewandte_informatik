{
 "cells": [
  {
   "cell_type": "markdown",
   "id": "e1a85f58",
   "metadata": {},
   "source": [
    "# Woche 02 - Theorie, Variablen und Datentypen\n",
    "\n",
    "In dieser Woche beschäftigen wir uns mit \n",
    "\n",
    "* grundlegenden Begriffen aus der Informatik\n",
    "* Variablen und \n",
    "* einfachen Datentypen (Integer, Float und String). "
   ]
  },
  {
   "cell_type": "markdown",
   "id": "05e4780f",
   "metadata": {},
   "source": [
    "## Grundlegende Begriffe aus der Informatik\n",
    "\n",
    "In diesem Abschnitt beschäftigen wir uns mit einigen wenigen grundlegenden Begriffen der Informatik.\n",
    "\n",
    "### Programm, Applikation, App, Betriebssystem, Bibliothek\n",
    "\n",
    "Computer, mobile Geräte wie Smartphones oder auch technische Systeme mit Algorithmen bestehen aus zwei Komponenten: Hardware und Software. Dabei bezeichnen wir mit Hardware alle physischen Kompenten eines Systems, also die elektronischen und mechanischen Bauteile. Die Software dahingegen umfasst die Programme und Daten.\n",
    "\n",
    "Bitte lesen bei Wikipedia nach, was Hardware (https://de.wikipedia.org/wiki/Hardware) und Software (https://de.wikipedia.org/wiki/Software) voneinander unterscheidet.\n",
    "\n",
    "Die wichtigste Software eines jeden Systems ist das Betriebssystem. Das Betriebssystem umfasst alle Computerprogramme, die notwendig sind, um überhaupt den Computer zu betreiben, zu starten oder zu benutzen. Das Betriebssystem hat laut Wikipedia (https://de.wikipedia.org/wiki/Betriebssystem) folgende Aufgaben: \"Benutzerkommunikation; Laden, Ausführen, Unterbrechen und Beenden von Programmen; Verwaltung und Zuteilung der Prozessorzeit; Verwaltung des internen Speicherplatzes für Anwendungen; Verwaltung und Betrieb der angeschlossenen Geräte; Schutzfunktionen z. B. durch Zugriffsbeschränkungen.\"\n",
    "\n",
    "Viele Menschen denken bei Software zuerst an Anwendungssoftware (https://de.wikipedia.org/wiki/Anwendungssoftware). Das sind Computerprogramme, die einen speziellen Zweck erfüllen sollen und den Benutzer bei Aufgaben unterstützen. Im Englischen werden solche Computerprogramme auch als Application (= Anwendung, Verwendung, Einsatz) bezeichnet. 2008 hat die Firma Apple den \"iOS App Store\" gegründet, um Anwendungssoftware für das iPhone zu vertreiben. Seitdem wird immer häufiger auch im deutschen Sprachraum der Name Application oder App für verwendet. Vielfach steht \"Application\" eher für PC-Anwendungssoftware und der Kurzname \"App\" für Anwendungssoftware für Tablets und Smartphones.  \n",
    "\n",
    "Für Softwareentwickler sind -- neben der Programmiersprache und den Software-Entwicklungswerkzeugen -- vor allem Bibiotheken wichtig. Bibliotheken (https://de.wikipedia.org/wiki/Programmbibliothek) sind eine Sammlung von Programmen, die zwar einen bestimmten Zweck haben, aber eigenständig nicht lauffähig werden. Diese Programmbibiotheken werden von Programmiererinnen und Programmieren benutzt, um nicht ständig neu das Rad erfinden zu müssen. Beispielsweise würde es den Software-Entwickungsprozess verlangsamen, wenn jedesmal neu ein Programm geschrieben werden müsste, dass die Wurzel einer Zahl berechnet oder ein Ergebnis einer Berechnung in eine Datei auf die Festplatte schreibt.\n",
    "\n",
    "\n",
    "### Programmiersprachen: Compiler vs. Interpreter\n",
    "\n",
    "Es gibt viele Programmiersprachen und jede hat ihre Vorteile und ihre Nachteile. Aber was ist eine Programmiersprache überhaupt? Eine Programmiersprache ist die formale Sprache zur Formulierung von Datenstrukturen und Algorithmen (= Abfolge von Anweisungen), die von einem Computer ausgeführt werden können. Es gibt nicht die wichtigste Programmiersprache, sondern die Auswahl der Programmiersprache sollte sich stets nach der anvisierten Anwendung richten. Der Tiobe-Index zeigt die Beliebtheit der 50 wichtigsten Programmiersprachen: https://www.tiobe.com/tiobe-index/ - Sie können ja mal nachschauen, wo sich gerade Python und MATLAB befinden und welche Programmiersprachen es noch so gibt...\n",
    "\n",
    "In der Anfangszeit der Computer waren Programmiersprachen noch sehr nahe an den Computern ausgerichtet, hier ein Beispiel, wie in der Programmiersprache Assembler die Meldung \"Hallo Welt\" auf dem Monitor angezeigt wird (Quelle: Wikipedia, https://de.wikipedia.org/wiki/Assemblersprache)\n",
    "\n",
    "![](pics/week02_assembler.png)\n",
    "\n",
    "In Python ist dieser Programmcode wesentlich kürzer:"
   ]
  },
  {
   "cell_type": "code",
   "execution_count": null,
   "id": "607ff947",
   "metadata": {},
   "outputs": [],
   "source": [
    "print('Hallo Welt')"
   ]
  },
  {
   "cell_type": "markdown",
   "id": "8ee06de3",
   "metadata": {},
   "source": [
    "Heute werden nur noch die sogenannten höheren Programmiersprachen verwendet (wie Python, MATLAB oder C++), die für Menschen leichter verständlich sind. Dafür müssen dann Programme, die in höheren Programmiersprachen geschrieben sind, in Maschinensprache übersetzt werden. Verschiedene Programmiersprachen verwenden dazu unterschiedliche Prinzipien. Die beiden wichtigsten Vertreter sind Compiler-Programmiersprachen und Interpreter-Programmiersprachen. \n",
    "\n",
    "Bei Compiler-Programmiersprachen wird der Programmcode vorab in Maschinensprache übersetzt und der Anwender erhält die Anwendungssoftware in Maschinensprache (bei Windows beispielsweise als exe-Datei). Den Vorgang des Übersetzens nennt man Kompilieren. Bei Interpreter-Sprachen wird der Code in dem Moment übersetzt, in dem das Programm läuft bzw. ausgeführt wird. Während also das Programm läuft, muss gleichzeitig - quasi im Hintergrund - der Übersetzer arbeiten und die höhere Programmiersprach in Maschinensprache interpretieren. Daher der Name Interpreter-Sprache.\n",
    "\n",
    "Kurze Zwischenfrage:\n",
    "\n",
    "1. Ordnen Sie folgende Programmiersprachen den beiden Kategorien Compiler-Sprache oder Interpreter-Sprache zu: C, C++, Fortran, Java, Matlab und Python.\n",
    "\n",
    "2. Stellen Sie eine Vermutung auf: in welcher Programmiersprache können die schnelleren Programme geschrieben werden?\n",
    "\n",
    "3. Raten Sie: welche Programmiersprachen sind leichter zu lernen und warum?\n"
   ]
  },
  {
   "cell_type": "markdown",
   "id": "4eeafcd2",
   "metadata": {},
   "source": [
    "### EVA-Prinzip\n",
    "\n",
    "Wikipedia beschreibt das EVA-Prinzip wie folgt:\n",
    "\n",
    "\"...Das EVA-Prinzip beschreibt ein Grundprinzip der Datenverarbeitung. Die Abkürzung leitet sich aus den ersten Buchstaben der Begriffe Eingabe, Verarbeitung und Ausgabe ab (englisch IPO model: input-process-output). Diese drei Begriffe beschreiben die Reihenfolge, in der Daten verarbeitet werden.\" (siehe https://de.wikipedia.org/wiki/EVA-Prinzip).\n",
    "\n",
    "Typische Eingabe-Operationen sind dabei\n",
    "* die Eingabe von Zeichen über eine Tastatur oder\n",
    "* das Lesen von Dateien, die auf der Festplatte oder einem Speichermedium gespeichert sind.\n",
    "\n",
    "Häufige Ausgabe-Operationen sind\n",
    "* die Wiedergabe von Texten, Zahlen oder Bildern auf dem Bildschirm oder\n",
    "* das Schreiben von Dateien auf Festplatte oder Speichermedium.\n",
    "\n"
   ]
  },
  {
   "cell_type": "markdown",
   "id": "50f35964",
   "metadata": {},
   "source": [
    "## Zahlen und Strings\n",
    "\n",
    "In der Programmierung unterscheidet man grundsätzlich zwischen zwei Zahlenarten, den Ganzzahlen und den Gleitkommazahlen/Fließkommazahlen. Die Ganzzahlen werden in der Mathematik als ganze Zahlen bezeichnet. In der Informatik ist der englische Begriff am gebräuchlisten: Integer. Letzte Woche haben wir bereits einfache Rechnungen mit Integern ausgeführt. \n"
   ]
  },
  {
   "cell_type": "code",
   "execution_count": null,
   "id": "3ed9fc2a",
   "metadata": {
    "pycharm": {
     "is_executing": false
    }
   },
   "outputs": [],
   "source": [
    "2+3"
   ]
  },
  {
   "cell_type": "code",
   "execution_count": null,
   "id": "37423368",
   "metadata": {
    "pycharm": {
     "is_executing": false
    }
   },
   "outputs": [],
   "source": [
    "3*5"
   ]
  },
  {
   "cell_type": "code",
   "execution_count": null,
   "id": "72245d34",
   "metadata": {
    "pycharm": {
     "is_executing": false
    }
   },
   "outputs": [],
   "source": [
    "3/5"
   ]
  },
  {
   "cell_type": "markdown",
   "id": "5ffe76b0",
   "metadata": {},
   "source": [
    "Bei dem letzten Beispiel `3/5 = 0.6` sehen wir, dass das Ergebnis eine Gleitkommazahl ist. Eine solche Zahl wird in der Informatik als Float bezeichnet. Je nachdem, wieviel Speicherplatz eine Fließkommazahl einnehmen darf, spricht man auch von Single Float und Double Float (oder manchmal kurz von Double). \n",
    "\n",
    "Achtung: Sie müssen stets einen Punkt als Dezimaltrennzeichen verwenden, kein Komma."
   ]
  },
  {
   "cell_type": "code",
   "execution_count": null,
   "id": "2ebb4a2c",
   "metadata": {
    "pycharm": {
     "is_executing": false
    }
   },
   "outputs": [],
   "source": [
    "3.5 * 6"
   ]
  },
  {
   "cell_type": "code",
   "execution_count": null,
   "id": "2f12da0c",
   "metadata": {
    "pycharm": {
     "is_executing": false
    }
   },
   "outputs": [],
   "source": [
    "17/18"
   ]
  },
  {
   "cell_type": "markdown",
   "id": "941b7dde",
   "metadata": {},
   "source": [
    "Dabei gelten die mathematischen Rechenregeln wie Punkt-vor-Strich oder die Klammergesetze. Mit dem Kommando `print()` in Python oder dem Kommand `disp()` in MATLAB geben wir das Ergebnis auch direkt aus:"
   ]
  },
  {
   "cell_type": "code",
   "execution_count": null,
   "id": "9d9096d0",
   "metadata": {
    "pycharm": {
     "is_executing": false
    }
   },
   "outputs": [],
   "source": [
    "print(3+4) "
   ]
  },
  {
   "cell_type": "code",
   "execution_count": null,
   "id": "1b224227",
   "metadata": {
    "pycharm": {
     "is_executing": false
    }
   },
   "outputs": [],
   "source": [
    "print( 3*(8-2) )"
   ]
  },
  {
   "cell_type": "markdown",
   "id": "88d97b33",
   "metadata": {},
   "source": [
    "###### Aufgabe 2.1\n",
    "\n",
    "Bitte schauen Sie sich das YouTube-Video https://www.youtube.com/watch?v=VtiDkRDPA_c an und probieren Sie die in diesem Video vorgeführten Beispiele hier (oder in MATLAB) aus. Stoppen Sie dazu regelmäßig das Video."
   ]
  },
  {
   "cell_type": "code",
   "execution_count": null,
   "id": "a7f389ad",
   "metadata": {
    "pycharm": {
     "is_executing": false
    }
   },
   "outputs": [],
   "source": []
  },
  {
   "cell_type": "code",
   "execution_count": null,
   "id": "302822fa",
   "metadata": {
    "pycharm": {
     "is_executing": false
    }
   },
   "outputs": [],
   "source": []
  },
  {
   "cell_type": "markdown",
   "id": "5ed43bd3",
   "metadata": {},
   "source": [
    "Daten sind aber sehr oft keine Zahlen. Beispielsweise könnte man sich vorstellen, eine Einkaufsliste zu erstellen und diese im Computer oder in einer Notiz-App auf dem Handy zu speichern. Eine solche Zeichenkette heißt in der Informatik String. Mit Zeichen meint man dabei Zahlen, Buchstaben oder andere wie beispielsweise !\"§$%&/()=?."
   ]
  },
  {
   "cell_type": "code",
   "execution_count": null,
   "id": "2c04884f",
   "metadata": {
    "pycharm": {
     "is_executing": false
    }
   },
   "outputs": [],
   "source": [
    "\"Dies ist ein String!\""
   ]
  },
  {
   "cell_type": "markdown",
   "id": "d19773cc",
   "metadata": {},
   "source": [
    "###### Aufgabe 2.2\n",
    "\n",
    "Bitte schauen Sie sich das YouTube-Video https://www.youtube.com/watch?v=sTEf4_mrLvw an und probieren Sie die in diesem Video vorgeführten Beispiele hier (oder in MATLAB) aus. Stoppen Sie dazu regelmäßig das Video."
   ]
  },
  {
   "cell_type": "code",
   "execution_count": null,
   "id": "2ee6f5d0",
   "metadata": {
    "pycharm": {
     "is_executing": false
    }
   },
   "outputs": [],
   "source": []
  },
  {
   "cell_type": "code",
   "execution_count": null,
   "id": "41b07559",
   "metadata": {
    "pycharm": {
     "is_executing": false
    }
   },
   "outputs": [],
   "source": []
  },
  {
   "cell_type": "markdown",
   "id": "01e1a9b3",
   "metadata": {},
   "source": [
    "## Variablen\n",
    "\n",
    "Variablen sind beschriftete Schubladen. Oder anders formuliert sind Variablen Objekte, denen man einen Namen gibt. Technisch gesehen sind diese Schubladen ein kleiner Bereich im Arbeitsspeicher des Computers. Was in diesen Schubladen aufbewahrt wird, kann sehr unterschiedlich sein. Beispielsweise die Telefonnummer des ADAC-Pannendienstes, die 10. Nachkommastelle von Pi oder die aktuelle Position des Mauszeigers können in den Schubladen enthalten sein. \n",
    "\n",
    "Bitte lesen Sie dazu Kapitel 2 in dem Buch \"Python 3\" von Kalista oder Kapitel 1.3 in dem Buch \"Programmieren mit MATLAB\" von Stein.\n",
    "\n",
    "Wir verwenden Variablen, um bestimmte Werte oder ein bestimmtes Objekt zu speichern. Eine Variable wird durch Zuweisung erzeugt. Damit meinen wir, dass eine Schublade angelegt wird und die Schublade dann erstmalig gefüllt wird. Das erstmalige Füllen der Schublade nennt man in der Informatik auch Initialisieren."
   ]
  },
  {
   "cell_type": "code",
   "execution_count": null,
   "id": "36526b4b",
   "metadata": {
    "pycharm": {
     "is_executing": false
    }
   },
   "outputs": [],
   "source": [
    "x = 0.5"
   ]
  },
  {
   "cell_type": "markdown",
   "id": "7ad350d0",
   "metadata": {},
   "source": [
    "Sobald die Variable `x`in diesem Beispiel durch eine Zuweisung von 0.5 erstellt wurde, können wir sie verwenden:"
   ]
  },
  {
   "cell_type": "code",
   "execution_count": null,
   "id": "523b5d79",
   "metadata": {
    "pycharm": {
     "is_executing": false
    }
   },
   "outputs": [],
   "source": [
    "x*3"
   ]
  },
  {
   "cell_type": "code",
   "execution_count": null,
   "id": "1ab159cf",
   "metadata": {
    "pycharm": {
     "is_executing": false
    }
   },
   "outputs": [],
   "source": [
    "x + 17"
   ]
  },
  {
   "cell_type": "markdown",
   "id": "7172192b",
   "metadata": {},
   "source": [
    "Wichtig ist, dass das `=`in der Informatik eine andere Bedeutung hat als in der Mathematik. `=` meint nicht das Gleichheitszeichen, sondern den sogenannten Zuweisungsoperator. Das ist in der Programmierung ein Kommando, das eine Schublade befüllt oder technischer ausgedrückt, ein Objekt einer Variable zuweist."
   ]
  },
  {
   "cell_type": "code",
   "execution_count": null,
   "id": "7fa3fbd7",
   "metadata": {
    "pycharm": {
     "is_executing": false
    }
   },
   "outputs": [],
   "source": [
    "breite = 20\n",
    "tiefe = 5 * 9\n",
    "breite * tiefe"
   ]
  },
  {
   "cell_type": "markdown",
   "id": "e77e1266",
   "metadata": {},
   "source": [
    "Variablen müssen initalisiert (erstmalig mit einem Wert versehen) werden, bevor sie verwendet werden können, sonst tritt ein Fehler auf:"
   ]
  },
  {
   "cell_type": "code",
   "execution_count": null,
   "id": "e44f21a4",
   "metadata": {
    "pycharm": {
     "is_executing": false
    }
   },
   "outputs": [],
   "source": [
    "n"
   ]
  },
  {
   "cell_type": "markdown",
   "id": "1154e8dc",
   "metadata": {},
   "source": [
    "Sehr häufig findet man Code wie"
   ]
  },
  {
   "cell_type": "code",
   "execution_count": null,
   "id": "b9652c20",
   "metadata": {
    "pycharm": {
     "is_executing": false
    }
   },
   "outputs": [],
   "source": [
    "x = x + 1"
   ]
  },
  {
   "cell_type": "markdown",
   "id": "e8c76f81",
   "metadata": {},
   "source": [
    "Würden wir dies als Gleichung lesen, wie wir es aus der Mathematik gewohnt sind, x = x + 1, könnten wir x auf beiden Seiten subtrahieren und erhalten 0 = 1. Wir wissen, dass dies nicht wahr ist, also stimmt hier etwas nicht.\n",
    "\n",
    "In Python und MATLAB sind \"Gleichungen\" keine mathematischen Gleichungen, sondern Zuweisungen. \"=\" ist kein Gleichheitszeichen im mathematischen Sinne, sondern eine Zuweisung. Die Zuweisung muss immer in der folgenden Weise zweistufig gelesen werden:\n",
    "\n",
    "1. Berechne den Wert auf der rechten Seite (also x+1).\n",
    "2. Weise den Wert auf der rechten Seite dem auf der linken Seite stehenden Variablennamen zu (in Python-Sprechweise: binde dem Namen auf der linken Seite an das auf der rechten Seite angezeigte Objekt).\n"
   ]
  },
  {
   "cell_type": "code",
   "execution_count": null,
   "id": "ccd56b61",
   "metadata": {
    "pycharm": {
     "is_executing": false
    }
   },
   "outputs": [],
   "source": [
    "x = 4     \n",
    "x = x + 1\n",
    "x"
   ]
  },
  {
   "cell_type": "markdown",
   "id": "d29fc248",
   "metadata": {},
   "source": [
    "#### Richtlinien für Variablennamen\n",
    "\n",
    "Früher war der Speicherplatz von Computern klein, daher wurden häufig nur kurze Variablennamen wie beispielsweise `i` oder `N` verwendet. Heutzutage ist es Standard, nur in Ausnahmefällen (z.B. in Schleifen, dazu kommen wir noch) kurze Variablennamen zu nehmen. Stattdessen werden Namen benutzt, bei denen man erraten kann, was die Variable für einen Einsatzzweck hat. Beispielsweise lässt der Code"
   ]
  },
  {
   "cell_type": "code",
   "execution_count": null,
   "id": "ef4a4167",
   "metadata": {
    "pycharm": {
     "is_executing": false
    }
   },
   "outputs": [],
   "source": [
    "m = 0.19\n",
    "n = 80\n",
    "b = n + m*n\n",
    "print(b)"
   ]
  },
  {
   "cell_type": "markdown",
   "id": "344796c7",
   "metadata": {},
   "source": [
    "nur schwer vermuten, was damit bezweckt wird. Dagegen erahnt man bei diesem Code schon eher, was bezweckt wird:"
   ]
  },
  {
   "cell_type": "code",
   "execution_count": null,
   "id": "8c1cee45",
   "metadata": {
    "pycharm": {
     "is_executing": false
    }
   },
   "outputs": [],
   "source": [
    "mehrwertsteuersatz = 19/100\n",
    "nettopreis = 80\n",
    "bruttopreis = nettopreis + mehrwertsteuersatz * nettopreis\n",
    "print(bruttopreis)"
   ]
  },
  {
   "cell_type": "markdown",
   "id": "aca39613",
   "metadata": {},
   "source": [
    "Verwenden Sie für Variablennamen nur ASCII-Zeichen, also keine Umlaute wie ö, ü oder ß. Zahlen sind erlaubt, aber nicht am Anfang des Namens. Es ist sinnvoll, lange Variablen durch einen Unterstrich besser lesbar zu gestalten (sogenannte Snake-Case-Formatierung). Ich empfehle für Variablennamen beispielsweise\n",
    "\n",
    "`dateiname_alt` oder `dateiname_neu`\n",
    "\n",
    "wenn beispielsweise eine Datei umbenannt wird. Sie sind frei in der Gesatltung der Variablennamen verboten sind nur die sogannnten Schlüsselwörter. \n",
    "\n",
    "###### Aufgabe 2.3\n",
    "\n",
    "Bitte recherchieren Sie im Internet, welche Schlüsselwörter für Python verboten sind und notieren Sie sie hier (wenn Sie MATLAB machen, dann bitte ebenfalls Namensregeln für MATLAB in einem Textdokument notieren):\n"
   ]
  },
  {
   "cell_type": "markdown",
   "id": "65dd491d",
   "metadata": {},
   "source": [
    "Hier ergänzen, indem Sie einen Doppelklick auf diese Zelle ausführen."
   ]
  },
  {
   "cell_type": "markdown",
   "id": "aa24d8b9",
   "metadata": {},
   "source": [
    "###### Aufgabe 2.4\n",
    "\n",
    "Bitte schauen Sie sich das YouTube-Video https://www.youtube.com/watch?v=jfOLXKPGXJ0 an und probieren Sie die in diesem Video vorgeführten Beispiele hier (oder in MATLAB) aus. Stoppen Sie dazu regelmäßig das Video."
   ]
  },
  {
   "cell_type": "code",
   "execution_count": null,
   "id": "4fcbd416",
   "metadata": {
    "pycharm": {
     "is_executing": false
    }
   },
   "outputs": [],
   "source": []
  },
  {
   "cell_type": "markdown",
   "id": "80ede3ed",
   "metadata": {},
   "source": [
    "\n",
    "\n",
    "#### Ausgabe auf dem Bildschirm\n",
    "\n",
    "Für die Ausgabe auf dem Bildschirm wird am häufigsten die `print()`-Funktion (in MATLAB: `disp()`-Funktion) genutzt. Diese steht uns in zwei Varianten zur Verfügung.\n",
    "\n",
    "Bei der einfachen Ausgabe wird der Inhalt/Wert von Variablen auf dem Bildschirm angezeigt, indem man die `print()`-Funktion auf die Variablen anwendet bzw. indem man der `print()`-Funktion die Variablen ggf. mit Komma getrennt als Argument übergibt.\n"
   ]
  },
  {
   "cell_type": "code",
   "execution_count": null,
   "id": "991f70be",
   "metadata": {
    "pycharm": {
     "is_executing": false
    }
   },
   "outputs": [],
   "source": [
    "a = 7\n",
    "print(a)"
   ]
  },
  {
   "cell_type": "code",
   "execution_count": null,
   "id": "de3a9de8",
   "metadata": {
    "pycharm": {
     "is_executing": false
    }
   },
   "outputs": [],
   "source": [
    "b = -17.3\n",
    "print(b)"
   ]
  },
  {
   "cell_type": "code",
   "execution_count": null,
   "id": "c3dbbdcf",
   "metadata": {
    "pycharm": {
     "is_executing": false
    }
   },
   "outputs": [],
   "source": [
    "c = \"Dies ist ein Beispiel-Text!\"\n",
    "print(c)"
   ]
  },
  {
   "cell_type": "markdown",
   "id": "2cc0be1b",
   "metadata": {},
   "source": [
    "In Python kann man dem `print()`-Kommando mehrere Argumente/Inputs übergeben. In MATLAB funktioniert das mit der `disp()`-Funktion leider nicht. Dazu muss man dann das `sprintf()`-Kommando verwenden siehe https://de.mathworks.com/help/matlab/matlab_prog/formatting-strings.html . Schreiben Sie die folgenden Code-Zellen in MATLAB."
   ]
  },
  {
   "cell_type": "code",
   "execution_count": null,
   "id": "b2212c1c",
   "metadata": {
    "pycharm": {
     "is_executing": false
    }
   },
   "outputs": [],
   "source": [
    "print(a,b,c)"
   ]
  },
  {
   "cell_type": "code",
   "execution_count": null,
   "id": "f205a2b3",
   "metadata": {
    "pycharm": {
     "is_executing": false
    }
   },
   "outputs": [],
   "source": [
    "d = \"Die Antwort auf alle Fragen lautet\"\n",
    "print(d, 6*a)"
   ]
  },
  {
   "cell_type": "code",
   "execution_count": null,
   "id": "ea358487",
   "metadata": {
    "pycharm": {
     "is_executing": false
    }
   },
   "outputs": [],
   "source": [
    "print(d, 6*a, '!!!')"
   ]
  },
  {
   "cell_type": "markdown",
   "id": "83190067",
   "metadata": {},
   "source": [
    "Bei der Print-Ausgabe wird zwischen jedes Element ein Leerzeichen gesetzt. Zusätzlich wird nach jedem Print-Befehl eine neue Zeile begonnen."
   ]
  },
  {
   "cell_type": "code",
   "execution_count": null,
   "id": "82a86b72",
   "metadata": {
    "pycharm": {
     "is_executing": false
    }
   },
   "outputs": [],
   "source": [
    "print(a)\n",
    "print(b)\n",
    "print(c,d)\n",
    "print(\"42...\")"
   ]
  },
  {
   "cell_type": "markdown",
   "id": "45990625",
   "metadata": {},
   "source": [
    "Bei der formatierten print-Ausgabe wird die beiden Befehle `print()`und `format()`kombiniert. Im auszugebenden String werden Platzhalter durch `{ }` eingefügt und in der Methode dann die Werte übergeben: "
   ]
  },
  {
   "cell_type": "code",
   "execution_count": null,
   "id": "885809e5",
   "metadata": {
    "pycharm": {
     "is_executing": false
    }
   },
   "outputs": [],
   "source": [
    "print(\"Die Antwort auf alle Fragen lautet {}!!!\".format(42))"
   ]
  },
  {
   "cell_type": "code",
   "execution_count": null,
   "id": "43ad85ef",
   "metadata": {
    "pycharm": {
     "is_executing": false
    }
   },
   "outputs": [],
   "source": [
    "print('{} ist {} m groß.'.format('Alice', 1.73))     "
   ]
  },
  {
   "cell_type": "code",
   "execution_count": null,
   "id": "2cb9b9ed",
   "metadata": {
    "pycharm": {
     "is_executing": false
    }
   },
   "outputs": [],
   "source": [
    "a = '{} ist {} m groß.'.format('Alice', 1.73)       \n",
    "print(a)"
   ]
  },
  {
   "cell_type": "markdown",
   "id": "60851049",
   "metadata": {},
   "source": [
    "Die direkte Adressierung der Platzhalter kann Code vereinfachen. Bitte beachten, Python nummeriert ab 0!"
   ]
  },
  {
   "cell_type": "code",
   "execution_count": null,
   "id": "8e17c27c",
   "metadata": {
    "pycharm": {
     "is_executing": false
    }
   },
   "outputs": [],
   "source": [
    "a = '{} ist {} m groß. Wer ist {} groß? {}.'.format('Alice', 1.73, 1.73, 'Alice')   \n",
    "print(a)"
   ]
  },
  {
   "cell_type": "code",
   "execution_count": null,
   "id": "3c08b796",
   "metadata": {
    "pycharm": {
     "is_executing": false
    }
   },
   "outputs": [],
   "source": [
    "a = '{0} ist {1} m groß. Wer ist {1} groß? {0}.'.format('Alice', 1.73)\n",
    "print(a)"
   ]
  },
  {
   "cell_type": "markdown",
   "id": "fce48235",
   "metadata": {},
   "source": [
    "Die Indizierung von 0,1,... kann auch explizit durch Namen ersetzt werden."
   ]
  },
  {
   "cell_type": "code",
   "execution_count": null,
   "id": "eb63e62e",
   "metadata": {
    "pycharm": {
     "is_executing": false
    }
   },
   "outputs": [],
   "source": [
    "a = '{name} ist {groesse} m groß. Wer ist {name} groß? {groesse}.'.format(name='Alice', groesse=1.73)\n",
    "print(a)"
   ]
  },
  {
   "cell_type": "code",
   "execution_count": null,
   "id": "af1de84b",
   "metadata": {
    "pycharm": {
     "is_executing": false
    }
   },
   "outputs": [],
   "source": [
    "import math\n",
    "\n",
    "a = 'Pi ist ungefähr {}.'.format(math.pi)\n",
    "print(a)"
   ]
  },
  {
   "cell_type": "code",
   "execution_count": null,
   "id": "5edd37e8",
   "metadata": {
    "pycharm": {
     "is_executing": false
    }
   },
   "outputs": [],
   "source": [
    "a = 'Pi ist ungefähr {:f}.'.format(math.pi)  # Ausgabe als Float mit 6 Nachkommastellen\n",
    "print(a)"
   ]
  },
  {
   "cell_type": "code",
   "execution_count": null,
   "id": "0a0166be",
   "metadata": {
    "pycharm": {
     "is_executing": false
    }
   },
   "outputs": [],
   "source": [
    "a = 'Pi ist ungefähr {:.2f}.'.format(math.pi)  # Ausgabe als Float mit 2 Nachkommastellen\n",
    "print(a)"
   ]
  },
  {
   "cell_type": "code",
   "execution_count": null,
   "id": "fc22a168",
   "metadata": {
    "pycharm": {
     "is_executing": false
    }
   },
   "outputs": [],
   "source": [
    "a = 'Pi ist ungefähr {:.0f}.'.format(math.pi)  # Ausgabe als Float mit 0 Nachkommastellen\n",
    "print(a)"
   ]
  },
  {
   "cell_type": "markdown",
   "id": "9343779a",
   "metadata": {},
   "source": [
    "#### Eingabe mit der Tastatur\n",
    "\n",
    "Die einfachste und häufigste Eingabe erfolgt über die Tastatur. Die Funktion `input()`stoppt das Programm und erwartet eine Eingabe über die Tastatur. Bei Python wird der Wert anschließend als String weiter verarbeitet, auch wenn der Benutzer eine Zahl eingegeben hat. Bei MATLAB wird die Eingabe als Zahl interpretiert. Die Eingabe wird mit Return/Enter abgeschlossen."
   ]
  },
  {
   "cell_type": "code",
   "execution_count": null,
   "id": "c0cab70d",
   "metadata": {
    "pycharm": {
     "is_executing": false
    }
   },
   "outputs": [],
   "source": [
    "x = input('Bitte geben Sie eine Zahl ein:')"
   ]
  },
  {
   "cell_type": "code",
   "execution_count": null,
   "id": "fb06b136",
   "metadata": {
    "pycharm": {
     "is_executing": false
    }
   },
   "outputs": [],
   "source": [
    "print(x)"
   ]
  },
  {
   "cell_type": "markdown",
   "id": "c640d24f",
   "metadata": {},
   "source": [
    "Probieren Sie einmal aus, was passiert, wenn Sie die Eingabe mit einer Zahl multiplizieren:"
   ]
  },
  {
   "cell_type": "code",
   "execution_count": null,
   "id": "4b76f79f",
   "metadata": {
    "pycharm": {
     "is_executing": false
    }
   },
   "outputs": [],
   "source": [
    "alter = input(\"Bitte geben Sie Ihr Alter an:\")\n",
    "print(alter * 2)"
   ]
  },
  {
   "cell_type": "markdown",
   "id": "05fbb699",
   "metadata": {},
   "source": [
    "Wie gesagt, in Python wird aus dem Input immer ein String gemacht, auch wenn der Benutzer eigentlich eine Zahl eingegeben hat. Man sagt auch, der Rückgabewert des Input-Kommandos ist ein String. Aber wie kann man eigentlich überprüfen, zu welchem Datentyp ein Objekt gehört? In Python verwenden wir dazu das `type()`-Kommando, in MATLAB den Befehl `whos `, also z.B. `whos alter`."
   ]
  },
  {
   "cell_type": "code",
   "execution_count": null,
   "id": "2b40d359",
   "metadata": {
    "pycharm": {
     "is_executing": false
    }
   },
   "outputs": [],
   "source": [
    "type(alter)"
   ]
  },
  {
   "cell_type": "markdown",
   "id": "2b1f9a44",
   "metadata": {},
   "source": [
    "Es ist aber nicht weiter schwierig, die String-Eingabe in eine Zahl umzuwandeln. Verwenden Sie in Python dazu das Kommando `int()`, um den String in einen Integer umzuwandeln. Mit dem Kommando `float()`können Sie einen String in eine Fließkommazahl konvertieren. \n",
    "\n",
    "In MATLAB können Sie ohne eine solche Umwandlung weiterarbeiten, die Eingabe ist schon eine Zahl."
   ]
  },
  {
   "cell_type": "code",
   "execution_count": null,
   "id": "b51afc19",
   "metadata": {
    "pycharm": {
     "is_executing": false
    }
   },
   "outputs": [],
   "source": [
    "alter_integer = int(alter)\n",
    "type(alter_integer)"
   ]
  },
  {
   "cell_type": "markdown",
   "id": "ffb88d8d",
   "metadata": {},
   "source": [
    "# Aufgaben zur Vertiefung"
   ]
  },
  {
   "cell_type": "markdown",
   "id": "1cc9b685",
   "metadata": {},
   "source": [
    "###### Aufgabe 2.5\n",
    "\n",
    "Zu welchen Datentypen gehören folgende Ausdrücke? Erst vermuten, dann mit `type(x)` (Python) oder `whos x` (MATLAB) ausprobieren.\n",
    "\n",
    "* 4 + 2\n",
    "* 4 + 2.5\n",
    "* 4 / 2\n",
    "* 4 / 2.0\n",
    "* 4 - 2\n",
    "* 3 * \" Affe \""
   ]
  },
  {
   "cell_type": "code",
   "execution_count": null,
   "id": "f796f505",
   "metadata": {
    "pycharm": {
     "is_executing": false
    }
   },
   "outputs": [],
   "source": []
  },
  {
   "cell_type": "markdown",
   "id": "8124a21e",
   "metadata": {},
   "source": [
    "###### Aufgabe 2.6 Hypotenuse im rechtwinkligen Dreieck\n",
    "\n",
    "Schreiben Sie ein Programm, das den Benutzer zwei Seitenlängen für die beiden Katheten $a$ und $b$ eines rechtwinkligen Dreiecks eingeben lässt. Anschließend berechnet das Programm die Länge der Hypotenuse nach dem Satz des Pythagoras $a^2+b^2=c^2$ und gibt diese aus.\n",
    "\n",
    "Bemerkung: Was passiert, wenn Sie eine negative Zahl eingeben?\n"
   ]
  },
  {
   "cell_type": "code",
   "execution_count": null,
   "id": "e91468a4",
   "metadata": {
    "pycharm": {
     "is_executing": false
    }
   },
   "outputs": [],
   "source": []
  },
  {
   "cell_type": "markdown",
   "id": "423ae2d3",
   "metadata": {},
   "source": [
    "###### Aufgabe 2.7  Fläche und Umfang eines Kreises\n",
    "\n",
    "Schreiben Sie ein Programm, das den Benutzer nach dem Radius eines Kreises fragt und anschließend Fläche und Umfang des Kreises ausgibt.\n"
   ]
  },
  {
   "cell_type": "code",
   "execution_count": null,
   "id": "2ca3fdae",
   "metadata": {
    "pycharm": {
     "is_executing": false
    }
   },
   "outputs": [],
   "source": []
  },
  {
   "cell_type": "markdown",
   "id": "ee7aaca5",
   "metadata": {},
   "source": [
    "###### Aufgabe 2.8 Kostenkalkulation Urlaubsreise\n",
    "\n",
    "Schreiben Sie ein Programm, das die Kosten für eine Urlaubsreise für eine Reisegruppe mit einem Bus berechnet. Vom Benutzer werden folgende Angaben erfragt: \n",
    "\n",
    "* Anzahl der Personen, \n",
    "* Hotelkosten pro Person, \n",
    "* Gesamtkosten für den Reisebus, \n",
    "* Gesamtkosten für touristische Events am Zielort, \n",
    "* sonstige Kosten pro Person. \n",
    "\n",
    "Ausgegeben werden die Gesamtkosten der Fahrt und der Betrag, den jeder Teilnehmer zahlen muss. Möglicher Programmlauf:\n",
    "\n",
    "```code \n",
    "Kostenplan für eine Reise \n",
    "---------------------------\n",
    "Kosten für den Reisebus: 1000\n",
    "Hotelkosten pro Person: 300\n",
    "Gesamtkosten für touristische Events: 500 \n",
    "Anzahl der Teilnehmer: 30\n",
    "\n",
    "Die Gesamtkosten betragen 10500 EUR. Die Kosten pro Person sind 350 EUR.\n",
    "```\n",
    "\n",
    "Hinweise: Machen Sie sich erstmal einen Plan, welche Eingaben abgefragt werden müssen, wie diese verarbeitet werden sollen und was das Programm am Ende ausgeben soll. Danach implementieren Sie Ihren Algorithmus.  Achten Sie auf guten Programmierstil. Verwenden Sie »sprechende« Variablennamen. Setzen Sie die Funktion input() für die Eingabe der Zahlenwerte ein und denken Sie an die Umwandlung in einen Integer oder einen Float, falls Sie Python verwenden."
   ]
  },
  {
   "cell_type": "code",
   "execution_count": null,
   "id": "6248db72",
   "metadata": {
    "pycharm": {
     "is_executing": false
    }
   },
   "outputs": [],
   "source": []
  }
 ],
 "metadata": {
  "kernelspec": {
   "display_name": "Python 3",
   "language": "python",
   "name": "python3"
  },
  "language_info": {
   "codemirror_mode": {
    "name": "ipython",
    "version": 3
   },
   "file_extension": ".py",
   "mimetype": "text/x-python",
   "name": "python",
   "nbconvert_exporter": "python",
   "pygments_lexer": "ipython3",
   "version": "3.8.3"
  }
 },
 "nbformat": 4,
 "nbformat_minor": 5
}
