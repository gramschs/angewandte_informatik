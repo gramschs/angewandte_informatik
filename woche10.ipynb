{
 "cells": [
  {
   "cell_type": "markdown",
   "id": "5690d1e1-28f8-41f0-8a99-21603af06a33",
   "metadata": {},
   "source": [
    "# Woche 10 Fehlersuche (Debugging), IDEs, Testen und Kommentare\n",
    "\n",
    "Diese Woche beschäftigen wir uns vor allem mit der Fehlersuche. Selbst erfahrene Softwareentwickler-Teams machen Fehler bei der Programmierung. Die Suche nach Fehlern im Programm ist schwierig, kann aber durch technische Hilfsmittel unterstützt werden, allen voran durch den Debugger (= eine Art Fehlersuch-Werkzeug). Damit Sie den Debugger nutzen können, benötigen Sie eine IDE (= integrated development environment) mit Debugger, also eine integrierte Entwicklungsumgebung mit Fehlersuch-Werkzeugen. Zum Schluss beschäftigen wir uns noch mit Testen und Dokumentation.\n",
    "\n",
    "* Kapitel 10.1 Fehlersuche (Debugging)\n",
    "* Kapitel 10.2 IDEs (integrierte Entwicklungsumgebungen)\n",
    "* Kapitel 10.3 Testen und Kommentare\n",
    "\n",
    "#### Aufgabe 10.1 Lesen\n",
    "\n",
    "Lesen Sie bitte - je nach Programmiersprache - die folgenden Abschnitte:\n",
    "* Buch \"Python 3\" von Heiko Kalista:\n",
    "    * Kapitel 11.1 Was ist ein Debugger?\n",
    "    * Kapitel 11.2 Eine einfache Fehlersuche\n",
    "    * Kapitel 11.3 Debugging von Funktionen und Methoden\n",
    "* Buch \"Programmieren mit MATLAB\" von Ulrich Stein:\n",
    "    * Kapitel 5.1 Das Programm läuft nicht!\n",
    "    * Kapitel 5.2 Der Debugger\n",
    "\n",
    "\n",
    "## 10.1 Fehlersuche (Debugging)\n",
    "\n",
    "\n",
    "Aber was ist überhaupt ein Bug? In der Informatik wird ein Programmfehler **Bug** genannt. Wie in dieser Erklärung [Wikipedia:Programmfehler](https://de.wikipedia.org/wiki/Programmfehler) erläutert, gibt es verschiedene Arten von Programmfehlern. Am häufigsten sind \n",
    "\n",
    "* syntaktische Fehler und\n",
    "* semantische Fehler.\n",
    "\n",
    "**Syntaktische Fehler** sind Fehler, bei denen das Entwickler-Team gegen die Regeln der Programmiersprache verstoßen hat. Z.B. produziert eine fehlende Klammer einen Syntaxfehler:"
   ]
  },
  {
   "cell_type": "code",
   "execution_count": null,
   "id": "b622e474-aa30-4bb3-a55b-ac93e65c8bff",
   "metadata": {},
   "outputs": [],
   "source": [
    "print('Hallo'"
   ]
  },
  {
   "cell_type": "markdown",
   "id": "a500531a-b2ef-48bb-9199-1c157d5bac92",
   "metadata": {},
   "source": [
    "Syntaktische Fehler braucht man nicht im eigentlichen Sinn zu suchen, denn syntaktische Fehler führen dazu, dass das Programm abbricht. Schwieriger hingegen ist es, die Ursache des syntaktischen Fehlers zu ermitteln und den Fehler zu beheben. Oft ist es hilfreich, die Fehlermeldung in eine Internet-Suchmaschine einzugeben. Oft haben andere Programmierer ebenfalls schon diesen Fehler im Programm gehabt und es gibt Erläuterungen zu dieser Fehlerart.\n",
    "\n",
    "**Semantische Fehler** sind besonders schwer zu finden. Bei semantischen Fehlern gibt es keine Fehlermeldung des Interpreters und das Programm läuft auch, ohne abzustürzen. Aber das Ergebnis entspricht nicht dem, was die Entwicklerin oder der Entwickler beabsichtigt hatte.  \n",
    "\n",
    "In dem folgenden Programm beispielsweise soll der Notendurchschnitt von Praxisbericht (Gewichtung 80 %) und Präsentation (20 %) berechnet werden. Schauen Sie sich den Programmcode an. Wo ist der Fehler?"
   ]
  },
  {
   "cell_type": "code",
   "execution_count": null,
   "id": "8fe4cfc2-2ea2-4854-9389-19fb84aa8868",
   "metadata": {},
   "outputs": [],
   "source": [
    "note_praxisbericht = 2.7\n",
    "note_praesentation = 2.3\n",
    "\n",
    "noten_durchschnitt = 0.8 * note_praesentation + 0.2 * note_praesentation\n",
    "print('Notendurchschnitt: ', noten_durchschnitt)"
   ]
  },
  {
   "cell_type": "markdown",
   "id": "e4ae9d2a-5909-49f2-bead-7c8acbc4f667",
   "metadata": {},
   "source": [
    "Der folgende Code soll den Benutzer nach mehreren Noten fragen und dann den Durchschnitt berechnen. Bitte geben Sie die Noten 2, 2, 2 ein und dann 0 zum Beenden. Der Durchschnitt ist 2, aber was berechnet das Programm? Wo ist der Fehler?"
   ]
  },
  {
   "cell_type": "code",
   "execution_count": null,
   "id": "76ede1cb-9765-49f6-a156-905c91526424",
   "metadata": {},
   "outputs": [],
   "source": [
    "summe = 0\n",
    "anzahl = 0\n",
    "weitere_note_eingeben = True\n",
    "\n",
    "while weitere_note_eingeben == True:\n",
    "    note = float(input('Bitte geben Sie eine Note ein. Wenn Sie die Note 0 eingeben, ist die Noteneingabe beendet. '))\n",
    "    if note == 0:\n",
    "        weitere_note_eingeben = False\n",
    "    else:\n",
    "        summe = note\n",
    "        anzahl = anzahl + 1\n",
    "        \n",
    "durchschnitt = summe / anzahl\n",
    "print('Der Durchschnitt der Noten ist ', durchschnitt)"
   ]
  },
  {
   "cell_type": "markdown",
   "id": "e0b9215c-60ca-4721-8f92-87e9a1bc9d59",
   "metadata": {},
   "source": [
    "Aber wie gehen wir jetzt vor, um sicherzustellen, dass das von uns entwickelte Programm auch den beabsichtigten Zweck erfüllt? Als erstes überlegen wir uns Testfälle. Dazu später mehr. Auf dem Papier notieren wir uns, was das Programm für Zwischenergebnisse liefern sollte, welche Ausgaben und welches Gesamtergebnis. Für ein Testbeispiel mit den Noten 1.3, 3.7 und 2.3 hätten wir also folgenden *wünschenswerten* Ablauf:\n",
    "\n",
    "```\n",
    "summe = 0\n",
    "anzahl = 0\n",
    "weitere_note_eingeben = True\n",
    "Benutzereingabe: note = 1.3\n",
    "else-Zweig: \n",
    "    summe = 1.3 \n",
    "    anzahl  = 1\n",
    "Benutzereingabe: note = 3.7\n",
    "else-Zweig:\n",
    "    summe = 5.0\n",
    "    anzahl = 2\n",
    "Benutzereingabe: note = 2.3\n",
    "else-Zweig\n",
    "    summe = 7.3\n",
    "    anzahl = 3\n",
    "Benutzereingabe: 0\n",
    "if-Zweig:\n",
    "    weitere_note_eingeben = False\n",
    "durchschnitt = 7.3/3 = 2.433333333333333\n",
    "Ausgabe: Der Durchschnitt der Noten ist 2.433333333333333\n",
    "```\n",
    "\n",
    "Leider fehlt uns derzeit der Einblick in unseren Programm-Code. Eine sehr einfache und schnelle Methode ist die Fehlersuche durch print-Anweisungen. Diese Methode funktioniert immer, kann aber bei größeren Programmen auch schnell unübersichtlich werden. Daher ist die Weiterentwicklung der \"Debugging by Printing\"-Methode der Debugger. Erweitern wir unser Programm mit print-Anweisungen und sehen wir, was passiert, wenn wir die Noten 1.3, 3.7, 2.3 und 0 eingeben:"
   ]
  },
  {
   "cell_type": "code",
   "execution_count": null,
   "id": "f8ae65d5-050d-40a9-b0c1-272e4e88a34b",
   "metadata": {},
   "outputs": [],
   "source": [
    "summe = 0\n",
    "print('summe = ', summe)\n",
    "anzahl = 0\n",
    "print('anzahl = ', anzahl)\n",
    "weitere_note_eingeben = True\n",
    "print('weitere_note_eingeben = ', weitere_note_eingeben)\n",
    "\n",
    "while weitere_note_eingeben == True:\n",
    "    note = float(input('Bitte geben Sie eine Note ein. Wenn Sie die Note 0 eingeben, ist die Noteneingabe beendet. '))\n",
    "    print('note = ', note)\n",
    "    if note == 0:\n",
    "        weitere_note_eingeben = False\n",
    "        print('if-Zweig: note = ', note)\n",
    "        print('if-Zweig: weitere_note_eingeben = ', weitere_note_eingeben)\n",
    "    else:\n",
    "        summe = note\n",
    "        print('else-Zweig: summe = ', summe)\n",
    "        anzahl = anzahl + 1\n",
    "        print('else-Zweig: anzahl = ', anzahl)\n",
    "        \n",
    "durchschnitt = summe / anzahl\n",
    "print('durchschnitt = ', durchschnitt)\n",
    "print('Der Durchschnitt der Noten ist ', durchschnitt)"
   ]
  },
  {
   "cell_type": "markdown",
   "id": "a0b5b77f-c78e-47a9-8bbd-1e4d80cb6e83",
   "metadata": {},
   "source": [
    "#### Aufgabe 10.2\n",
    "\n",
    "Kopieren Sie den folgenden Code in eine Code-Zelle. Finden Sie die Fehler und korrigieren Sie die Fehler.\n",
    "\n",
    "```python\n",
    "passwort = input(\"Hallo, Pirat! Wie lautet das Passwort: )\n",
    "if passwort in [\"Arrr!\"):\n",
    "    print('Ich grüße Sie!')\n",
    "elif\n",
    "print(\"Zugang verweigert.\")\n",
    "```\n"
   ]
  },
  {
   "cell_type": "code",
   "execution_count": null,
   "id": "101495d0-602d-4b00-a2d3-f9faab0e2f5f",
   "metadata": {},
   "outputs": [],
   "source": []
  },
  {
   "cell_type": "markdown",
   "id": "4ddc115d-7f86-4675-b16a-7c350415208a",
   "metadata": {},
   "source": [
    "#### Aufgabe 10.3\n",
    "\n",
    "Ein Zeitreisender kommt auf Sie zu. Fragen Sie ihn nach dem Jahr, aus dem er kommt und begrüßen Sie ihn. Falls er aus einem Jahr vor 1900 kommt mit \"Sie kommen ja aus der Vergangenheit!\", zwischen 1900 und 2021 mit \"Sie stammen also aus unserer Zeit!\" und ansonsten mit \"Können Sie mir die Lottozahlen von nächster Woche verraten?\". Schreiben Sie als erstes Ihr eigenes Programm in der nächsten Code-Zelle:"
   ]
  },
  {
   "cell_type": "code",
   "execution_count": null,
   "id": "4b7881a2-ae25-4eb0-9bf4-6b3b0f5f7107",
   "metadata": {},
   "outputs": [],
   "source": []
  },
  {
   "cell_type": "markdown",
   "id": "e3970039-cd6d-4d09-bd15-0cd26616b99b",
   "metadata": {},
   "source": [
    " Vergleichen Sie anschließend Ihr Programm mit dem folgenden Code und korrigieren Sie die Fehler.\n",
    " \n",
    " ```python\n",
    "jahr == int.input(\"Ein Zeitreisender??? Aus welchem Jahr kommen Sie denn? '))\n",
    "\n",
    "if jahr <= 1900\n",
    "    print ('Sie kommen ja aus der Vergangenheit!')\n",
    "elif jahr > 1900 && year < 2020:\n",
    "    print (\"Sie stammen also aus unserer Zeit!\")\n",
    "elif:\n",
    "    print (\"Können Sie mir die Lottozahlen von nächster Woche verraten?'')\n",
    "```"
   ]
  },
  {
   "cell_type": "code",
   "execution_count": null,
   "id": "b4d28840-bcf8-4681-a6fb-f2c9b6132787",
   "metadata": {},
   "outputs": [],
   "source": []
  },
  {
   "cell_type": "markdown",
   "id": "78123940-dae1-49c7-a89b-2cab9d347e2f",
   "metadata": {},
   "source": [
    "#### Aufgabe 10.4\n",
    "\n",
    "Die folgende Klasse initalisiert ein Objekt mit Vorname, Nachname und definierte eine Methode vorstellen. Anschließend wird die Klasse benutzt. Korrigieren Sie die Fehler. \n",
    "\n",
    "```python\n",
    "classy Person:\n",
    "  def __initalize__(self, vorname, nachname):\n",
    "    self.first = vorname\n",
    "    self.last = nach_name\n",
    "  def vorstellen(self):\n",
    "  print(\"Guten Tag. Mein Name ist + \" self.vorname + \" \" + self.last)\n",
    "\n",
    "erste_person = Person(\"Homer\", \"Simpson\")\n",
    "2te_person = Person(\"Marge\", \"Simpson\")\n",
    "\n",
    "erste_person.vorstellen()\n",
    "2te_person.self.vorstellen\n",
    "```"
   ]
  },
  {
   "cell_type": "code",
   "execution_count": null,
   "id": "733c7b69-77da-4ab0-b170-173e93b64f7a",
   "metadata": {},
   "outputs": [],
   "source": []
  },
  {
   "cell_type": "markdown",
   "id": "d79cafc8-4fc3-49ba-ae8a-8addc7affe6b",
   "metadata": {},
   "source": [
    "## 10.2 Integrierte Entwicklungsumgebungen\n",
    "\n",
    "Integrierte Entwicklungsumgebungen (=IDE = integrated development environment) unterstützen die Softwareentwicklung. Für MATLAB gibt es nur eine integrierte Entwicklungsumgebung, nämlich MATLAB selbst. Für Python gibt es zahlreiche IDEs. Dabei ist der Funktionsumfang meist vergleichbar, so dass man nach persönlichen Vorlieben entscheiden kann.\n",
    "\n",
    "* Jupyter Notebooks oder Jupyter Labs sind nicht im eigentlichen Sinne IDEs, die Grenze zu ziehen ist aber schwierig.\n",
    "* Für Python ist pyCharm von der Firma JetBrains sehr beliebt, siehe https://www.jetbrains.com/pycharm/ . Diese IDE gibt es als kostenlose Version mit eingeschränkter Funktionalität oder als kostenpflichtige Professional-Variante. Studierende können sich bei JetBrains mit ihrer studentischen E-Mail-Adresse registrieren und können sich dann kostenlos die Pro-Version herunterladen. U.a. bietet die Pro-Version auch die Unterstützung von Jupyter Notebooks. \n",
    "* Microsoft entwickelt seit 2015 den sogenannten Visual Code Editor, eine IDE für alle möglichen Programmiersprachen, siehe https://code.visualstudio.com.\n",
    "* Spyder ist eine IDE, die für die wissenschaftliche Programmierung sehr gerne genutzt wird.\n"
   ]
  },
  {
   "cell_type": "markdown",
   "id": "91ef2a58-f365-4264-9899-1cefd7b23a43",
   "metadata": {},
   "source": [
    "## 10.3 Testen und Kommentare\n",
    "\n",
    "Jedes Programm sollte umfangreich getestet werden, bevor es zum Einsatz kommt. Dabei fällt es den Software-Entwicklerteams oft schwer, die eigene Sofwtare zu testen, denn man hat die eigenen Vorstellungen im Kopf, die ja auch so im Programm umgesetzt wurden. In Software-Firmen gibt es daher oft eigene Teams, die das Testen von Software übernehmen.\n",
    "\n",
    "Leider gibt es auch tragische Softwarefehler. Auf der Wikipedia-Seite [Liste von Programmfehlerbeispielen](https://de.wikipedia.org/wiki/Liste_von_Programmfehlerbeispielen) finden Sie einige der bekanntesten Softwarefehlern. Zum Beispiel ist dies der 1. Eintrag: \"Beim Kampfflugzeug F-16 brachte der Autopilot das Flugzeug in Rückenlage, wenn der Äquator überflogen wurde. Dies kam daher, dass man keine „negativen“ Breitengrade als Eingabedaten bedacht hatte. Dieser Fehler wurde sehr spät während der Entwicklung der F-16 mithilfe eines Simulators entdeckt und beseitigt.\"\n",
    "\n",
    "Die folgenden Regeln sind daher bei der Programmierung hilfreich:\n",
    "\n",
    "1. Überlegen Sie sich Testfälle für Ihr Programm, bevor Sie es schreiben.\n",
    "2. Fügen Sie nur nach und nach kleine Häppchen zu Ihrem Programm hinzu und testen Sie sofort, ob der neue Code-Abschnitt das Gewünschte erledigt.\n",
    "3. Fügen Sie Kommentare mit # ein, um zu anderen Entwicklern zu erklären, was ein bestimmter Code-Abschnitt tut und was mögliche Ergebnisse sein könnten.\n"
   ]
  },
  {
   "cell_type": "markdown",
   "id": "9c11db01-f25a-44bc-908b-19ba9160de38",
   "metadata": {},
   "source": [
    "#### Aufgabe 10.5 \n",
    "\n",
    "Wir hatten bereits die Aufgabe mit dem Einmaleins-Trainer. Jetzt greifen wir die Aufgabe auf, testen Abschnitte und benutzen Kommentare. Also...\n",
    "\n",
    "Sie möchten ein Programm schreiben, mit dem ein Benutzer das Einmaleins üben kann. Zu Anfang darf der Benutzer wählen, wie viele Aufgaben gestellt werden. Der Computer zieht Zufallszahlen zwischen 1 und 10 und stellt die Einmaleins-Aufgaben, z.B. die Frage: \"Was ist 4x7?\". Der Benutezr gibt die Antwort ein. Wenn die Antwort richtig ist, gibt der Computer \"Richtig!\" aus. Ansonsten gibt der Computer den Hinweis: \"Leider falsch, die richtige Antwort wäre xx gewesen.\" Am Ende gibt der Computer aus, wie viele Aufgaben richtig gelöst wurden und wieviel Prozent das sind.\n",
    "\n",
    "Schreiben Sie jetzt eine Funktion, bei der der Benutzer gefragt wird, wie viele Aufgaben gestellt werden sollen und die die Anzahl der Aufgaben zurückgibt. Was kann dabei alles schiefgehen? Tipp: suchen Sie im Internet nach der String-Methode isdigit(). Wie können Sie als Programmiererin sicherstellen, dass die Eingabe des Benutzers gültig ist? Testen Sie Ihre Funktion."
   ]
  },
  {
   "cell_type": "code",
   "execution_count": null,
   "id": "7054dc63-4ca4-4227-a7de-3660f21165d9",
   "metadata": {},
   "outputs": [],
   "source": [
    "# Funktion\n"
   ]
  },
  {
   "cell_type": "code",
   "execution_count": null,
   "id": "11baaecf-c033-4119-8209-79d168fbd725",
   "metadata": {},
   "outputs": [],
   "source": [
    "# Test\n"
   ]
  },
  {
   "cell_type": "markdown",
   "id": "37dfac11-2867-4313-a40e-8f0344e3a970",
   "metadata": {},
   "source": [
    "Schreiben Sie als nächstes eine Funktion, die eine Einmaleins-Aufgabe stellt (kein Rückgabewert). Testen Sie die Funktion."
   ]
  },
  {
   "cell_type": "code",
   "execution_count": null,
   "id": "33a37106-03ed-494d-a01a-2c78625018ee",
   "metadata": {},
   "outputs": [],
   "source": [
    "# Funktion stelle_einmaleins_aufgaben()\n"
   ]
  },
  {
   "cell_type": "code",
   "execution_count": null,
   "id": "4fcdedc2-6148-4b10-81cd-e89f854f7566",
   "metadata": {},
   "outputs": [],
   "source": [
    "# Test\n"
   ]
  },
  {
   "cell_type": "markdown",
   "id": "8267f159-7e5e-4c61-9988-543d400ff348",
   "metadata": {},
   "source": [
    "Erweitern Sie nun die Funktion, die Einmaleins-Aufgaben stellt um ein Argument, wie viele Aufgaben gestellt werden sollen. Testen Sie die Funktion. "
   ]
  },
  {
   "cell_type": "code",
   "execution_count": null,
   "id": "ea0595ec-1a96-4a30-bd5d-3aa629fcaca6",
   "metadata": {},
   "outputs": [],
   "source": [
    "# erweiterte Funktion stelle_einmaleins_aufgaben(anzahl)\n",
    "\n"
   ]
  },
  {
   "cell_type": "code",
   "execution_count": null,
   "id": "27796aff-d1f1-482a-bec0-8b622596c1fe",
   "metadata": {},
   "outputs": [],
   "source": [
    "# Test\n"
   ]
  },
  {
   "cell_type": "markdown",
   "id": "40fa273b-27fb-4a5b-a798-394cc93f2e92",
   "metadata": {},
   "source": [
    "Erweitern Sie nun die Funktion, die Einmaleins-Aufgaben stellt um eine Prüfung des richtigen Ergebnisses. Testen Sie die Funktion, indem Sie einmal ein falsches Ergebnis und einmal ein richtiges Ergebnis eingeben."
   ]
  },
  {
   "cell_type": "code",
   "execution_count": null,
   "id": "ac272475-613b-4116-bba3-83b5004d977d",
   "metadata": {},
   "outputs": [],
   "source": [
    "# erweiterte Funktion stelle_einmaleins_aufgaben(anzahl) und Prüfung\n",
    "\n"
   ]
  },
  {
   "cell_type": "code",
   "execution_count": null,
   "id": "4d2bf5d4-b8d0-475d-ba15-3ca53c24e428",
   "metadata": {},
   "outputs": [],
   "source": [
    "# Test\n"
   ]
  },
  {
   "cell_type": "markdown",
   "id": "e6cc4124-48fc-4a93-b119-484b2ea5fe47",
   "metadata": {},
   "source": [
    "Erweitern sie nun erneut die Funktion, die Einmaleins-Aufgaben stellt. Nun soll die Funktion noch einen Rückgabewert liefern, nämlich die Anzahl der richtig gelösten Aufgaben. Bauen Sie print-Anweisungen ein, um zu testen, ob die Anzahl der richtig gelösten Aufgaben korrekt mitgezählt wird. Im fertigen Programm werden diese print-Anweisungen wieder entfernt. Testen Sie die Funktion, auch den Rückgabewert."
   ]
  },
  {
   "cell_type": "code",
   "execution_count": null,
   "id": "4a41ead1-bcf7-4e42-8831-be46bc7d30a8",
   "metadata": {},
   "outputs": [],
   "source": [
    "# erweiterte Funktion anzahl_richtige_aufgaben = stelle_einmaleins_aufgaben(anzahl) \n",
    "\n"
   ]
  },
  {
   "cell_type": "code",
   "execution_count": null,
   "id": "c5b3f7ce-54cf-4189-95d9-09edf526d613",
   "metadata": {},
   "outputs": [],
   "source": [
    "# Test \n",
    "\n"
   ]
  },
  {
   "cell_type": "markdown",
   "id": "5f5693a8-8150-4803-9492-caee62972f42",
   "metadata": {},
   "source": [
    "Zuletzt schreiben Sie ein Programm, das aus den beiden Funktionen einen Einmaleins-Trainer zusammensetzt, und zusätzlich in Prozent ausgibt, wie viele Aufgaben richtig gelöst wurden."
   ]
  },
  {
   "cell_type": "markdown",
   "id": "e4d1abb3-ce17-4942-88ef-1c50bd0f315d",
   "metadata": {},
   "source": [
    "#### Aufgabe 10.6\n",
    "\n",
    "Was könnte folgender Code für einen Zweck haben?\n",
    "\n",
    "```python\n",
    "siege_computer = 0\n",
    "if wahl_computer == 'Stein':\n",
    "    if wahl_benutzer == 'Stein':\n",
    "        print('Unentschieden, ich hatte ebenfalls Stein.')\n",
    "    elif wahl_benutzer == 'Schere':\n",
    "        print('Punkt für mich, Stein schleift Schere.')\n",
    "        siege_computer += 1\n",
    "    else # wahl_benutzer == 'Papier'\n",
    "        print('Punkt für Sie, Papier umwickelt Stein.')\n",
    "        siege_benutzer +=1\n",
    "```\n",
    "\n",
    "Korrigieren sie die 4 Fehler. "
   ]
  },
  {
   "cell_type": "code",
   "execution_count": null,
   "id": "8939a4aa-4919-43ef-a81c-3ca6f79fc0ca",
   "metadata": {},
   "outputs": [],
   "source": []
  }
 ],
 "metadata": {
  "kernelspec": {
   "display_name": "Python 3",
   "language": "python",
   "name": "python3"
  },
  "language_info": {
   "codemirror_mode": {
    "name": "ipython",
    "version": 3
   },
   "file_extension": ".py",
   "mimetype": "text/x-python",
   "name": "python",
   "nbconvert_exporter": "python",
   "pygments_lexer": "ipython3",
   "version": "3.8.3"
  }
 },
 "nbformat": 4,
 "nbformat_minor": 5
}
