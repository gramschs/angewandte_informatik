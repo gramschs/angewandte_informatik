{
 "cells": [
  {
   "cell_type": "markdown",
   "id": "8eb0c145-308a-42f7-9e16-c9f7b1f736bb",
   "metadata": {},
   "source": [
    "# 5 Schleifen zum Zählen (\"for\") und Funktionen \n",
    "\n",
    "Nachdem wir im letzten Kapitel die Schleife mit Bedingung (\"while\") kennengelernt haben, widmen wir uns in diesem Kapitel dem Thema Zählschleifen (\"for\"). Darüber hinaus steigen wir mit dem Thema Funktionen ein, das uns noch den Rest der Vorlesung begleiten wird.\n",
    "\n",
    "* Kapitel 5.1 - Schleifen zum Zählen (\"for\")\n",
    "* Kapitel 5.2 - Funktionen \n",
    "\n",
    "#### Aufgabe 5.1\n",
    "\n",
    "Bitte lesen Sie - je nach Programmiersprache - folgende Kapitel:\n",
    "\n",
    "* Programmieren mit MATLAB von Ulrich Stein: \n",
    "    * Kapitel 2.5.2 Zählschleifen\n",
    "* Python 3 von Heiko Kalista: \n",
    "    * Kapitel 3.8 for-Schleifen"
   ]
  },
  {
   "cell_type": "markdown",
   "id": "1b613690-c23c-4751-bbea-219e8faa6d8e",
   "metadata": {},
   "source": [
    "## 5.1 Zählschleifen (\"for\")\n",
    "\n",
    "Bei einer While-Schleife wird ein Anweisungsblock solange wiederholt, bis die dazugehörige Bedingung nicht mehr erfüllt ist. Manchmal möchte man jedoch die Anweisungen auf alle Elemente einer Menge anwenden. Dazu gibt es die For-Schleife. Sie hat folgende Syntax:\n",
    "\n",
    "```python\n",
    "for element in Menge:\n",
    "    anweisungsblock\n",
    "```\n",
    "\n",
    "Wie die Menge genau spezifiert wird, lernen wir später, wenn wir zu komplexeren Datentypen kommen. Vorerst betrachten wir zwei Fälle:\n",
    "\n",
    "1. Die Menge wird in Form einer Liste aufgezählt, beispielsweise als `[4,5,7,11,21]`.\n",
    "2. Die Menge wird als Zahlenbereich beschrieben, beispielsweise als `range(3,9)`. \n",
    "\n",
    "Schauen wir uns ein erstes Beispiel an. Jedes Element der Liste `[4,5,7,11,21]` soll um 2 erhöht werden.\n",
    "\n",
    "```python\n",
    "for zahl in [4,5,7,11,21]:\n",
    "    summe = zahl + 2\n",
    "    print(\"Wenn ich zu\", zahl, \"zwei addiere, erhalte ich\", summe)\n",
    "print(\"Ich bin fertig!\")\n",
    "```\n",
    "\n"
   ]
  },
  {
   "cell_type": "code",
   "execution_count": null,
   "id": "e2369502-1b60-4447-9140-6445b1bb8b69",
   "metadata": {},
   "outputs": [],
   "source": [
    "for zahl in [4,5,7,11,21]:\n",
    "    summe = zahl + 2\n",
    "    print(\"Wenn ich zu\", zahl, \"zwei addiere, erhalte ich\", summe)\n",
    "print(\"Ich bin fertig!\")"
   ]
  },
  {
   "cell_type": "markdown",
   "id": "476ba5e9-41c5-45a4-ad9f-7dbe64f097c2",
   "metadata": {},
   "source": [
    "Es kommt sehr häufig vor, dass über Listen mit Zahlen iteriert werden soll. Dafür stellt Python 3 die Funktion `range()`zur Verfügung. "
   ]
  },
  {
   "cell_type": "code",
   "execution_count": null,
   "id": "0dfc9573-bb8c-478e-b372-116e55cf91d4",
   "metadata": {},
   "outputs": [],
   "source": [
    "for zahl in range(100):\n",
    "    print(zahl)\n",
    "print('Fertig!')"
   ]
  },
  {
   "cell_type": "markdown",
   "id": "31febc0c-e585-4c12-95ca-73be1b5e9041",
   "metadata": {},
   "source": [
    "Wird `range(endzahl)` mit nur einem Parameter aufgerufen, dann beginnt der Python-Interpreter stets von `0` an zu zählen. Dabei ist die `endzahl` nicht inkludiert, d.h. der Python-Interpreter stoppt bei `endzahl - 1`. Es ist auch möglich, eine Startzahl vorzugeben, also:\n",
    "\n",
    "```python\n",
    "range(startzahl, endzahl)\n",
    "```"
   ]
  },
  {
   "cell_type": "code",
   "execution_count": null,
   "id": "0db078c8-73fa-40b3-88e3-d28e034b6e7e",
   "metadata": {},
   "outputs": [],
   "source": [
    "for zahl in range(4,13):\n",
    "    print(zahl)\n",
    "print('Fertig!')"
   ]
  },
  {
   "cell_type": "markdown",
   "id": "47a12ff0-41ad-427d-ac97-924d038d7caa",
   "metadata": {},
   "source": [
    "Zusätzlich kann der Zahlenbereich noch durch die Angabe einer Schrittweite spezifiziert werden. Dadurch ist es beispielsweise möglich, nur ungerade Zahlen zu generieren:"
   ]
  },
  {
   "cell_type": "code",
   "execution_count": null,
   "id": "ca1761bf-7da6-4c4b-b62e-808202d3e153",
   "metadata": {},
   "outputs": [],
   "source": [
    "for zahl in range(3, 13, 2):\n",
    "    print(zahl)\n",
    "print('Fertig!')"
   ]
  },
  {
   "cell_type": "markdown",
   "id": "57211474-e1c2-43f8-9dfb-3cc614721239",
   "metadata": {},
   "source": [
    "Durch Angabe einer negativen Schrittweite kann auch rückwärts gezählt werden:"
   ]
  },
  {
   "cell_type": "code",
   "execution_count": null,
   "id": "73ace268-2d37-48f3-a707-78c5c8f89371",
   "metadata": {},
   "outputs": [],
   "source": [
    "for zahl in range(13, 3, -2):\n",
    "    print(zahl)\n",
    "print('Fertig!')"
   ]
  },
  {
   "cell_type": "markdown",
   "id": "37dd6645-f26e-4f70-82ae-9c60d82ccc03",
   "metadata": {},
   "source": [
    "For-Schleifen können auch ineinander verschachtelt werden. Das ist z.B. hilfreich, wenn man alle Paare durch Kombination bilden will."
   ]
  },
  {
   "cell_type": "code",
   "execution_count": null,
   "id": "025af6d6-7050-4b75-9d0c-d1e57263eb50",
   "metadata": {},
   "outputs": [],
   "source": [
    "for i in ['rot', 'grün', 'blau']:\n",
    "    for j in [1, 2, 5, 17]:\n",
    "        print('Kombination Farbe mit Zahl: ', i, j)"
   ]
  },
  {
   "cell_type": "markdown",
   "id": "da73edc8-647a-4769-8266-1ec980986286",
   "metadata": {},
   "source": [
    "Natürlich kann eine For- auch mit einer if-else-Konstruktion kombiniert werden. Was vermuten Sie, macht folgender Code-Schnipsel:"
   ]
  },
  {
   "cell_type": "code",
   "execution_count": null,
   "id": "ce2e93ba-9131-45ef-9b5a-6730bf0b0ecb",
   "metadata": {},
   "outputs": [],
   "source": [
    "for i in ['rot', 'grün', 'blau']:\n",
    "    for j in [1,2,3]:\n",
    "        if i == 'grün':\n",
    "            print('Kombination der Farbe GRÜN mit Zahl: ', j)\n",
    "        else:\n",
    "            print('Kombination Farbe mit Zahl: ', i, j)"
   ]
  },
  {
   "cell_type": "markdown",
   "id": "33dd349f-3552-4a03-933b-3742f67bea64",
   "metadata": {},
   "source": [
    "#### Aufgabe 5.2 Video zu for Schleife als Zählerschleife verwenden\n",
    "\n",
    "Schauen Sie sich auf YouTube das Video \"Python Tutorial deutsch [17/24]\" an, siehe https://www.youtube.com/watch?v=pQh5Idw2sKM&list=PL_pqkvxZ6ho3u8PJAsUU-rOAQ74D0TqZB&index=17. Stoppen Sie regelmäßig und probieren Sie die dort gezeigten Beispiele in der folgenden Code-Zelle aus: \n",
    "\n"
   ]
  },
  {
   "cell_type": "code",
   "execution_count": null,
   "id": "36957a65-9a0d-49a5-8417-ddb4b1aaaa98",
   "metadata": {},
   "outputs": [],
   "source": []
  },
  {
   "cell_type": "markdown",
   "id": "a3175597-a940-44af-b897-f9297a040fab",
   "metadata": {},
   "source": [
    "#### Aufgabe 5.3\n",
    "\n",
    "Schreiben Sie ein Programm, das die Zahlen von 1 bis 10 mittels einer for-Schleife ausgibt.\n",
    "\n"
   ]
  },
  {
   "cell_type": "code",
   "execution_count": null,
   "id": "18116259-ef43-4d70-b911-53022752391f",
   "metadata": {},
   "outputs": [],
   "source": []
  },
  {
   "cell_type": "markdown",
   "id": "3aaa7a4b-ddbb-49c9-a299-f2741275f159",
   "metadata": {},
   "source": [
    "#### Aufgabe 5.4\n",
    "\n",
    "Schreiben Sie ein Programm, das eine minimale Zahl $a$ und eine maximale Zahl $b$ abfragt. Dann berechnet das Programm die Quadratzahlen von $a^2$ bis $b^2$ und gibt diese aus. Ein Beispiel könnte so aussehen: Der Benutzer gibt `a = 4` und `b = 8` ein. Das Programm gibt daraufhin `16, 25, 36, 49, 64` aus. Bitte verwenden Sie eine for-Schleife.\n",
    "\n"
   ]
  },
  {
   "cell_type": "code",
   "execution_count": null,
   "id": "08eaa8cb-0358-4191-b4b7-e27a940ea532",
   "metadata": {},
   "outputs": [],
   "source": []
  },
  {
   "cell_type": "markdown",
   "id": "55258f4c-d0c3-4b93-935b-8e2260cd8a3c",
   "metadata": {},
   "source": [
    "#### Aufgabe 5.6\n",
    "\n",
    "In der Mathematik gibt es die Schreibweise\n",
    "\n",
    "$$n! := n⋅(n−1)⋅(n−2) \\ldots 3⋅2⋅1$$\n",
    "\n",
    "So wird zum Beispiel $5!$ durch $5⋅4⋅3⋅2⋅1=120$ berechnet. Dies wird in der Mathematik als Fakultät von 5 bezeichnet.\n",
    "\n",
    "Schreiben Sie ein Programm, welches $n!$ für ein vom Benutzer vorgegebenes $n$ berechnet. Benutzen Sie dafür eine or-Schleife.\n",
    "\n",
    "\n"
   ]
  },
  {
   "cell_type": "code",
   "execution_count": null,
   "id": "48980761-908c-4db8-b7bb-b46e18752d20",
   "metadata": {},
   "outputs": [],
   "source": []
  },
  {
   "cell_type": "markdown",
   "id": "19f2b41d-9510-40d2-97ea-7a568ab7b9e7",
   "metadata": {},
   "source": [
    "#### Aufgabe 5.7\n",
    "\n",
    "Schreiben Sie ein Programm, das eine Einmaleins-Tabelle bis zu 10x10 ausgibt. Also\n",
    "\n",
    "1 x 1 = 1\n",
    "\n",
    "2 x 1 = 2\n",
    "\n",
    "3 x 1 = 3\n",
    "\n",
    "usw.\n",
    "\n"
   ]
  },
  {
   "cell_type": "code",
   "execution_count": null,
   "id": "bfabef76-b7f8-417f-b093-5fc40a06e909",
   "metadata": {},
   "outputs": [],
   "source": []
  },
  {
   "cell_type": "markdown",
   "id": "43fc53f0-1a3f-4136-8373-2c447df34fe3",
   "metadata": {},
   "source": [
    "#### Aufgabe 5.8\n",
    "\n",
    "Erweitern Sie das Programm aus Aufgabe 5.7 mit der Einmaleins-Tabelle so, dass sich ein Benutzer aussuchen darf, welche Spalte ausgegeben wird. Wenn der Benutzer sich für die `6` entscheidet, wird 1 x 6 = 6, 2 x 6 = 12, 3 x 6 = 18, usw. bis 10 x 6 = 60 ausgegeben."
   ]
  },
  {
   "cell_type": "code",
   "execution_count": null,
   "id": "42e99074-a8e2-4101-94db-3e59f82dd3b5",
   "metadata": {},
   "outputs": [],
   "source": []
  },
  {
   "cell_type": "markdown",
   "id": "40588513-6065-4697-8214-f342b28e4800",
   "metadata": {},
   "source": [
    "## 5.2 Funktionen\n",
    "\n",
    "Eine Funktion ist eine Zusammenfassung von Code, der eine bestimmte Teilaufgabe löst. Dabei arbeitet die Funktion nach dem EVA-Prinzip. Die Funktion übernimmt Objekte als Eingabe, verarbeitet diese und liefert Objekte als Ergebnis zurück. Wie die Funktion dabei im Inneren genau funktioniert (Verarbeitung), ist unwichtig.\n",
    "\n",
    "Beispielsweise gibt es im Modul `math` die Funktion `sqrt()`. Wir wissen, dass wir der Funktion eine Zahl übergeben müssen (Eingabe), z.B. `sqrt(5)`. Die Funktion liefert dann als Ergebnis $\\sqrt{5}$ zurück. Welches Verfahren zur Berechnung der Wurzel verwendet wurde, wissen wir nicht. \n",
    "\n",
    "Insbesondere muss die Teilaufgabe, die die Funktion löst, nichts mit Mathematik zu tun haben. Eine Funktion in der Informatik hat nichts mit einer mathematischen Funktion zu tun, auch wenn oft mathematische Funktionen als Beispiel verwendet werden. Ein Beispiel für eine nicht-mathematische Funktion haben Sie mit `print()` bereits kennengelernt."
   ]
  },
  {
   "cell_type": "markdown",
   "id": "d819310c-2845-4e66-8ee8-2034f9b1f681",
   "metadata": {},
   "source": [
    "### 5.2.1 Die Benutzung von Funktionen (oder der Aufruf von Funktionen)\n",
    "\n",
    "Der Aufruf einer Funktion hat folgende Syntax:\n",
    "\n",
    "```code\n",
    "funktion( argument1, argument2, ...)\n",
    "```\n",
    "\n",
    "Eine Funktion wird benutzt, indem man den Namen der Funktion hinschreibt und dann in runden Klammern ihre Parameter, die sogenannten Argumente der Funktion. Welche Argumente für eine Funktion verwendet werden dürfen, hängt von der Implementierung der Funktion ab.\n",
    "\n",
    "Beispielsweise kann als Argument für die `len()`-Funktion ein String übergeben werden oder eine Liste. Stellen Sie eine Vermutung auf: was bewirkt die `len()`-Funktin?"
   ]
  },
  {
   "cell_type": "code",
   "execution_count": null,
   "id": "30ad2fba-f78b-4d4e-8d00-afe60d9f9e2c",
   "metadata": {},
   "outputs": [],
   "source": [
    "len('Hallo')"
   ]
  },
  {
   "cell_type": "code",
   "execution_count": null,
   "id": "a4eed261-fadf-4b2a-a36d-28c2628a94ab",
   "metadata": {},
   "outputs": [],
   "source": [
    "len([1,2,3,4,8,2])"
   ]
  },
  {
   "cell_type": "markdown",
   "id": "90893859-b5d3-4fb9-ba76-04b68699c117",
   "metadata": {},
   "source": [
    "In der Regel geben Funktionen wieder Ergebnisse zurück. Diese können einer Variable zugewiesen werden, um mit dem Ergebnis weiter zu arbeiten."
   ]
  },
  {
   "cell_type": "code",
   "execution_count": null,
   "id": "de343888-bf29-4f96-8afb-43351aa2c3da",
   "metadata": {},
   "outputs": [],
   "source": [
    "laenge1 = len('Hallo')\n",
    "laenge2 = len(['Apfel', 'Banane', 'Erdbeere'])\n",
    "\n",
    "if laenge1 < laenge2:\n",
    "    print('Das Wort Hallo enthält weniger Buchstaben als Früchte im Obstsalat.')\n",
    "else:\n",
    "    print('Das Wort Hallo enthält mehr Buchstaben als Einträge in der Liste.')"
   ]
  },
  {
   "cell_type": "markdown",
   "id": "d782fe6d-5f4d-44cc-a60d-e4d2f186e464",
   "metadata": {},
   "source": [
    "### 5.2.2 Definition von einfachen Funktionen\n",
    "\n",
    "Die allgemeine Syntax zur Definition einer eigenen Funktion sieht wie folgt aus:\n",
    "\n",
    "```python\n",
    "def meine_funktion():\n",
    "    \"\"\"Optionaler Docstring zur Erklärung.\"\"\"\n",
    "\n",
    "    # Implementierung der Funktion\n",
    "    anweisung01\n",
    "    anweisung02\n",
    "     ...\n",
    "\n",
    "```\n",
    "\n",
    "Erstes Beispiel:\n",
    "\n",
    "Die folgende Funktion hat keine Eingabewert (Argumente, Input) und keine Rückgabe (Ausgabe, Return-Value).\n",
    "\n"
   ]
  },
  {
   "cell_type": "code",
   "execution_count": null,
   "id": "f7185522-e3cb-491b-bd04-3e973e520a31",
   "metadata": {},
   "outputs": [],
   "source": [
    "def gruesse_ausrichten():\n",
    "    print('Ich grüße Sie!')"
   ]
  },
  {
   "cell_type": "markdown",
   "id": "9c5cc58f-bcf0-48d4-8ed1-1a1423ce780b",
   "metadata": {},
   "source": [
    "Nachdem die Funktion `gruesse_ausrichten()`so implementiert wurde, können wir sie im Folgenden direkt verwenden."
   ]
  },
  {
   "cell_type": "code",
   "execution_count": null,
   "id": "8526c7b0-aa96-4e48-abd4-9c23a9802626",
   "metadata": {},
   "outputs": [],
   "source": [
    "gruesse_ausrichten()"
   ]
  },
  {
   "cell_type": "markdown",
   "id": "e08fa9ec-6914-4d55-8b64-b6ba63f6cd0a",
   "metadata": {},
   "source": [
    "Und natürlich kann man sie in Programmverzweigungen und Schleifen einbauen."
   ]
  },
  {
   "cell_type": "code",
   "execution_count": null,
   "id": "21d15623-f543-4076-87ea-980bb96e5be5",
   "metadata": {},
   "outputs": [],
   "source": [
    "for i in range(5):\n",
    "    gruesse_ausrichten()"
   ]
  },
  {
   "cell_type": "code",
   "execution_count": null,
   "id": "8ed50e23-d021-492d-869b-47a5d87d95f6",
   "metadata": {},
   "outputs": [],
   "source": [
    "soll_gegruesst_werden = input('Soll gegrüßt werden (j/n)? ')\n",
    "\n",
    "if soll_gegruesst_werden == 'j':\n",
    "    gruesse_ausrichten()\n",
    "else:\n",
    "    print('Auf Wiedersehen!')"
   ]
  },
  {
   "cell_type": "markdown",
   "id": "832fee5a-9a34-45c6-aab4-11f9633fb7fd",
   "metadata": {},
   "source": [
    "#### Aufgabe 5.8 Video zu Funktionen\n",
    "\n",
    "Schauen Sie sich auf YouTube das Video \"Python Tutorial deutsch [18/24]\" an (ca. 7:36 min), siehe https://www.youtube.com/watch?v=LQCfN5HS9xI&list=PL_pqkvxZ6ho3u8PJAsUU-rOAQ74D0TqZB&index=18. Stoppen Sie regelmäßig und probieren Sie die dort gezeigten Beispiele in der folgenden Code-Zelle aus: \n",
    "\n",
    "\n",
    "\n",
    "\n"
   ]
  },
  {
   "cell_type": "code",
   "execution_count": null,
   "id": "37e4328e-7d9f-4263-9a29-034bb476313d",
   "metadata": {},
   "outputs": [],
   "source": []
  },
  {
   "cell_type": "markdown",
   "id": "4cabaa05-a433-4c73-92c4-fa5a8fb5b4e8",
   "metadata": {},
   "source": [
    "### 5.2.3 Definition von Funktionen mit Parametern\n",
    "\n",
    "Meistens haben Funktionen Argumente, um Eingaben/Input entgegennehmen und verarbeiten zu können. Das Argument wird bei der Implementierung der Funktion mit einem Platzhalter/Variable eingeführt. \n",
    "\n",
    "Die allgemeine Syntax zur Definition einer eigenen Funktion mit Parametern sieht wie folgt aus:\n",
    "\n",
    "```python\n",
    "def meine_funktion(arg1, arg2, ..., argn):\n",
    "    \"\"\"Optionaler Docstring zur Erklärung.\"\"\"\n",
    "\n",
    "    # Implementierung der Funktion\n",
    "    anweisung01\n",
    "    anweisung02\n",
    "     ...\n",
    "\n",
    "```\n",
    "\n"
   ]
  },
  {
   "cell_type": "code",
   "execution_count": null,
   "id": "9f2d2105-2ce1-43b5-953f-0e87515f1357",
   "metadata": {},
   "outputs": [],
   "source": [
    "def gruesse_ausrichten_mit_parameter(name):\n",
    "    print('Ich grüße', name)"
   ]
  },
  {
   "cell_type": "markdown",
   "id": "1b7ef9f4-07d0-46d3-9870-fcd76b471d6f",
   "metadata": {},
   "source": [
    "Der Aufruf einer Funktion ohne passende Argumente führt zu einer Fehlermeldung."
   ]
  },
  {
   "cell_type": "code",
   "execution_count": null,
   "id": "c0197874-3323-499c-97b9-65d76e1504ad",
   "metadata": {},
   "outputs": [],
   "source": [
    "gruesse_ausrichten_mit_parameter()"
   ]
  },
  {
   "cell_type": "markdown",
   "id": "060006c5-69b6-4efb-8c60-26e3cb111d04",
   "metadata": {},
   "source": [
    "Daher müssen wir die modifizierte Funktion nun wie folgt aufrufen:"
   ]
  },
  {
   "cell_type": "code",
   "execution_count": null,
   "id": "1de1823a-88d3-41b4-ba05-473ea8788068",
   "metadata": {},
   "outputs": [],
   "source": [
    "gruesse_ausrichten_mit_parameter('Alice')"
   ]
  },
  {
   "cell_type": "markdown",
   "id": "258dd303-72ae-4979-9388-655154168d19",
   "metadata": {},
   "source": [
    "Die Funktion `gruesse_ausrichten_mit_parameter()` hat aber keinen Rückgabewert. Das können wir wie folgt testen:"
   ]
  },
  {
   "cell_type": "code",
   "execution_count": null,
   "id": "7c14a296-4dfc-4d2f-ad40-4a9ed10c2f7e",
   "metadata": {},
   "outputs": [],
   "source": [
    "x = gruesse_ausrichten_mit_eingabe('Alice')\n",
    "type(x)"
   ]
  },
  {
   "cell_type": "markdown",
   "id": "abe788e0-9bae-44b8-8f70-b5cb42e5e38d",
   "metadata": {},
   "source": [
    "`x` ist vom Typ `NoneType` oder anders ausgedrückt, es hat keinen Datentyp. \n",
    "\n",
    "Sind Funktionen ohne Rückgabewert sinnvoll?\n",
    "\n",
    "Ja, denn so können Codeblöcke vereinfacht werden. Sollte in einem Programm Code mehrmals ausgeführt werden, lohnt es sich, diesen in eine Funktion auszulagern, um diese einfach aufrufen zu können.\n",
    "\n",
    "\n"
   ]
  },
  {
   "cell_type": "markdown",
   "id": "68475fe2-75a3-447f-ac45-7412044d8c2f",
   "metadata": {},
   "source": [
    "#### Aufgabe 5.9 Video Funktionen mit Parametern\n",
    "\n",
    "Schauen Sie sich auf YouTube das Video \"Python Tutorial deutsch [19/24]\" an (ca. 9:06 min), siehe https://www.youtube.com/watch?v=af9ORp1Pty0&list=PL_pqkvxZ6ho3u8PJAsUU-rOAQ74D0TqZB&index=19. Stoppen Sie regelmäßig und probieren Sie die dort gezeigten Beispiele in der folgenden Code-Zelle aus: \n"
   ]
  },
  {
   "cell_type": "code",
   "execution_count": null,
   "id": "b4ae4123-7eec-4d02-8785-8857958ba853",
   "metadata": {},
   "outputs": [],
   "source": []
  },
  {
   "cell_type": "markdown",
   "id": "7f83295b-98c7-48c1-bb9c-d9a210edcd57",
   "metadata": {},
   "source": [
    "### 5.2.4 Funktionen mit Parametern und Rückgabewert\n",
    "\n",
    "In der Regel jedoch haben Funktionen einen Rückgabewert.\n",
    "\n",
    "Die allgemeine Syntax zur Definition einer eigenen Funktion mit Parametern und Rückgabewert sieht wie folgt aus:\n",
    "\n",
    "```python\n",
    "def meine_funktion(arg1, arg2, ..., argn):\n",
    "    \"\"\"Optionaler Docstring zur Erklärung.\"\"\"\n",
    "\n",
    "    # Implementierung der Funktion\n",
    "    anweisung01\n",
    "    anweisung02\n",
    "     ...\n",
    "\n",
    "    return ergebnis  # optional, die Funktion kann auch keine Rückgabe haben\n",
    "```\n",
    "\n",
    "Schauen wir uns ein Beispiel an:\n"
   ]
  },
  {
   "cell_type": "code",
   "execution_count": null,
   "id": "8967a35c-eee7-486f-96fc-9dfe3eabff67",
   "metadata": {},
   "outputs": [],
   "source": [
    "def berechne_quadrat(x):\n",
    "    return x*x"
   ]
  },
  {
   "cell_type": "code",
   "execution_count": null,
   "id": "c4166576-fa19-4189-a713-1e59dbfcdf9b",
   "metadata": {},
   "outputs": [],
   "source": [
    "for x in range(1,11):\n",
    "    y = berechne_quadrat(x) \n",
    "    ausgabe = '{} * {} = {}'.format(x, x, y)\n",
    "    print(ausgabe)"
   ]
  },
  {
   "cell_type": "markdown",
   "id": "0c0416c9-661d-4dff-b523-b4c39f0e1527",
   "metadata": {},
   "source": [
    "Funktionen können auch mehrere Argumente haben."
   ]
  },
  {
   "cell_type": "code",
   "execution_count": null,
   "id": "d56e17c8-2603-4a36-8ea3-ff676d43c33c",
   "metadata": {},
   "outputs": [],
   "source": [
    "def berechne_rechteck_flaeche(a,b):\n",
    "    flaeche = a*b\n",
    "    return flaeche"
   ]
  },
  {
   "cell_type": "code",
   "execution_count": null,
   "id": "37521ed7-4328-466f-8050-d63ff18c6867",
   "metadata": {},
   "outputs": [],
   "source": [
    "# main program\n",
    "\n",
    "# Eingabe\n",
    "a = int(input('Länge des Rechtecks: '))\n",
    "b = int(input('Breite des Rechtecks: '))\n",
    "\n",
    "# Verarbeitung\n",
    "flaeche = berechne_rechteck_flaeche(a,b)\n",
    "\n",
    "# Ausgabe\n",
    "print('berechnete Fläche: ', flaeche)\n",
    "\n"
   ]
  },
  {
   "cell_type": "markdown",
   "id": "a657663c-e123-4f14-9c78-7cc07894b769",
   "metadata": {},
   "source": [
    "#### Aufgabe 5.10 Video Funktionen Funktionen mit Rückgabewert\n",
    "\n",
    "Schauen Sie sich auf YouTube das Video \"Python Tutorial deutsch [20/24]\" an (ca. 12:02 min), siehe https://www.youtube.com/watch?v=ehSP-sYoKCY&list=PL_pqkvxZ6ho3u8PJAsUU-rOAQ74D0TqZB&index=20. Stoppen Sie regelmäßig und probieren Sie die dort gezeigten Beispiele in der folgenden Code-Zelle aus: \n",
    "\n"
   ]
  },
  {
   "cell_type": "code",
   "execution_count": null,
   "id": "376a9724-be74-4606-9a52-a7fd9a9b8fdd",
   "metadata": {},
   "outputs": [],
   "source": []
  },
  {
   "cell_type": "markdown",
   "id": "7a15f0a5-e347-47e4-81c8-bd918a537b7e",
   "metadata": {},
   "source": [
    "### 5.2.5 Funktionen mit mehreren Rückgabewerten\n",
    "\n",
    "```python\n",
    "def funktion(arg1, arg2, ...):\n",
    "    # Verarbeitung\n",
    "    anweisung01\n",
    "    anweisung02\n",
    "    ...\n",
    "    \n",
    "    return ergebnis1, ergebnis2\n",
    "```\n",
    "\n",
    "Es ist auch möglich, mehrere Ergebnisse gleichzeitig zurückzugegen. Diese werden einfach nach dem Schlüsselwort `return` mit Kommas getrennt gelistet. "
   ]
  },
  {
   "cell_type": "code",
   "execution_count": null,
   "id": "3051413c-1094-4af5-8861-afa4590761f6",
   "metadata": {},
   "outputs": [],
   "source": [
    "def potenzen_bis_vier(x):\n",
    "    x_hoch_2 = x**2\n",
    "    x_hoch_3 = x**3\n",
    "    x_hoch_4 = x**4\n",
    "    return x_hoch_2, x_hoch_3, x_hoch_4"
   ]
  },
  {
   "cell_type": "code",
   "execution_count": null,
   "id": "ade4f17f-0789-4425-834c-5cd08ae3e0bb",
   "metadata": {},
   "outputs": [],
   "source": [
    "for x in range(1,11):\n",
    "    print(potenzen_bis_vier(x))"
   ]
  },
  {
   "cell_type": "code",
   "execution_count": null,
   "id": "408099e4-7163-491d-9271-9999b48f522c",
   "metadata": {},
   "outputs": [],
   "source": [
    "for x in range(1,5):\n",
    "    potenz2, potenz3, potenz4 = potenzen_bis_vier(x)\n",
    "    print('Die 2. Potenz von {} ist {}, die dritte ist {} und die vierte ist {}.'.format(x, potenz2, potenz3, potenz4))"
   ]
  },
  {
   "cell_type": "markdown",
   "id": "486ddd90-e32c-4c4a-aff3-e1dab9541110",
   "metadata": {},
   "source": [
    "### 5.2.6 Ausführung von Funktionen: lokale und globale Variablen\n",
    "\n",
    "Schauen Sie sich bitte folgende Funktionsimplementierung an. Was macht die Funktion?"
   ]
  },
  {
   "cell_type": "code",
   "execution_count": null,
   "id": "6c69ef33-21f5-4375-918b-583904811445",
   "metadata": {},
   "outputs": [],
   "source": [
    "def erhoehe_um_eins(x):\n",
    "    x = x + 1"
   ]
  },
  {
   "cell_type": "code",
   "execution_count": null,
   "id": "bea66bb6-0d80-4e65-a771-902555b61216",
   "metadata": {},
   "outputs": [],
   "source": [
    "x = 17\n",
    "print(x)\n",
    "\n",
    "# jetzt Funktion anwenden\n",
    "print('jetzt Funktion auf x anwenden...')\n",
    "erhoehe_um_eins(x)\n",
    "print(x)"
   ]
  },
  {
   "cell_type": "markdown",
   "id": "a27dbf6f-9334-4e49-af51-b8fb41b9789c",
   "metadata": {},
   "source": [
    "Wir schauen in die Funktion \"hinein\", um zu sehen, ob vielleicht gar nicht erhöht wurde."
   ]
  },
  {
   "cell_type": "code",
   "execution_count": null,
   "id": "a627e2cc-e665-4aec-88a1-ae74a077aaa6",
   "metadata": {},
   "outputs": [],
   "source": [
    "def erhoehe_um_eins(x):\n",
    "    print('in der Funktion vor der Erhöhung:')\n",
    "    print(x)\n",
    "    \n",
    "    # Erhöhung\n",
    "    x = x + 1\n",
    "    \n",
    "    print('in der Funktion nach der Erhöhung:')\n",
    "    print(x)    "
   ]
  },
  {
   "cell_type": "code",
   "execution_count": null,
   "id": "82f35465-da94-4ace-bb5a-b6e9f5e8eb63",
   "metadata": {},
   "outputs": [],
   "source": [
    "x = 17\n",
    "print(x)\n",
    "\n",
    "# jetzt Funktion anwenden\n",
    "print('jetzt Funktion auf x anwenden...')\n",
    "erhoehe_um_eins(x)\n",
    "print(x)"
   ]
  },
  {
   "cell_type": "markdown",
   "id": "ffa09f64-4bea-4210-b7c9-266625a3f1b6",
   "metadata": {},
   "source": [
    "Was ist passiert? Die Variable `x` in der Funktion ist eine lokale Variable. Es ist Zufall, das sie so heißt, wie die Variable außerhalb der Funktion. Ein Programmierer einer Funktion kann nicht vorab wissen, wie alle anderen Variablen genannt werden. Daher müssen alle Variablen in der Funktion lokal bleiben, um nicht unabsichtlich Variablen, die dummerweise oder absichtlich den gleichen Namen tragen, zu verändern.\n",
    "\n",
    "Möchte man erreichen, dass eine Funktion den Wert ändern, kann man dies über die Rückgabe und explizite Zuweisung erreichen."
   ]
  },
  {
   "cell_type": "code",
   "execution_count": null,
   "id": "a4f45d0f-f078-400d-8939-45dcccbee0e0",
   "metadata": {},
   "outputs": [],
   "source": [
    "def erhoehe_um_eins(x):\n",
    "    x = x + 1\n",
    "    return x\n",
    "\n",
    "x = 17\n",
    "print('vorher', x)\n",
    " \n",
    "x = erhoehe_um_eins(x)\n",
    "print('nachher', x)"
   ]
  },
  {
   "cell_type": "markdown",
   "id": "d9676fe8-a088-49ca-a5fd-9b35c8fc90a0",
   "metadata": {},
   "source": [
    "## Aufgaben zur Vertiefung"
   ]
  },
  {
   "cell_type": "markdown",
   "id": "7e86ebcf-0a97-47db-b080-9613fd5a7f02",
   "metadata": {},
   "source": [
    "#### Aufgabe 5.11\n",
    "\n",
    "Schreiben Sie eine Funktion, die als Argument einen Integer n übergeben bekommt und danach n-mal das Wort Hallo ausdruckt. Testen Sie anschließend Ihre Funktion in einer neuen Code-Zelle."
   ]
  },
  {
   "cell_type": "code",
   "execution_count": null,
   "id": "5f547d2c-c14f-4758-b6fa-3a650074a126",
   "metadata": {},
   "outputs": [],
   "source": []
  },
  {
   "cell_type": "markdown",
   "id": "fa8de7ad-902f-4786-af52-0789b4a5ff3b",
   "metadata": {},
   "source": [
    "#### Aufgabe 5.12\n",
    "\n",
    "Schreiben Sie eine Funktion, die als Input einen Integer N entgegen nimmt und dann eine Liste von N Zufallszahlen zwischen 1 und 100 zurückgibt. Testen Sie anschließend diese Funktion.\n",
    "\n",
    "Tipp: die Funktion `randint(a,b)` generiert eine Zufallszahl zwischen $a$ und $b$. Allerdings müssen vorher die Zufallsfunktionen aus dem Modul `random` geladen werden, also `from random import *` ausgeführt werden."
   ]
  },
  {
   "cell_type": "code",
   "execution_count": null,
   "id": "09934009-2fa4-4931-ad9b-30dae9f22ee3",
   "metadata": {},
   "outputs": [],
   "source": []
  },
  {
   "cell_type": "markdown",
   "id": "cd3a981a-2214-4fd4-8ef6-d2f0fc91142d",
   "metadata": {},
   "source": [
    "#### Aufgabe 5.13\n",
    "\n",
    "Schreiben Sie eine Funktion, die eine Liste von Zahlen entgegen nimmt, dann den Mittelwert berechnet und zurückgibt. Testen Sie anschließend diese Funktion."
   ]
  },
  {
   "cell_type": "code",
   "execution_count": null,
   "id": "2af21ce6-6b9e-42ec-b26f-f063a8bf279b",
   "metadata": {},
   "outputs": [],
   "source": []
  },
  {
   "cell_type": "markdown",
   "id": "f8690036-2422-4c0a-8871-3bebde449380",
   "metadata": {},
   "source": [
    "### Aufgabe 5.14 Lotto\n",
    "\n",
    "Schreiben Sie ein Programm, das zuerst den Benutzer sechs Zahlen zwischen 1 und 49 wählen lässt. Dabei soll das Programm überprüfen, dass keine Zahl mehrfach eingegeben wird. Lassen Sie dann den Zufallszahlengenerator sechs Lottozahlen zwischen 1 und 49 ziehen (Hinweis: randint(a,b) aus dem Modul random). Dabei darf ebenfalls keine Zufallszahl mehrfach gezogen werden. Teilen Sie dme benutzer anschließend mit, wie viele richtige Zahlen getippt wurden."
   ]
  },
  {
   "cell_type": "code",
   "execution_count": null,
   "id": "c7dfc526-bd29-40c0-b17c-bc744ce5598b",
   "metadata": {},
   "outputs": [],
   "source": []
  }
 ],
 "metadata": {
  "kernelspec": {
   "display_name": "Python 3",
   "language": "python",
   "name": "python3"
  },
  "language_info": {
   "codemirror_mode": {
    "name": "ipython",
    "version": 3
   },
   "file_extension": ".py",
   "mimetype": "text/x-python",
   "name": "python",
   "nbconvert_exporter": "python",
   "pygments_lexer": "ipython3",
   "version": "3.8.3"
  }
 },
 "nbformat": 4,
 "nbformat_minor": 5
}
